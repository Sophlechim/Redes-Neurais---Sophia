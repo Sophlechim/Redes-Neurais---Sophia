{
 "cells": [
  {
   "cell_type": "markdown",
   "metadata": {},
   "source": [
    "Computando os gradientes locais automaticamente\n",
    "===============================================\n",
    "\n"
   ]
  },
  {
   "cell_type": "markdown",
   "metadata": {},
   "source": [
    "## Introdução\n",
    "\n"
   ]
  },
  {
   "cell_type": "markdown",
   "metadata": {},
   "source": [
    "Em um notebook anterior nós criamos uma classe chamada `Valor` que serviu de base para registrar o nosso `grafo computacional`. Este foi um passo importantíssimo para construirmos a nossa rede neural artificial.\n",
    "\n",
    "Neste notebook nós vamos atualizar a classe `Valor` para que ela seja capaz de computar o gradiente local de cada vértice numérico do grafo computacional. Esse cálculo será feito &ldquo;de trás para frente&rdquo;, iniciando pelo vértice folha e retornando até os vértices raiz. O nome desse processo é `backpropagation` e é o coração do processo de treinar uma rede neural artificial.\n",
    "\n"
   ]
  },
  {
   "cell_type": "markdown",
   "metadata": {},
   "source": [
    "## Importações\n",
    "\n"
   ]
  },
  {
   "cell_type": "code",
   "execution_count": 1,
   "metadata": {},
   "outputs": [],
   "source": [
    "from funcoes import plota_grafo"
   ]
  },
  {
   "cell_type": "markdown",
   "metadata": {},
   "source": [
    "## Código e discussão\n",
    "\n"
   ]
  },
  {
   "cell_type": "markdown",
   "metadata": {},
   "source": [
    "### Relembrando o que temos\n",
    "\n"
   ]
  },
  {
   "cell_type": "markdown",
   "metadata": {},
   "source": [
    "No notebook anterior construímos a seguinte classe chamada `Valor`:\n",
    "\n"
   ]
  },
  {
   "cell_type": "code",
   "execution_count": 2,
   "metadata": {},
   "outputs": [],
   "source": [
    "class Valor:\n",
    "    def __init__(self, data, progenitor=(), operador_mae=\"\", rotulo=\"\"):\n",
    "        self.data = data\n",
    "        self.progenitor = progenitor\n",
    "        self.operador_mae = operador_mae\n",
    "        self.rotulo = rotulo\n",
    "\n",
    "    def __repr__(self):\n",
    "        return f\"Valor(data={self.data})\"\n",
    "\n",
    "    def __add__(self, outro_valor):\n",
    "        data = self.data + outro_valor.data\n",
    "        progenitor = (self, outro_valor)\n",
    "        operador_mae = \"+\"\n",
    "        saida = Valor(data, progenitor, operador_mae)\n",
    "        return saida\n",
    "\n",
    "    def __mul__(self, outro_valor):\n",
    "        data = self.data * outro_valor.data\n",
    "        progenitor = (self, outro_valor)\n",
    "        operador_mae = \"*\"\n",
    "        saida = Valor(data, progenitor, operador_mae)\n",
    "        return saida"
   ]
  },
  {
   "cell_type": "markdown",
   "metadata": {},
   "source": [
    "Com essa classe nós conseguimos plotar o grafo computacional que criamos na primeira aula sobre redes neurais artificiais usando a função `plota_grafo` criada por Andrej. Esse grafo computacional representa uma rede neural que nós criamos para prever o valor $y$.\n",
    "\n"
   ]
  },
  {
   "cell_type": "code",
   "execution_count": 3,
   "metadata": {},
   "outputs": [
    {
     "name": "stdout",
     "output_type": "stream",
     "text": [
      "digraph {\n",
      "\tgraph [rankdir=LR]\n",
      "\t1757704428608 [label=\"{ w3 | data 2.0000 }\" shape=record]\n",
      "\t1757704429184 [label=\"{ y | data 1454.0000 }\" shape=record]\n",
      "\t\"1757704429184*\" [label=\"*\"]\n",
      "\t\"1757704429184*\" -> 1757704429184\n",
      "\t1757704428704 [label=\"{ b | data 7.0000 }\" shape=record]\n",
      "\t1757704429232 [label=\"{ n | data 720.0000 }\" shape=record]\n",
      "\t\"1757704429232+\" [label=\"+\"]\n",
      "\t\"1757704429232+\" -> 1757704429232\n",
      "\t1757704428224 [label=\"{ x2 | data 24.0000 }\" shape=record]\n",
      "\t1757704429280 [label=\"{ s2 | data 120.0000 }\" shape=record]\n",
      "\t\"1757704429280*\" [label=\"*\"]\n",
      "\t\"1757704429280*\" -> 1757704429280\n",
      "\t1757704429328 [label=\"{ k | data 727.0000 }\" shape=record]\n",
      "\t\"1757704429328+\" [label=\"+\"]\n",
      "\t\"1757704429328+\" -> 1757704429328\n",
      "\t1757704428320 [label=\"{ x1 | data 60.0000 }\" shape=record]\n",
      "\t1757704428416 [label=\"{ w1 | data 10.0000 }\" shape=record]\n",
      "\t1757704429520 [label=\"{ s1 | data 600.0000 }\" shape=record]\n",
      "\t\"1757704429520*\" [label=\"*\"]\n",
      "\t\"1757704429520*\" -> 1757704429520\n",
      "\t1757704428512 [label=\"{ w2 | data 5.0000 }\" shape=record]\n",
      "\t1757704429520 -> \"1757704429232+\"\n",
      "\t1757704429280 -> \"1757704429232+\"\n",
      "\t1757704428416 -> \"1757704429520*\"\n",
      "\t1757704428512 -> \"1757704429280*\"\n",
      "\t1757704429232 -> \"1757704429328+\"\n",
      "\t1757704428704 -> \"1757704429328+\"\n",
      "\t1757704428320 -> \"1757704429520*\"\n",
      "\t1757704428224 -> \"1757704429280*\"\n",
      "\t1757704429328 -> \"1757704429184*\"\n",
      "\t1757704428608 -> \"1757704429184*\"\n",
      "}\n",
      "\n"
     ]
    }
   ],
   "source": [
    "x1 = Valor(60, rotulo=\"x1\")\n",
    "x2 = Valor(24, rotulo=\"x2\")\n",
    "w1 = Valor(10, rotulo=\"w1\")\n",
    "w2 = Valor(5, rotulo=\"w2\")\n",
    "w3 = Valor(2, rotulo=\"w3\")\n",
    "b = Valor(7, rotulo=\"b\")\n",
    "\n",
    "s1 = x1 * w1\n",
    "s1.rotulo = \"s1\"\n",
    "\n",
    "s2 = x2 * w2\n",
    "s2.rotulo = \"s2\"\n",
    "\n",
    "n = s1 + s2\n",
    "n.rotulo = \"n\"\n",
    "\n",
    "k = n + b\n",
    "k.rotulo = \"k\"\n",
    "\n",
    "y = k * w3\n",
    "y.rotulo = \"y\"\n",
    "\n",
    "grafo = plota_grafo(y)\n",
    "print(grafo)"
   ]
  },
  {
   "cell_type": "markdown",
   "metadata": {},
   "source": [
    "### Preparando o terreno para o cálculo do gradiente local\n",
    "\n"
   ]
  },
  {
   "cell_type": "markdown",
   "metadata": {},
   "source": [
    "Cada valor numérico do grafo computacional deve ter um valor de `gradiente local` associado a ele. O gradiente local representa a derivada parcial do vértice final do grafo computacional (que é $y$ no nosso caso, também conhecido como vértice folha) em relação a o valor do vértice em questão.\n",
    "\n",
    "Suponha que nosso vértice folha se chame $y$. Agora suponha que nós temos um vértice qualquer no nosso grafo computacional que se chama $w_2$. O gradiente local de $w_2$ nada mais é do que:\n",
    "\n",
    "$$\n",
    "\\frac{\\partial y}{\\partial w_2}\n",
    "$$\n",
    "\n",
    "Se cada valor tem um gradiente local, então precisamos registrar isso na nossa classe. Vamos criar uma propriedade chamada `grad`. Vamos dar o valor padrão de zero para essa propriedade. Na próxima seção iremos alterar esse valor.\n",
    "\n"
   ]
  },
  {
   "cell_type": "code",
   "execution_count": 4,
   "metadata": {},
   "outputs": [],
   "source": [
    "class Valor:\n",
    "    def __init__(self, data, progenitor=(), operador_mae=\"\", rotulo=\"\"):\n",
    "        self.data = data\n",
    "        self.progenitor = progenitor\n",
    "        self.operador_mae = operador_mae\n",
    "        self.rotulo = rotulo\n",
    "        self.grad = 0\n",
    "\n",
    "    def __repr__(self):\n",
    "        return f\"Valor(data={self.data})\"\n",
    "\n",
    "    def __add__(self, outro_valor):\n",
    "        data = self.data + outro_valor.data\n",
    "        progenitor = (self, outro_valor)\n",
    "        operador_mae = \"+\"\n",
    "        saida = Valor(data, progenitor, operador_mae)\n",
    "        return saida\n",
    "\n",
    "    def __mul__(self, outro_valor):\n",
    "        data = self.data * outro_valor.data\n",
    "        progenitor = (self, outro_valor)\n",
    "        operador_mae = \"*\"\n",
    "        saida = Valor(data, progenitor, operador_mae)\n",
    "        return saida"
   ]
  },
  {
   "cell_type": "markdown",
   "metadata": {},
   "source": [
    "Com essa alteração, agora o grafo computacional mostra o gradiente! Mas o valor do gradiente ainda está errado&#x2026;\n",
    "\n"
   ]
  },
  {
   "cell_type": "code",
   "execution_count": 5,
   "metadata": {},
   "outputs": [
    {
     "name": "stdout",
     "output_type": "stream",
     "text": [
      "digraph {\n",
      "\tgraph [rankdir=LR]\n",
      "\t1757704427552 [label=\"{ w2 | data 5.0000 | grad 0.0000 }\" shape=record]\n",
      "\t1757704426592 [label=\"{ x2 | data 24.0000 | grad 0.0000 }\" shape=record]\n",
      "\t1757704427648 [label=\"{ w3 | data 2.0000 | grad 0.0000 }\" shape=record]\n",
      "\t1757704418976 [label=\"{ y | data 1454.0000 | grad 0.0000 }\" shape=record]\n",
      "\t\"1757704418976*\" [label=\"*\"]\n",
      "\t\"1757704418976*\" -> 1757704418976\n",
      "\t1757704427696 [label=\"{ x1 | data 60.0000 | grad 0.0000 }\" shape=record]\n",
      "\t1757704419072 [label=\"{ n | data 720.0000 | grad 0.0000 }\" shape=record]\n",
      "\t\"1757704419072+\" [label=\"+\"]\n",
      "\t\"1757704419072+\" -> 1757704419072\n",
      "\t1757704417584 [label=\"{ s1 | data 600.0000 | grad 0.0000 }\" shape=record]\n",
      "\t\"1757704417584*\" [label=\"*\"]\n",
      "\t\"1757704417584*\" -> 1757704417584\n",
      "\t1757704419696 [label=\"{ s2 | data 120.0000 | grad 0.0000 }\" shape=record]\n",
      "\t\"1757704419696*\" [label=\"*\"]\n",
      "\t\"1757704419696*\" -> 1757704419696\n",
      "\t1757704419312 [label=\"{ b | data 7.0000 | grad 0.0000 }\" shape=record]\n",
      "\t1757704419264 [label=\"{ k | data 727.0000 | grad 0.0000 }\" shape=record]\n",
      "\t\"1757704419264+\" [label=\"+\"]\n",
      "\t\"1757704419264+\" -> 1757704419264\n",
      "\t1757704427504 [label=\"{ w1 | data 10.0000 | grad 0.0000 }\" shape=record]\n",
      "\t1757704419696 -> \"1757704419072+\"\n",
      "\t1757704427504 -> \"1757704417584*\"\n",
      "\t1757704419312 -> \"1757704419264+\"\n",
      "\t1757704419072 -> \"1757704419264+\"\n",
      "\t1757704419264 -> \"1757704418976*\"\n",
      "\t1757704417584 -> \"1757704419072+\"\n",
      "\t1757704427696 -> \"1757704417584*\"\n",
      "\t1757704426592 -> \"1757704419696*\"\n",
      "\t1757704427552 -> \"1757704419696*\"\n",
      "\t1757704427648 -> \"1757704418976*\"\n",
      "}\n",
      "\n"
     ]
    }
   ],
   "source": [
    "x1 = Valor(60, rotulo=\"x1\")\n",
    "x2 = Valor(24, rotulo=\"x2\")\n",
    "w1 = Valor(10, rotulo=\"w1\")\n",
    "w2 = Valor(5, rotulo=\"w2\")\n",
    "w3 = Valor(2, rotulo=\"w3\")\n",
    "b = Valor(7, rotulo=\"b\")\n",
    "\n",
    "s1 = x1 * w1\n",
    "s1.rotulo = \"s1\"\n",
    "\n",
    "s2 = x2 * w2\n",
    "s2.rotulo = \"s2\"\n",
    "\n",
    "n = s1 + s2\n",
    "n.rotulo = \"n\"\n",
    "\n",
    "k = n + b\n",
    "k.rotulo = \"k\"\n",
    "\n",
    "y = k * w3\n",
    "y.rotulo = \"y\"\n",
    "\n",
    "grafo2 = plota_grafo(y)\n",
    "print(grafo2)"
   ]
  },
  {
   "cell_type": "markdown",
   "metadata": {},
   "source": [
    "### Calculando o gradiente local &ldquo;na mão&rdquo;\n",
    "\n"
   ]
  },
  {
   "cell_type": "markdown",
   "metadata": {},
   "source": [
    "Vamos relembrar o cálculo do gradiente local e calcular os gradientes na mão! Para isso usaremos de noções básicas de derivada e da regra da cadeia.\n",
    "\n"
   ]
  },
  {
   "cell_type": "code",
   "execution_count": 6,
   "metadata": {},
   "outputs": [
    {
     "name": "stdout",
     "output_type": "stream",
     "text": [
      "digraph {\n",
      "\tgraph [rankdir=LR]\n",
      "\t1757704418448 [label=\"{ w1 | data 10.0000 | grad 120.0000 }\" shape=record]\n",
      "\t1757704410784 [label=\"{ y | data 1454.0000 | grad 1.0000 }\" shape=record]\n",
      "\t\"1757704410784*\" [label=\"*\"]\n",
      "\t\"1757704410784*\" -> 1757704410784\n",
      "\t1757704410304 [label=\"{ k | data 727.0000 | grad 2.0000 }\" shape=record]\n",
      "\t\"1757704410304+\" [label=\"+\"]\n",
      "\t\"1757704410304+\" -> 1757704410304\n",
      "\t1757704418160 [label=\"{ w2 | data 5.0000 | grad 48.0000 }\" shape=record]\n",
      "\t1757704425776 [label=\"{ n | data 720.0000 | grad 2.0000 }\" shape=record]\n",
      "\t\"1757704425776+\" [label=\"+\"]\n",
      "\t\"1757704425776+\" -> 1757704425776\n",
      "\t1757704427312 [label=\"{ b | data 7.0000 | grad 2.0000 }\" shape=record]\n",
      "\t1757704421232 [label=\"{ x1 | data 60.0000 | grad 20.0000 }\" shape=record]\n",
      "\t1757704427408 [label=\"{ s1 | data 600.0000 | grad 2.0000 }\" shape=record]\n",
      "\t\"1757704427408*\" [label=\"*\"]\n",
      "\t\"1757704427408*\" -> 1757704427408\n",
      "\t1757704426400 [label=\"{ s2 | data 120.0000 | grad 2.0000 }\" shape=record]\n",
      "\t\"1757704426400*\" [label=\"*\"]\n",
      "\t\"1757704426400*\" -> 1757704426400\n",
      "\t1757704420320 [label=\"{ w3 | data 2.0000 | grad 727.0000 }\" shape=record]\n",
      "\t1757704417776 [label=\"{ x2 | data 24.0000 | grad 10.0000 }\" shape=record]\n",
      "\t1757704417776 -> \"1757704426400*\"\n",
      "\t1757704425776 -> \"1757704410304+\"\n",
      "\t1757704427408 -> \"1757704425776+\"\n",
      "\t1757704418160 -> \"1757704426400*\"\n",
      "\t1757704426400 -> \"1757704425776+\"\n",
      "\t1757704418448 -> \"1757704427408*\"\n",
      "\t1757704427312 -> \"1757704410304+\"\n",
      "\t1757704410304 -> \"1757704410784*\"\n",
      "\t1757704421232 -> \"1757704427408*\"\n",
      "\t1757704420320 -> \"1757704410784*\"\n",
      "}\n",
      "\n"
     ]
    }
   ],
   "source": [
    "x1 = Valor(60, rotulo=\"x1\")\n",
    "x2 = Valor(24, rotulo=\"x2\")\n",
    "w1 = Valor(10, rotulo=\"w1\")\n",
    "w2 = Valor(5, rotulo=\"w2\")\n",
    "w3 = Valor(2, rotulo=\"w3\")\n",
    "b = Valor(7, rotulo=\"b\")\n",
    "\n",
    "s1 = x1 * w1\n",
    "s1.rotulo = \"s1\"\n",
    "\n",
    "s2 = x2 * w2\n",
    "s2.rotulo = \"s2\"\n",
    "\n",
    "n = s1 + s2\n",
    "n.rotulo = \"n\"\n",
    "\n",
    "k = n + b\n",
    "k.rotulo = \"k\"\n",
    "\n",
    "y = k * w3\n",
    "y.rotulo = \"y\"\n",
    "\n",
    "y.grad = 1 # dy/dy  (esse é o vértice folha!)\n",
    "\n",
    "w3.grad = y.grad * k.data # dy/dw3\n",
    "k.grad = y.grad * w3.data # dy/dk\n",
    "\n",
    "b.grad = k.grad * 1 # dy/db = dy/dk * dk/db\n",
    "n.grad = k.grad * 1 # dy/dn = dy/dk * dk/dn\n",
    "\n",
    "s2.grad = n.grad * 1 # dy/ds2 = dy/dn * dn/s2\n",
    "s1.grad = n.grad * 1 # dy/ds1 = dy/dn * dn/s1\n",
    "\n",
    "x2.grad = s2.grad * w2.data # dy/dx2 = dy/ds2 * ds2/dx2\n",
    "w2.grad = s2.grad * x2.data # dy/dw2 = dy/ds2 * ds2/dw2\n",
    "\n",
    "x1.grad = s1.grad * w1.data # dy/dx1 = dy/ds1 * ds1/dx1\n",
    "w1.grad = s1.grad * x1.data # dy/dw1 = dy/ds1 * ds1/dw1\n",
    "\n",
    "grafo3 = plota_grafo(y)\n",
    "print(grafo3)"
   ]
  },
  {
   "cell_type": "markdown",
   "metadata": {},
   "source": [
    "### Treinando uma rede neural &ldquo;na mão&rdquo;\n",
    "\n"
   ]
  },
  {
   "cell_type": "markdown",
   "metadata": {},
   "source": [
    "Agora que temos um grafo computacional com todos os gradientes locais calculados, podemos treinar a nossa rede neural manualmente.\n",
    "\n",
    "Suponha, por um momento, que eu queira aumentar o valor de $y$ de saída da minha rede neural. Tem duas coisas que eu sei:\n",
    "\n",
    "1.  eu posso apenas alterar os parâmetros internos da minha rede neural, isto é: $w_1$, $w_2$, $w_3$ e $b$. Os demais parâmetros eu não posso alterar pois ou são dados de entrada ($x_1$ e $x_2$) ou são parâmetros derivados de outros parâmetros ($k$, $n$, $s_1$, $s_2$ e $y$).\n",
    "\n",
    "2.  o gradiente local indica o &ldquo;impacto&rdquo; que teremos no valor de $y$. Um gradiente local positivo me indica que ao aumentar o respectivo valor do vértice eu aumento o valor de $y$. Um gradiente local negativo me indica que ao aumentar o respectivo valor do vértice eu diminuo o valor de $y$.\n",
    "\n",
    "Sabendo destes dois fatos, como que eu posso aumentar o valor de saída de $y$ apenas alterando os parâmetros internos da minha rede neural?\n",
    "\n"
   ]
  },
  {
   "cell_type": "code",
   "execution_count": 7,
   "metadata": {},
   "outputs": [
    {
     "name": "stdout",
     "output_type": "stream",
     "text": [
      "digraph {\n",
      "\tgraph [rankdir=LR]\n",
      "\t1757704418448 [label=\"{ w1 | data 10.1200 | grad 163.6200 }\" shape=record]\n",
      "\t1757704511696 [label=\"{ s1 | data 607.2000 | grad 2.7270 }\" shape=record]\n",
      "\t\"1757704511696*\" [label=\"*\"]\n",
      "\t\"1757704511696*\" -> 1757704511696\n",
      "\t1757704418160 [label=\"{ w2 | data 5.0480 | grad 65.4480 }\" shape=record]\n",
      "\t1757704511744 [label=\"{ s2 | data 121.1520 | grad 2.7270 }\" shape=record]\n",
      "\t\"1757704511744*\" [label=\"*\"]\n",
      "\t\"1757704511744*\" -> 1757704511744\n",
      "\t1757704427312 [label=\"{ b | data 7.0020 | grad 2.7270 }\" shape=record]\n",
      "\t1757704511840 [label=\"{ k | data 735.3540 | grad 2.7270 }\" shape=record]\n",
      "\t\"1757704511840+\" [label=\"+\"]\n",
      "\t\"1757704511840+\" -> 1757704511840\n",
      "\t1757704421232 [label=\"{ x1 | data 60.0000 | grad 27.5972 }\" shape=record]\n",
      "\t1757704511888 [label=\"{ n | data 728.3520 | grad 2.7270 }\" shape=record]\n",
      "\t\"1757704511888+\" [label=\"+\"]\n",
      "\t\"1757704511888+\" -> 1757704511888\n",
      "\t1757704511936 [label=\"{ y | data 2005.3104 | grad 1.0000 }\" shape=record]\n",
      "\t\"1757704511936*\" [label=\"*\"]\n",
      "\t\"1757704511936*\" -> 1757704511936\n",
      "\t1757704420320 [label=\"{ w3 | data 2.7270 | grad 735.3540 }\" shape=record]\n",
      "\t1757704417776 [label=\"{ x2 | data 24.0000 | grad 13.7659 }\" shape=record]\n",
      "\t1757704427312 -> \"1757704511840+\"\n",
      "\t1757704420320 -> \"1757704511936*\"\n",
      "\t1757704511840 -> \"1757704511936*\"\n",
      "\t1757704511696 -> \"1757704511888+\"\n",
      "\t1757704511888 -> \"1757704511840+\"\n",
      "\t1757704418448 -> \"1757704511696*\"\n",
      "\t1757704511744 -> \"1757704511888+\"\n",
      "\t1757704417776 -> \"1757704511744*\"\n",
      "\t1757704418160 -> \"1757704511744*\"\n",
      "\t1757704421232 -> \"1757704511696*\"\n",
      "}\n",
      "\n"
     ]
    }
   ],
   "source": [
    "taxa_de_aprendizado = 0.001\n",
    "\n",
    "w1.data = w1.data + taxa_de_aprendizado * w1.grad\n",
    "w2.data = w2.data + taxa_de_aprendizado * w2.grad\n",
    "w3.data = w3.data + taxa_de_aprendizado * w3.grad\n",
    "b.data = b.data + taxa_de_aprendizado * b.grad\n",
    "\n",
    "s1 = x1 * w1\n",
    "s1.rotulo = \"s1\"\n",
    "\n",
    "s2 = x2 * w2\n",
    "s2.rotulo = \"s2\"\n",
    "\n",
    "n = s1 + s2\n",
    "n.rotulo = \"n\"\n",
    "\n",
    "k = n + b\n",
    "k.rotulo = \"k\"\n",
    "\n",
    "y = k * w3\n",
    "y.rotulo = \"y\"\n",
    "\n",
    "y.grad = 1 # dy/dy  (esse é o vértice folha!)\n",
    "\n",
    "w3.grad = y.grad * k.data # dy/dw3\n",
    "k.grad = y.grad * w3.data # dy/dk\n",
    "\n",
    "b.grad = k.grad * 1 # dy/db = dy/dk * dk/db\n",
    "n.grad = k.grad * 1 # dy/dn = dy/dk * dk/dn\n",
    "\n",
    "s2.grad = n.grad * 1 # dy/ds2 = dy/dn * dn/s2\n",
    "s1.grad = n.grad * 1 # dy/ds1 = dy/dn * dn/s1\n",
    "\n",
    "x2.grad = s2.grad * w2.data # dy/dx2 = dy/ds2 * ds2/dx2\n",
    "w2.grad = s2.grad * x2.data # dy/dw2 = dy/ds2 * ds2/dw2\n",
    "\n",
    "x1.grad = s1.grad * w1.data # dy/dx1 = dy/ds1 * ds1/dx1\n",
    "w1.grad = s1.grad * x1.data # dy/dw1 = dy/ds1 * ds1/dw1\n",
    "\n",
    "grafo3 = plota_grafo(y)\n",
    "print(grafo3)"
   ]
  },
  {
   "cell_type": "markdown",
   "metadata": {},
   "source": [
    "### Cálculo automático do gradiente local\n",
    "\n"
   ]
  },
  {
   "cell_type": "markdown",
   "metadata": {},
   "source": [
    "Calcular o gradiente local &ldquo;na mão&rdquo; não é a tarefa mais rápida nem a mais prazerosa que existe. Você certamente consegue pensar em uma, quem sabe até duas tarefas mais rápidas e prazerosas que essa. Tendo observado isso, pessoas refletiram se não seria possível de realizar esse cálculo de maneira automática para sobrar mais tempo na vida para se dedicar a outras tarefas. *Spoiler*: é possível!\n",
    "\n",
    "Nossa classe `Valor` agora terá um método chamado `propagar`. Esse método irá, como o nome sugere, propagar o gradiente local de um certo vértice para seus progenitores.\n",
    "\n",
    "Como padrão, o método `propagar` não irá fazer nada. Isso será o caso de vértices raiz que não têm progenitores (se não tem progenitor, então não tem o que propagar!).\n",
    "\n",
    "Quando um vértice tem progenitores, daí teremos que sobrescrever o método `propagar` para que ele efetivamente propague os gradientes seguindo a regra da cadeia. Vamos fazer isso nos métodos `__add__` e `__mul__`.\n",
    "\n"
   ]
  },
  {
   "cell_type": "code",
   "execution_count": 9,
   "metadata": {},
   "outputs": [],
   "source": [
    "class Valor:\n",
    "    def __init__(self, data, progenitor=(), operador_mae=\"\", rotulo=\"\"):\n",
    "        self.data = data\n",
    "        self.progenitor = progenitor\n",
    "        self.operador_mae = operador_mae\n",
    "        self.rotulo = rotulo\n",
    "        self.grad = 0\n",
    "\n",
    "    def __repr__(self):\n",
    "        return f\"Valor(data={self.data})\"\n",
    "\n",
    "    def __add__(self, outro_valor):\n",
    "        data = self.data + outro_valor.data\n",
    "        progenitor = (self, outro_valor)\n",
    "        operador_mae = \"+\"\n",
    "        saida = Valor(data, progenitor, operador_mae)\n",
    "\n",
    "        def propagar():\n",
    "            self.grad = saida.grad * 1\n",
    "            outro_valor.grad = saida.grad * 1\n",
    "\n",
    "        saida.propagar = propagar\n",
    "\n",
    "        return saida\n",
    "\n",
    "    def __mul__(self, outro_valor):\n",
    "        data = self.data * outro_valor.data\n",
    "        progenitor = (self, outro_valor)\n",
    "        operador_mae = \"*\"\n",
    "        saida = Valor(data, progenitor, operador_mae)\n",
    "\n",
    "        def propagar():\n",
    "            self.grad = saida.grad * outro_valor.data\n",
    "            outro_valor.grad = saida.grad * self.data\n",
    "\n",
    "        saida.propagar = propagar\n",
    "\n",
    "        return saida\n",
    "\n",
    "    def propagar(self):\n",
    "        pass"
   ]
  },
  {
   "cell_type": "markdown",
   "metadata": {},
   "source": [
    "Vamos testar!!\n",
    "\n"
   ]
  },
  {
   "cell_type": "code",
   "execution_count": 10,
   "metadata": {},
   "outputs": [
    {
     "name": "stdout",
     "output_type": "stream",
     "text": [
      "digraph {\n",
      "\tgraph [rankdir=LR]\n",
      "\t1757704512512 [label=\"{ s1 | data 600.0000 | grad 2.0000 }\" shape=record]\n",
      "\t\"1757704512512*\" [label=\"*\"]\n",
      "\t\"1757704512512*\" -> 1757704512512\n",
      "\t1757704409632 [label=\"{ w2 | data 5.0000 | grad 48.0000 }\" shape=record]\n",
      "\t1757704514096 [label=\"{ w3 | data 2.0000 | grad 727.0000 }\" shape=record]\n",
      "\t1757704514624 [label=\"{ b | data 7.0000 | grad 2.0000 }\" shape=record]\n",
      "\t1757703919216 [label=\"{ k | data 727.0000 | grad 2.0000 }\" shape=record]\n",
      "\t\"1757703919216+\" [label=\"+\"]\n",
      "\t\"1757703919216+\" -> 1757703919216\n",
      "\t1757704514768 [label=\"{ s2 | data 120.0000 | grad 2.0000 }\" shape=record]\n",
      "\t\"1757704514768*\" [label=\"*\"]\n",
      "\t\"1757704514768*\" -> 1757704514768\n",
      "\t1757704409344 [label=\"{ x2 | data 24.0000 | grad 10.0000 }\" shape=record]\n",
      "\t1757704412992 [label=\"{ x1 | data 60.0000 | grad 20.0000 }\" shape=record]\n",
      "\t1757703919456 [label=\"{ n | data 720.0000 | grad 2.0000 }\" shape=record]\n",
      "\t\"1757703919456+\" [label=\"+\"]\n",
      "\t\"1757703919456+\" -> 1757703919456\n",
      "\t1757704412032 [label=\"{ w1 | data 10.0000 | grad 120.0000 }\" shape=record]\n",
      "\t1757703919024 [label=\"{ y | data 1454.0000 | grad 1.0000 }\" shape=record]\n",
      "\t\"1757703919024*\" [label=\"*\"]\n",
      "\t\"1757703919024*\" -> 1757703919024\n",
      "\t1757703919216 -> \"1757703919024*\"\n",
      "\t1757704514096 -> \"1757703919024*\"\n",
      "\t1757703919456 -> \"1757703919216+\"\n",
      "\t1757704409344 -> \"1757704514768*\"\n",
      "\t1757704514624 -> \"1757703919216+\"\n",
      "\t1757704512512 -> \"1757703919456+\"\n",
      "\t1757704514768 -> \"1757703919456+\"\n",
      "\t1757704412992 -> \"1757704512512*\"\n",
      "\t1757704409632 -> \"1757704514768*\"\n",
      "\t1757704412032 -> \"1757704512512*\"\n",
      "}\n",
      "\n"
     ]
    }
   ],
   "source": [
    "x1 = Valor(60, rotulo=\"x1\")\n",
    "x2 = Valor(24, rotulo=\"x2\")\n",
    "w1 = Valor(10, rotulo=\"w1\")\n",
    "w2 = Valor(5, rotulo=\"w2\")\n",
    "w3 = Valor(2, rotulo=\"w3\")\n",
    "b = Valor(7, rotulo=\"b\")\n",
    "\n",
    "s1 = x1 * w1\n",
    "s1.rotulo = \"s1\"\n",
    "\n",
    "s2 = x2 * w2\n",
    "s2.rotulo = \"s2\"\n",
    "\n",
    "n = s1 + s2\n",
    "n.rotulo = \"n\"\n",
    "\n",
    "k = n + b\n",
    "k.rotulo = \"k\"\n",
    "\n",
    "y = k * w3\n",
    "y.rotulo = \"y\"\n",
    "\n",
    "y.grad = 1  # precisamos iniciar o gradiente do vértice folha \"na mão\"\n",
    "y.propagar()\n",
    "k.propagar()\n",
    "w3.propagar()\n",
    "n.propagar()\n",
    "b.propagar()\n",
    "s1.propagar()\n",
    "s2.propagar()\n",
    "x1.propagar()\n",
    "w1.propagar()\n",
    "x2.propagar()\n",
    "w2.propagar()\n",
    "\n",
    "grafo4 = plota_grafo(y)\n",
    "print(grafo4)"
   ]
  },
  {
   "cell_type": "markdown",
   "metadata": {},
   "source": [
    "### Autograd\n",
    "\n"
   ]
  },
  {
   "cell_type": "markdown",
   "metadata": {},
   "source": [
    "Temos, finalmente, todas as ferramentas para executar o que tanto queríamos: o algoritmo `backpropagation`. Para isso, nós tivemos que rodar o método `propagar` para todos os vértices do nosso grafo computacional. Seria tão mais interessante se esse processo todo fosse ainda mais automático!\n",
    "\n",
    "Como você deve imaginar, podemos sim deixar esse processo ainda mais automático. Trata-se do algoritmo `autograd`! O último passo aqui é criar um método chamado `propagar_tudo` que cuida de fazer isso para nós.\n",
    "\n",
    "O único detalhe que temos que nos atentar é que não podemos rodar o método `propagar` em qualquer ordem dos vértices do grafo computacional. Apenas podemos rodar esse método quando sabemos o gradiente local do vértice que irá propagar! Uma estratégia para nos ajudar aqui é fazer uma [ordenação topológica](https://en.wikipedia.org/wiki/Topological_sorting). Ordenação topológica é quando você ordena os vértices de um grafo direcional de forma que todas as setas apontem para a direita. Nota: não podemos realizar ordenação topológica em grafos cíclicos. Aqui usaremos o código pronto feito pelo Andrej Karpathy que resolve esse problema. Veja abaixo de forma gráfica como funciona a ordenação topológica.\n",
    "\n",
    "![img](https://i.imgur.com/Q3MA6dZ.png)\n",
    "\n"
   ]
  },
  {
   "cell_type": "code",
   "execution_count": 11,
   "metadata": {},
   "outputs": [],
   "source": [
    "class Valor:\n",
    "    def __init__(self, data, progenitor=(), operador_mae=\"\", rotulo=\"\"):\n",
    "        self.data = data\n",
    "        self.progenitor = progenitor\n",
    "        self.operador_mae = operador_mae\n",
    "        self.rotulo = rotulo\n",
    "        self.grad = 0\n",
    "\n",
    "    def __repr__(self):\n",
    "        return f\"Valor(data={self.data})\"\n",
    "\n",
    "    def __add__(self, outro_valor):\n",
    "        data = self.data + outro_valor.data\n",
    "        progenitor = (self, outro_valor)\n",
    "        operador_mae = \"+\"\n",
    "        saida = Valor(data, progenitor, operador_mae)\n",
    "\n",
    "        def propagar():\n",
    "            self.grad += saida.grad * 1\n",
    "            outro_valor.grad += saida.grad * 1\n",
    "\n",
    "        saida.propagar = propagar\n",
    "\n",
    "        return saida\n",
    "\n",
    "    def __mul__(self, outro_valor):\n",
    "        data = self.data * outro_valor.data\n",
    "        progenitor = (self, outro_valor)\n",
    "        operador_mae = \"*\"\n",
    "        saida = Valor(data, progenitor, operador_mae)\n",
    "\n",
    "        def propagar():\n",
    "            self.grad = saida.grad * outro_valor.data\n",
    "            outro_valor.grad = saida.grad * self.data\n",
    "\n",
    "        saida.propagar = propagar\n",
    "\n",
    "        return saida\n",
    "\n",
    "    def propagar(self):\n",
    "        pass\n",
    "\n",
    "    def propagar_tudo(self):\n",
    "        ordem_topologica = []\n",
    "        visitados = set()\n",
    "\n",
    "        def constroi_ordem_topologica(v):\n",
    "            if v not in visitados:\n",
    "                visitados.add(v)\n",
    "                for progenitor in v.progenitor:\n",
    "                    constroi_ordem_topologica(progenitor)\n",
    "                ordem_topologica.append(v)\n",
    "\n",
    "        constroi_ordem_topologica(self)\n",
    "\n",
    "        self.grad = 1  # o gradiente do vértice folha deve ser 1\n",
    "\n",
    "        for v in reversed(ordem_topologica):\n",
    "            v.propagar()"
   ]
  },
  {
   "cell_type": "markdown",
   "metadata": {},
   "source": [
    "Finalmente, depois de uma longa jornada, chegamos no nosso objetivo!\n",
    "\n"
   ]
  },
  {
   "cell_type": "code",
   "execution_count": 12,
   "metadata": {},
   "outputs": [
    {
     "name": "stdout",
     "output_type": "stream",
     "text": [
      "digraph {\n",
      "\tgraph [rankdir=LR]\n",
      "\t1757704427552 [label=\"{ w1 | data 10.0000 | grad 120.0000 }\" shape=record]\n",
      "\t1757704420416 [label=\"{ s1 | data 600.0000 | grad 2.0000 }\" shape=record]\n",
      "\t\"1757704420416*\" [label=\"*\"]\n",
      "\t\"1757704420416*\" -> 1757704420416\n",
      "\t1757704418400 [label=\"{ y | data 1454.0000 | grad 1.0000 }\" shape=record]\n",
      "\t\"1757704418400*\" [label=\"*\"]\n",
      "\t\"1757704418400*\" -> 1757704418400\n",
      "\t1757704420512 [label=\"{ k | data 727.0000 | grad 2.0000 }\" shape=record]\n",
      "\t\"1757704420512+\" [label=\"+\"]\n",
      "\t\"1757704420512+\" -> 1757704420512\n",
      "\t1757704428224 [label=\"{ b | data 7.0000 | grad 2.0000 }\" shape=record]\n",
      "\t1757704419024 [label=\"{ s2 | data 120.0000 | grad 2.0000 }\" shape=record]\n",
      "\t\"1757704419024*\" [label=\"*\"]\n",
      "\t\"1757704419024*\" -> 1757704419024\n",
      "\t1757704427216 [label=\"{ x2 | data 24.0000 | grad 10.0000 }\" shape=record]\n",
      "\t1757704426736 [label=\"{ x1 | data 60.0000 | grad 20.0000 }\" shape=record]\n",
      "\t1757704429328 [label=\"{ w3 | data 2.0000 | grad 727.0000 }\" shape=record]\n",
      "\t1757704419744 [label=\"{ n | data 720.0000 | grad 2.0000 }\" shape=record]\n",
      "\t\"1757704419744+\" [label=\"+\"]\n",
      "\t\"1757704419744+\" -> 1757704419744\n",
      "\t1757704427984 [label=\"{ w2 | data 5.0000 | grad 48.0000 }\" shape=record]\n",
      "\t1757704420416 -> \"1757704419744+\"\n",
      "\t1757704428224 -> \"1757704420512+\"\n",
      "\t1757704427216 -> \"1757704419024*\"\n",
      "\t1757704426736 -> \"1757704420416*\"\n",
      "\t1757704429328 -> \"1757704418400*\"\n",
      "\t1757704427552 -> \"1757704420416*\"\n",
      "\t1757704419024 -> \"1757704419744+\"\n",
      "\t1757704419744 -> \"1757704420512+\"\n",
      "\t1757704427984 -> \"1757704419024*\"\n",
      "\t1757704420512 -> \"1757704418400*\"\n",
      "}\n",
      "\n"
     ]
    }
   ],
   "source": [
    "x1 = Valor(60, rotulo=\"x1\")\n",
    "x2 = Valor(24, rotulo=\"x2\")\n",
    "w1 = Valor(10, rotulo=\"w1\")\n",
    "w2 = Valor(5, rotulo=\"w2\")\n",
    "w3 = Valor(2, rotulo=\"w3\")\n",
    "b = Valor(7, rotulo=\"b\")\n",
    "\n",
    "s1 = x1 * w1\n",
    "s1.rotulo = \"s1\"\n",
    "\n",
    "s2 = x2 * w2\n",
    "s2.rotulo = \"s2\"\n",
    "\n",
    "n = s1 + s2\n",
    "n.rotulo = \"n\"\n",
    "\n",
    "k = n + b\n",
    "k.rotulo = \"k\"\n",
    "\n",
    "y = k * w3\n",
    "y.rotulo = \"y\"\n",
    "\n",
    "y.propagar_tudo()\n",
    "\n",
    "grafo5 = plota_grafo(y)\n",
    "print(grafo5)"
   ]
  },
  {
   "cell_type": "markdown",
   "metadata": {},
   "source": [
    "### Correção final para gradientes locais de funções de várias variáveis\n",
    "\n"
   ]
  },
  {
   "cell_type": "markdown",
   "metadata": {},
   "source": [
    "Existe um problema com o cálculo do gradiente local da forma que estamos fazendo. Este bug aparece quando um mesmo vértice é usado para mais de uma operação no grafo computacional. Observe a situação abaixo. O gradiente local de $a$ deveria ser 4, porém o grafo mostra como sendo 1. Isto acontece pois a regra da cadeia para funções de várias variáveis nos diz que devemos somar os gradientes do vértice cada vez que chegamos nele mesmo, porém o nosso código não reflete isso. Isso não era um problema antes pois não estávamos usando o valor de um vértice duas ou mais vezes no grafo computacional.\n",
    "\n"
   ]
  },
  {
   "cell_type": "code",
   "execution_count": 13,
   "metadata": {},
   "outputs": [
    {
     "name": "stdout",
     "output_type": "stream",
     "text": [
      "digraph {\n",
      "\tgraph [rankdir=LR]\n",
      "\t1757704512608 [label=\"{ d | data -6.0000 | grad 1.0000 }\" shape=record]\n",
      "\t\"1757704512608*\" [label=\"*\"]\n",
      "\t\"1757704512608*\" -> 1757704512608\n",
      "\t1757704346784 [label=\"{ c | data 1.0000 | grad 1.0000 }\" shape=record]\n",
      "\t\"1757704346784+\" [label=\"+\"]\n",
      "\t\"1757704346784+\" -> 1757704346784\n",
      "\t1757704512896 [label=\"{ e | data -5.0000 | grad 1.0000 }\" shape=record]\n",
      "\t\"1757704512896+\" [label=\"+\"]\n",
      "\t\"1757704512896+\" -> 1757704512896\n",
      "\t1757704429520 [label=\"{ a | data -2.0000 | grad 4.0000 }\" shape=record]\n",
      "\t1757704428512 [label=\"{ b | data 3.0000 | grad -1.0000 }\" shape=record]\n",
      "\t1757704428512 -> \"1757704512608*\"\n",
      "\t1757704429520 -> \"1757704346784+\"\n",
      "\t1757704512608 -> \"1757704512896+\"\n",
      "\t1757704428512 -> \"1757704346784+\"\n",
      "\t1757704346784 -> \"1757704512896+\"\n",
      "\t1757704429520 -> \"1757704512608*\"\n",
      "}\n",
      "\n"
     ]
    }
   ],
   "source": [
    "a = Valor(-2, rotulo=\"a\")\n",
    "b = Valor(3, rotulo=\"b\")\n",
    "\n",
    "c = a + b\n",
    "d = a * b\n",
    "\n",
    "e = c + d\n",
    "\n",
    "c.rotulo = \"c\"\n",
    "d.rotulo = \"d\"\n",
    "e.rotulo = \"e\"\n",
    "\n",
    "e.propagar_tudo()\n",
    "grafo6 = plota_grafo(e)\n",
    "print(grafo6)"
   ]
  },
  {
   "cell_type": "markdown",
   "metadata": {},
   "source": [
    "Para a nossa sorte, é fácil de corrigir isso! Basta somar o gradiente com ele mesmo cada vez que ele for atualizado.\n",
    "\n"
   ]
  },
  {
   "cell_type": "code",
   "execution_count": 14,
   "metadata": {},
   "outputs": [],
   "source": [
    "class Valor:\n",
    "    def __init__(self, data, progenitor=(), operador_mae=\"\", rotulo=\"\"):\n",
    "        self.data = data\n",
    "        self.progenitor = progenitor\n",
    "        self.operador_mae = operador_mae\n",
    "        self.rotulo = rotulo\n",
    "        self.grad = 0\n",
    "\n",
    "    def __repr__(self):\n",
    "        return f\"Valor(data={self.data})\"\n",
    "\n",
    "    def __add__(self, outro_valor):\n",
    "        data = self.data + outro_valor.data\n",
    "        progenitor = (self, outro_valor)\n",
    "        operador_mae = \"+\"\n",
    "        saida = Valor(data, progenitor, operador_mae)\n",
    "\n",
    "        def propagar():\n",
    "            self.grad += saida.grad * 1\n",
    "            outro_valor.grad += saida.grad * 1\n",
    "\n",
    "        saida.propagar = propagar\n",
    "\n",
    "        return saida\n",
    "\n",
    "    def __mul__(self, outro_valor):\n",
    "        data = self.data * outro_valor.data\n",
    "        progenitor = (self, outro_valor)\n",
    "        operador_mae = \"*\"\n",
    "        saida = Valor(data, progenitor, operador_mae)\n",
    "\n",
    "        def propagar():\n",
    "            self.grad += saida.grad * outro_valor.data\n",
    "            outro_valor.grad += saida.grad * self.data\n",
    "\n",
    "        saida.propagar = propagar\n",
    "\n",
    "        return saida\n",
    "\n",
    "    def propagar(self):\n",
    "        pass\n",
    "\n",
    "    def propagar_tudo(self):\n",
    "        ordem_topologica = []\n",
    "        visitados = set()\n",
    "\n",
    "        def constroi_ordem_topologica(v):\n",
    "            if v not in visitados:\n",
    "                visitados.add(v)\n",
    "                for progenitor in v.progenitor:\n",
    "                    constroi_ordem_topologica(progenitor)\n",
    "                ordem_topologica.append(v)\n",
    "\n",
    "        constroi_ordem_topologica(self)\n",
    "\n",
    "        self.grad = 1  # o gradiente do vértice folha deve ser 1\n",
    "\n",
    "        for v in reversed(ordem_topologica):\n",
    "            v.propagar()"
   ]
  },
  {
   "cell_type": "markdown",
   "metadata": {},
   "source": [
    "Com isso corrigimos esse bug!\n",
    "\n"
   ]
  },
  {
   "cell_type": "code",
   "execution_count": 15,
   "metadata": {},
   "outputs": [
    {
     "name": "stdout",
     "output_type": "stream",
     "text": [
      "digraph {\n",
      "\tgraph [rankdir=LR]\n",
      "\t1757704041568 [label=\"{ d | data -6.0000 | grad 1.0000 }\" shape=record]\n",
      "\t\"1757704041568*\" [label=\"*\"]\n",
      "\t\"1757704041568*\" -> 1757704041568\n",
      "\t1757704409200 [label=\"{ a | data -2.0000 | grad 4.0000 }\" shape=record]\n",
      "\t1757704412320 [label=\"{ b | data 3.0000 | grad -1.0000 }\" shape=record]\n",
      "\t1757704042384 [label=\"{ c | data 1.0000 | grad 1.0000 }\" shape=record]\n",
      "\t\"1757704042384+\" [label=\"+\"]\n",
      "\t\"1757704042384+\" -> 1757704042384\n",
      "\t1757704041952 [label=\"{ e | data -5.0000 | grad 1.0000 }\" shape=record]\n",
      "\t\"1757704041952+\" [label=\"+\"]\n",
      "\t\"1757704041952+\" -> 1757704041952\n",
      "\t1757704041568 -> \"1757704041952+\"\n",
      "\t1757704412320 -> \"1757704041568*\"\n",
      "\t1757704042384 -> \"1757704041952+\"\n",
      "\t1757704412320 -> \"1757704042384+\"\n",
      "\t1757704409200 -> \"1757704041568*\"\n",
      "\t1757704409200 -> \"1757704042384+\"\n",
      "}\n",
      "\n"
     ]
    }
   ],
   "source": [
    "a = Valor(-2, rotulo=\"a\")\n",
    "b = Valor(3, rotulo=\"b\")\n",
    "\n",
    "c = a + b\n",
    "d = a * b\n",
    "\n",
    "e = c + d\n",
    "\n",
    "c.rotulo = \"c\"\n",
    "d.rotulo = \"d\"\n",
    "e.rotulo = \"e\"\n",
    "\n",
    "e.propagar_tudo()\n",
    "grafo7 = plota_grafo(e)\n",
    "print(grafo7)"
   ]
  },
  {
   "cell_type": "markdown",
   "metadata": {
    "tags": []
   },
   "source": [
    "## Conclusão\n",
    "\n"
   ]
  },
  {
   "cell_type": "markdown",
   "metadata": {},
   "source": [
    "Partimos agora para a parte matemática da construção de um grafo computacional para uma rede neural artificial. Essa construção utilizou-se do mesmo conceito de classe trabalhado nos experimentos anteriores, para construir nossos grafos."
   ]
  },
  {
   "cell_type": "markdown",
   "metadata": {},
   "source": [
    "## Playground\n",
    "\n"
   ]
  },
  {
   "cell_type": "markdown",
   "metadata": {},
   "source": [
    "- Gradientes locais (derivada de y com relação ao valor local (ex.: n, k, b, w2)\n",
    "- Possível encontrar o gradiente local de um vértice pela derivada com relação à outros vértices. O gradiente de onde eu estou é igual ao gradiente do vértice filho de onde eu estou vezes a derivada desse filho em função de onde eu estou.\n",
    "\n",
    "    $$\\frac{\\partial y}{\\partial n} = \\frac{\\partial y}{\\partial k} * \\frac{\\partial k}{\\partial n}$$"
   ]
  },
  {
   "cell_type": "code",
   "execution_count": null,
   "metadata": {},
   "outputs": [],
   "source": []
  }
 ],
 "metadata": {
  "kernelspec": {
   "display_name": "ilumpy",
   "language": "python",
   "name": "ilumpy"
  },
  "language_info": {
   "codemirror_mode": {
    "name": "ipython",
    "version": 3
   },
   "file_extension": ".py",
   "mimetype": "text/x-python",
   "name": "python",
   "nbconvert_exporter": "python",
   "pygments_lexer": "ipython3",
   "version": "3.9.7"
  },
  "org": null
 },
 "nbformat": 4,
 "nbformat_minor": 4
}
