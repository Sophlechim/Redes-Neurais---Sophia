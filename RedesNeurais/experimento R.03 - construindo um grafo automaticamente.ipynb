{
 "cells": [
  {
   "cell_type": "markdown",
   "metadata": {},
   "source": [
    "Construindo um grafo automaticamente\n",
    "====================================\n",
    "\n"
   ]
  },
  {
   "cell_type": "markdown",
   "metadata": {},
   "source": [
    "## Introdução\n",
    "\n"
   ]
  },
  {
   "cell_type": "markdown",
   "metadata": {},
   "source": [
    "Neste notebook nós vamos dar o primeiro passo para construir nossa rede neural artificial. Neste primeiro passo, nós vamos criar uma classe que gera automaticamente o nosso `grafo computacional`. O grafo computacional é o grafo que representa todas as operações matemáticas que ocorreram ao se computar um certo valor $y$. O grafo computacional é um passo necessário pois será baseado nele que iremos computar os gradientes locais necessários para realizar o `backpropagation`.\n",
    "\n"
   ]
  },
  {
   "cell_type": "markdown",
   "metadata": {},
   "source": [
    "## Importações\n",
    "\n"
   ]
  },
  {
   "cell_type": "code",
   "execution_count": 1,
   "metadata": {},
   "outputs": [],
   "source": [
    "#lembrar de baixar o Digraph\n",
    "from funcoes import plota_grafo"
   ]
  },
  {
   "cell_type": "markdown",
   "metadata": {},
   "source": [
    "## Código e discussão\n",
    "\n"
   ]
  },
  {
   "cell_type": "markdown",
   "metadata": {},
   "source": [
    "### Primeiros passos\n",
    "\n"
   ]
  },
  {
   "cell_type": "markdown",
   "metadata": {},
   "source": [
    "A base de tudo será uma classe chamada `Valor`. Vamos começar pelo básico!\n",
    "\n"
   ]
  },
  {
   "cell_type": "code",
   "execution_count": 2,
   "metadata": {},
   "outputs": [],
   "source": [
    "class Valor:\n",
    "    def __init__(self, data):\n",
    "        self.data = data\n",
    "\n",
    "    def __repr__(self):\n",
    "        return f\"Valor(data={self.data})\""
   ]
  },
  {
   "cell_type": "markdown",
   "metadata": {},
   "source": [
    "Vamos testar nossa classe!\n",
    "\n"
   ]
  },
  {
   "cell_type": "code",
   "execution_count": 3,
   "metadata": {},
   "outputs": [
    {
     "name": "stdout",
     "output_type": "stream",
     "text": [
      "Valor(data=60)\n",
      "60\n"
     ]
    }
   ],
   "source": [
    "x1 = Valor(60)\n",
    "print(x1)\n",
    "print(x1.data)"
   ]
  },
  {
   "cell_type": "markdown",
   "metadata": {},
   "source": [
    "### Os dunders `__add__` e `__mul__`\n",
    "\n"
   ]
  },
  {
   "cell_type": "markdown",
   "metadata": {},
   "source": [
    "Observe que não conseguimos adicionar nem multiplicar objetos criados com a classe `Valor`.\n",
    "\n"
   ]
  },
  {
   "cell_type": "code",
   "execution_count": 4,
   "metadata": {},
   "outputs": [],
   "source": [
    "a = Valor(10)\n",
    "b = Valor(5)"
   ]
  },
  {
   "cell_type": "code",
   "execution_count": 5,
   "metadata": {},
   "outputs": [
    {
     "ename": "TypeError",
     "evalue": "unsupported operand type(s) for +: 'Valor' and 'Valor'",
     "output_type": "error",
     "traceback": [
      "\u001b[1;31m---------------------------------------------------------------------------\u001b[0m",
      "\u001b[1;31mTypeError\u001b[0m                                 Traceback (most recent call last)",
      "\u001b[1;32mC:\\Users\\SOPHIA~1\\AppData\\Local\\Temp/ipykernel_21592/2625627558.py\u001b[0m in \u001b[0;36m<module>\u001b[1;34m\u001b[0m\n\u001b[1;32m----> 1\u001b[1;33m \u001b[0mprint\u001b[0m\u001b[1;33m(\u001b[0m\u001b[0ma\u001b[0m \u001b[1;33m+\u001b[0m \u001b[0mb\u001b[0m\u001b[1;33m)\u001b[0m \u001b[1;31m#o python não sabe ler isso sozinho\u001b[0m\u001b[1;33m\u001b[0m\u001b[1;33m\u001b[0m\u001b[0m\n\u001b[0m",
      "\u001b[1;31mTypeError\u001b[0m: unsupported operand type(s) for +: 'Valor' and 'Valor'"
     ]
    }
   ],
   "source": [
    "print(a + b) #o python não sabe ler isso sozinho"
   ]
  },
  {
   "cell_type": "code",
   "execution_count": 6,
   "metadata": {},
   "outputs": [
    {
     "ename": "TypeError",
     "evalue": "unsupported operand type(s) for *: 'Valor' and 'Valor'",
     "output_type": "error",
     "traceback": [
      "\u001b[1;31m---------------------------------------------------------------------------\u001b[0m",
      "\u001b[1;31mTypeError\u001b[0m                                 Traceback (most recent call last)",
      "\u001b[1;32mC:\\Users\\SOPHIA~1\\AppData\\Local\\Temp/ipykernel_21592/2766282905.py\u001b[0m in \u001b[0;36m<module>\u001b[1;34m\u001b[0m\n\u001b[1;32m----> 1\u001b[1;33m \u001b[0mprint\u001b[0m\u001b[1;33m(\u001b[0m\u001b[0ma\u001b[0m \u001b[1;33m*\u001b[0m \u001b[0mb\u001b[0m\u001b[1;33m)\u001b[0m \u001b[1;31m#nem isso aqui\u001b[0m\u001b[1;33m\u001b[0m\u001b[1;33m\u001b[0m\u001b[0m\n\u001b[0m",
      "\u001b[1;31mTypeError\u001b[0m: unsupported operand type(s) for *: 'Valor' and 'Valor'"
     ]
    }
   ],
   "source": [
    "print(a * b) #nem isso aqui"
   ]
  },
  {
   "cell_type": "markdown",
   "metadata": {},
   "source": [
    "Ué&#x2026; porque não conseguimos? Não conseguimos pois o Python (ainda) não é vidente. Ele lá vai saber como adicionar ou multiplicar algo que você criou? Pra você parece óbvio que valores podem ser adicionados ou multiplicados, mas para o Python ele nem sabe o que significa a palavra `Valor`&#x2026;\n",
    "\n",
    "Como sempre, temos que contar para o programa o que queremos que aconteça quando usarmos os operadores `+` e `*`. Quem faz isso são os dunders `__add__` e `__mul__`.\n",
    "\n"
   ]
  },
  {
   "cell_type": "code",
   "execution_count": 7,
   "metadata": {},
   "outputs": [],
   "source": [
    "class Valor:\n",
    "    def __init__(self, data):\n",
    "        self.data = data\n",
    "\n",
    "    def __repr__(self):\n",
    "        return f\"Valor(data={self.data})\"\n",
    "\n",
    "    def __add__(self, outro_valor):\n",
    "        saida = Valor(self.data + outro_valor.data)\n",
    "        return saida\n",
    "\n",
    "    def __mul__(self, outro_valor):\n",
    "        saida = Valor(self.data * outro_valor.data)\n",
    "        return saida"
   ]
  },
  {
   "cell_type": "markdown",
   "metadata": {},
   "source": [
    "Vamos testar!\n",
    "\n"
   ]
  },
  {
   "cell_type": "code",
   "execution_count": 8,
   "metadata": {},
   "outputs": [
    {
     "name": "stdout",
     "output_type": "stream",
     "text": [
      "Valor(data=15)\n",
      "Valor(data=50)\n",
      "15\n",
      "50\n"
     ]
    }
   ],
   "source": [
    "a = Valor(10)\n",
    "b = Valor(5)\n",
    "\n",
    "print(a + b)\n",
    "print(a * b)\n",
    "\n",
    "print((a + b).data)\n",
    "print((a * b).data)"
   ]
  },
  {
   "cell_type": "markdown",
   "metadata": {},
   "source": [
    "### Registrando os progenitores\n",
    "\n"
   ]
  },
  {
   "cell_type": "markdown",
   "metadata": {},
   "source": [
    "Nosso objetivo é construir um grafo computacional. Em um grafo computacional, um certo vértice pode ter um ou mais vértices progenitores (são seus pais/mães). Nós não podemos perder essa informação quando formos construir um grafo, então precisamos incluir essa informação na nossa classe.\n",
    "\n"
   ]
  },
  {
   "cell_type": "code",
   "execution_count": 9,
   "metadata": {},
   "outputs": [],
   "source": [
    "class Valor:\n",
    "    def __init__(self, data, progenitor=()):\n",
    "        self.data = data\n",
    "        self.progenitor = progenitor\n",
    "\n",
    "    def __repr__(self):\n",
    "        return f\"Valor(data={self.data})\"\n",
    "\n",
    "    def __add__(self, outro_valor):\n",
    "        data = self.data + outro_valor.data\n",
    "        progenitor = (self, outro_valor)\n",
    "        saida = Valor(data, progenitor)\n",
    "        return saida\n",
    "\n",
    "    def __mul__(self, outro_valor):\n",
    "        data = self.data * outro_valor.data\n",
    "        progenitor = (self, outro_valor)\n",
    "        saida = Valor(data, progenitor)\n",
    "        return saida"
   ]
  },
  {
   "cell_type": "markdown",
   "metadata": {},
   "source": [
    "Vamos testar!\n",
    "\n"
   ]
  },
  {
   "cell_type": "code",
   "execution_count": 10,
   "metadata": {},
   "outputs": [
    {
     "name": "stdout",
     "output_type": "stream",
     "text": [
      "10\n",
      "()\n",
      "Valor(data=15)\n",
      "Valor(data=10)\n",
      "(Valor(data=15), Valor(data=10))\n"
     ]
    }
   ],
   "source": [
    "a = Valor(10)\n",
    "b = Valor(5)\n",
    "\n",
    "print(a.data)\n",
    "print(a.progenitor)\n",
    "\n",
    "c = a + b\n",
    "d = c * a\n",
    "\n",
    "print(c)\n",
    "print(a)\n",
    "print(d.progenitor)"
   ]
  },
  {
   "cell_type": "markdown",
   "metadata": {},
   "source": [
    "### Registrando o operador mãe\n",
    "\n"
   ]
  },
  {
   "cell_type": "markdown",
   "metadata": {},
   "source": [
    "Em um grafo computacional, um vértice pode ter um operador mãe. O operador mãe é o operador que foi usado para gerar o vértice.\n",
    "\n"
   ]
  },
  {
   "cell_type": "code",
   "execution_count": 11,
   "metadata": {},
   "outputs": [],
   "source": [
    "class Valor:\n",
    "    def __init__(self, data, progenitor=(), operador_mae=\"\"):\n",
    "        self.data = data\n",
    "        self.progenitor = progenitor\n",
    "        self.operador_mae = operador_mae\n",
    "\n",
    "    def __repr__(self):\n",
    "        return f\"Valor(data={self.data})\"\n",
    "\n",
    "    def __add__(self, outro_valor):\n",
    "        data = self.data + outro_valor.data\n",
    "        progenitor = (self, outro_valor)\n",
    "        operador_mae = \"+\"\n",
    "        saida = Valor(data, progenitor, operador_mae)\n",
    "        return saida\n",
    "\n",
    "    def __mul__(self, outro_valor):\n",
    "        data = self.data * outro_valor.data\n",
    "        progenitor = (self, outro_valor)\n",
    "        operador_mae = \"*\"\n",
    "        saida = Valor(data, progenitor, operador_mae)\n",
    "        return saida"
   ]
  },
  {
   "cell_type": "markdown",
   "metadata": {},
   "source": [
    "Vamos testar!\n",
    "\n"
   ]
  },
  {
   "cell_type": "code",
   "execution_count": 12,
   "metadata": {},
   "outputs": [
    {
     "name": "stdout",
     "output_type": "stream",
     "text": [
      "Valor(data=15)\n",
      "(Valor(data=10), Valor(data=5))\n",
      "+\n"
     ]
    }
   ],
   "source": [
    "a = Valor(10)\n",
    "b = Valor(5)\n",
    "\n",
    "c = a + b\n",
    "d = c * a\n",
    "\n",
    "print(c)\n",
    "print(c.progenitor)\n",
    "print(c.operador_mae)"
   ]
  },
  {
   "cell_type": "markdown",
   "metadata": {},
   "source": [
    "### Plotando o primeiro grafo\n",
    "\n"
   ]
  },
  {
   "cell_type": "markdown",
   "metadata": {},
   "source": [
    "Vamos plotar nosso primeiro grafo!\n",
    "\n"
   ]
  },
  {
   "cell_type": "code",
   "execution_count": 13,
   "metadata": {},
   "outputs": [
    {
     "name": "stdout",
     "output_type": "stream",
     "text": [
      "digraph {\n",
      "\tgraph [rankdir=LR]\n",
      "\t2645770795616 [label=\"{ data -3.0000 }\" shape=record]\n",
      "\t2645770795808 [label=\"{ data 2.0000 }\" shape=record]\n",
      "\t2645770795376 [label=\"{ data 10.0000 }\" shape=record]\n",
      "\t2645770795472 [label=\"{ data -6.0000 }\" shape=record]\n",
      "\t\"2645770795472*\" [label=\"*\"]\n",
      "\t\"2645770795472*\" -> 2645770795472\n",
      "\t2645770796000 [label=\"{ data 4.0000 }\" shape=record]\n",
      "\t\"2645770796000+\" [label=\"+\"]\n",
      "\t\"2645770796000+\" -> 2645770796000\n",
      "\t2645770795472 -> \"2645770796000+\"\n",
      "\t2645770795616 -> \"2645770795472*\"\n",
      "\t2645770795376 -> \"2645770796000+\"\n",
      "\t2645770795808 -> \"2645770795472*\"\n",
      "}\n",
      "\n"
     ]
    }
   ],
   "source": [
    "#precisa do Digraph\n",
    "a = Valor(2)\n",
    "b = Valor(-3)\n",
    "c = Valor(10)\n",
    "\n",
    "d = a * b\n",
    "e = d + c\n",
    "\n",
    "grafo = plota_grafo(e)\n",
    "print(grafo)"
   ]
  },
  {
   "cell_type": "markdown",
   "metadata": {},
   "source": [
    "### Registrando o rótulo\n",
    "\n"
   ]
  },
  {
   "cell_type": "markdown",
   "metadata": {},
   "source": [
    "Nosso grafo seria mais legível se tivéssemos rótulos indicando o que é cada vértice. Vamos incluir essa informação na nossa classe.\n",
    "\n"
   ]
  },
  {
   "cell_type": "code",
   "execution_count": 14,
   "metadata": {},
   "outputs": [],
   "source": [
    "class Valor:\n",
    "    def __init__(self, data, progenitor=(), operador_mae=\"\", rotulo=\"\"):\n",
    "        self.data = data\n",
    "        self.progenitor = progenitor\n",
    "        self.operador_mae = operador_mae\n",
    "        self.rotulo = rotulo\n",
    "\n",
    "    def __repr__(self):\n",
    "        return f\"Valor(data={self.data})\"\n",
    "\n",
    "    def __add__(self, outro_valor):\n",
    "        data = self.data + outro_valor.data\n",
    "        progenitor = (self, outro_valor)\n",
    "        operador_mae = \"+\"\n",
    "        saida = Valor(data, progenitor, operador_mae)\n",
    "        return saida\n",
    "\n",
    "    def __mul__(self, outro_valor):\n",
    "        data = self.data * outro_valor.data\n",
    "        progenitor = (self, outro_valor)\n",
    "        operador_mae = \"*\"\n",
    "        saida = Valor(data, progenitor, operador_mae)\n",
    "        return saida"
   ]
  },
  {
   "cell_type": "markdown",
   "metadata": {},
   "source": [
    "Vamos testar!\n",
    "\n"
   ]
  },
  {
   "cell_type": "code",
   "execution_count": 15,
   "metadata": {},
   "outputs": [
    {
     "name": "stdout",
     "output_type": "stream",
     "text": [
      "digraph {\n",
      "\tgraph [rankdir=LR]\n",
      "\t2645772023312 [label=\"{ d | data -6.0000 }\" shape=record]\n",
      "\t\"2645772023312*\" [label=\"*\"]\n",
      "\t\"2645772023312*\" -> 2645772023312\n",
      "\t2645772021920 [label=\"{ e | data 4.0000 }\" shape=record]\n",
      "\t\"2645772021920+\" [label=\"+\"]\n",
      "\t\"2645772021920+\" -> 2645772021920\n",
      "\t2645772024608 [label=\"{ a | data 2.0000 }\" shape=record]\n",
      "\t2645772025712 [label=\"{ c | data 10.0000 }\" shape=record]\n",
      "\t2645772023216 [label=\"{ b | data -3.0000 }\" shape=record]\n",
      "\t2645772023312 -> \"2645772021920+\"\n",
      "\t2645772023216 -> \"2645772023312*\"\n",
      "\t2645772024608 -> \"2645772023312*\"\n",
      "\t2645772025712 -> \"2645772021920+\"\n",
      "}\n",
      "\n"
     ]
    }
   ],
   "source": [
    "#precisa do Digraph\n",
    "a = Valor(2, rotulo=\"a\")\n",
    "b = Valor(-3, rotulo=\"b\")\n",
    "c = Valor(10, rotulo=\"c\")\n",
    "\n",
    "d = a * b\n",
    "e = d + c\n",
    "\n",
    "d.rotulo = \"d\"\n",
    "e.rotulo = \"e\"\n",
    "\n",
    "grafo = plota_grafo(e)\n",
    "print(grafo)"
   ]
  },
  {
   "cell_type": "markdown",
   "metadata": {},
   "source": [
    "### Refazendo o grafo que fizemos na aula anterior\n",
    "\n"
   ]
  },
  {
   "cell_type": "markdown",
   "metadata": {},
   "source": [
    "Na aula anterior nós fizemos um grafo computacional para aprender como funciona o backpropagation. Vamos refazer ele aqui!\n",
    "\n"
   ]
  },
  {
   "cell_type": "code",
   "execution_count": 16,
   "metadata": {},
   "outputs": [
    {
     "name": "stdout",
     "output_type": "stream",
     "text": [
      "digraph {\n",
      "\tgraph [rankdir=LR]\n",
      "\t2645770795040 [label=\"{ Valor(data=600) | data 600.0000 }\" shape=record]\n",
      "\t\"2645770795040*\" [label=\"*\"]\n",
      "\t\"2645770795040*\" -> 2645770795040\n",
      "\t2645771270704 [label=\"{ y | data 1454.0000 }\" shape=record]\n",
      "\t\"2645771270704*\" [label=\"*\"]\n",
      "\t\"2645771270704*\" -> 2645771270704\n",
      "\t2645770086480 [label=\"{ x2 | data 24.0000 }\" shape=record]\n",
      "\t2645770796144 [label=\"{ Valor(data=120) | data 120.0000 }\" shape=record]\n",
      "\t\"2645770796144*\" [label=\"*\"]\n",
      "\t\"2645770796144*\" -> 2645770796144\n",
      "\t2645770794128 [label=\"{ w2 | data 5.0000 }\" shape=record]\n",
      "\t2645770795664 [label=\"{ w3 | data 2.0000 }\" shape=record]\n",
      "\t2645770796720 [label=\"{ n | data 720.0000 }\" shape=record]\n",
      "\t\"2645770796720+\" [label=\"+\"]\n",
      "\t\"2645770796720+\" -> 2645770796720\n",
      "\t2645771271856 [label=\"{ k | data 727.0000 }\" shape=record]\n",
      "\t\"2645771271856+\" [label=\"+\"]\n",
      "\t\"2645771271856+\" -> 2645771271856\n",
      "\t2645770796864 [label=\"{ x1 | data 60.0000 }\" shape=record]\n",
      "\t2645770796384 [label=\"{ w1 | data 10.0000 }\" shape=record]\n",
      "\t2645770794896 [label=\"{ b | data 7.0000 }\" shape=record]\n",
      "\t2645770796720 -> \"2645771271856+\"\n",
      "\t2645770796384 -> \"2645770795040*\"\n",
      "\t2645770795664 -> \"2645771270704*\"\n",
      "\t2645770796864 -> \"2645770795040*\"\n",
      "\t2645770796144 -> \"2645770796720+\"\n",
      "\t2645771271856 -> \"2645771270704*\"\n",
      "\t2645770795040 -> \"2645770796720+\"\n",
      "\t2645770086480 -> \"2645770796144*\"\n",
      "\t2645770794128 -> \"2645770796144*\"\n",
      "\t2645770794896 -> \"2645771271856+\"\n",
      "}\n",
      "\n"
     ]
    }
   ],
   "source": [
    "# precisa do Digraph\n",
    "x1 = Valor(60, rotulo=\"x1\")\n",
    "x2 = Valor(24, rotulo=\"x2\")\n",
    "w1 = Valor(10, rotulo=\"w1\")\n",
    "w2 = Valor(5, rotulo=\"w2\")\n",
    "w3 = Valor(2, rotulo=\"w3\")\n",
    "b = Valor(7, rotulo=\"b\")\n",
    "\n",
    "s1 = x1 * w1\n",
    "s1.rotulo = s1\n",
    "\n",
    "s2 = x2 * w2\n",
    "s2.rotulo = s2\n",
    "\n",
    "n = s1 + s2\n",
    "n.rotulo = \"n\"\n",
    "\n",
    "k = n + b\n",
    "k.rotulo = \"k\"\n",
    "\n",
    "y = k * w3\n",
    "y.rotulo = \"y\"\n",
    "\n",
    "grafo = plota_grafo(y)\n",
    "print(grafo)"
   ]
  },
  {
   "cell_type": "markdown",
   "metadata": {},
   "source": [
    "## Conclusão\n",
    "\n"
   ]
  },
  {
   "cell_type": "markdown",
   "metadata": {},
   "source": [
    "Seguindo o assunto sobre classes em `Python`, esse experimento três, feito na mesma aula que o experimento dois, utilizamos da modelo de classes para construir o primeiro passo de uma rede neural artificial usando um grafo que trabalhamos em sala de aula, fora do JupyterLab Notebook. Podemos ver esse grafo construído na sessão \"Refazendo o grafo que fizemos na aula anterior\". \n",
    "\n",
    "Portanto, foi criada uma classe que gerasse automaticamente um grafo computacional, que representa todas as operações matemáticas relacionadas a um dado valor <i>y</i>.\n",
    "\n",
    "Ao podemos observar ao longo do experimento, foram utilizados os mesmos modelos que no anterior, porém com o fator de operações matemáticas, as quais não conseguem ser computadas de maneira convencional, uma vez que as informações se encontram dentro da classe e a maneira que estamos acostumados a realizar os cálculos está fora dela, de forma que a máquina não consiga ler os valores chamados pelas variáveis definidas. O computador não consegue computar uma informação que ele não tem ainda, ela precisa ser dada a ele por você. Por esse motivo, foram criados os 'dunders' chamados `__add__` e `__mul__`, que simplesmente comandam que os valores de <i>a</i> e de <i>b</i> sejam somados e multiplicados, respectivamente.\n",
    "\n",
    "Já que o intuito principal é construir grafos, precisamos definir os vértices deles, tais que contém informações que darão origem aos vértices consecutivos, chamados de progenitores. Como é necessário que essas informações sejam armazenadas, elas precisam ser colocadas dentro da classe, como visto na <i>dunder</i> `__init__`, na sessão \"Registrando os progenitores\", em que temos o parâmetro\n",
    "`progenitor=()` referenciado na função inicial. Ele é muito importante dentro das <i>dunders</i> `__add__` e `__mul__`, para poder ir armazenando os valores calculados da rede, que estão definidos com `outro_valor`. Da mesma forma acontece com o <i><b>operador mãe</b></i>, que pode ser usado para gerar o vértice resultante do cálculo dos progenitores.\n",
    "\n",
    "Lembre-se de rotular cada vértice, de modo a deixar o grafo plotado mais organizado e compreensível.\n",
    "\n",
    "<b>Nota:</b> Por enquanto, qualquer grafo plotado neste Notebook não pode ser visualizado, pois meu computador não possui o software necessário para retornar a imagem dentro do JupyterLab. Caso não tenha o software em seu computador e queria ver sem precisar baixá-lo, primeiramente, certifique-se de que tenha instalado o pacote `graphviz` (pode baixá-lo usando o código presente na célula 'raw' abaixo). Depois, acesse o seguinte link https://dreampuf.github.io/GraphvizOnline/ e copie cada um dos URL's retornados pelos códigos acima e substitua o que está no script em preto pelo `digraph` que deseja ver."
   ]
  },
  {
   "cell_type": "raw",
   "metadata": {},
   "source": [
    "try:\n",
    "    import graphviz\n",
    "except ModuleNotFoundError:\n",
    "    import sys\n",
    "    !{sys.executable} -m pip install graphviz"
   ]
  },
  {
   "cell_type": "markdown",
   "metadata": {},
   "source": [
    "## Playground\n",
    "\n"
   ]
  },
  {
   "cell_type": "code",
   "execution_count": null,
   "metadata": {},
   "outputs": [],
   "source": []
  },
  {
   "cell_type": "code",
   "execution_count": null,
   "metadata": {},
   "outputs": [],
   "source": []
  },
  {
   "cell_type": "code",
   "execution_count": null,
   "metadata": {},
   "outputs": [],
   "source": []
  },
  {
   "cell_type": "code",
   "execution_count": null,
   "metadata": {},
   "outputs": [],
   "source": []
  }
 ],
 "metadata": {
  "kernelspec": {
   "display_name": "ilumpy",
   "language": "python",
   "name": "ilumpy"
  },
  "language_info": {
   "codemirror_mode": {
    "name": "ipython",
    "version": 3
   },
   "file_extension": ".py",
   "mimetype": "text/x-python",
   "name": "python",
   "nbconvert_exporter": "python",
   "pygments_lexer": "ipython3",
   "version": "3.9.7"
  },
  "org": null
 },
 "nbformat": 4,
 "nbformat_minor": 4
}
