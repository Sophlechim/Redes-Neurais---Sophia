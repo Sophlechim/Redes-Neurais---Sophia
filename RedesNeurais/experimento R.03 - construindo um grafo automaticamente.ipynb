{
 "cells": [
  {
   "cell_type": "markdown",
   "metadata": {},
   "source": [
    "Construindo um grafo automaticamente\n",
    "====================================\n",
    "\n"
   ]
  },
  {
   "cell_type": "markdown",
   "metadata": {},
   "source": [
    "## Introdução\n",
    "\n"
   ]
  },
  {
   "cell_type": "markdown",
   "metadata": {},
   "source": [
    "Neste notebook nós vamos dar o primeiro passo para construir nossa rede neural artificial. Neste primeiro passo, nós vamos criar uma classe que gera automaticamente o nosso `grafo computacional`. O grafo computacional é o grafo que representa todas as operações matemáticas que ocorreram ao se computar um certo valor $y$. O grafo computacional é um passo necessário pois será baseado nele que iremos computar os gradientes locais necessários para realizar o `backpropagation`.\n",
    "\n"
   ]
  },
  {
   "cell_type": "markdown",
   "metadata": {},
   "source": [
    "## Importações\n",
    "\n"
   ]
  },
  {
   "cell_type": "code",
   "execution_count": 1,
   "metadata": {},
   "outputs": [],
   "source": [
    "#lembrar de baixar o Digraph\n",
    "from funcoes import plota_grafo"
   ]
  },
  {
   "cell_type": "markdown",
   "metadata": {},
   "source": [
    "## Código e discussão\n",
    "\n"
   ]
  },
  {
   "cell_type": "markdown",
   "metadata": {},
   "source": [
    "### Primeiros passos\n",
    "\n"
   ]
  },
  {
   "cell_type": "markdown",
   "metadata": {},
   "source": [
    "A base de tudo será uma classe chamada `Valor`. Vamos começar pelo básico!\n",
    "\n"
   ]
  },
  {
   "cell_type": "code",
   "execution_count": 2,
   "metadata": {},
   "outputs": [],
   "source": [
    "class Valor:\n",
    "    def __init__(self, data):\n",
    "        self.data = data\n",
    "\n",
    "    def __repr__(self):\n",
    "        return f\"Valor(data={self.data})\""
   ]
  },
  {
   "cell_type": "markdown",
   "metadata": {},
   "source": [
    "Vamos testar nossa classe!\n",
    "\n"
   ]
  },
  {
   "cell_type": "code",
   "execution_count": 3,
   "metadata": {},
   "outputs": [
    {
     "name": "stdout",
     "output_type": "stream",
     "text": [
      "Valor(data=60)\n",
      "60\n"
     ]
    }
   ],
   "source": [
    "x1 = Valor(60)\n",
    "print(x1)\n",
    "print(x1.data)"
   ]
  },
  {
   "cell_type": "markdown",
   "metadata": {},
   "source": [
    "### Os dunders `__add__` e `__mul__`\n",
    "\n"
   ]
  },
  {
   "cell_type": "markdown",
   "metadata": {},
   "source": [
    "Observe que não conseguimos adicionar nem multiplicar objetos criados com a classe `Valor`.\n",
    "\n"
   ]
  },
  {
   "cell_type": "code",
   "execution_count": 4,
   "metadata": {},
   "outputs": [],
   "source": [
    "a = Valor(10)\n",
    "b = Valor(5)"
   ]
  },
  {
   "cell_type": "code",
   "execution_count": 5,
   "metadata": {},
   "outputs": [
    {
     "ename": "TypeError",
     "evalue": "unsupported operand type(s) for +: 'Valor' and 'Valor'",
     "output_type": "error",
     "traceback": [
      "\u001b[1;31m---------------------------------------------------------------------------\u001b[0m",
      "\u001b[1;31mTypeError\u001b[0m                                 Traceback (most recent call last)",
      "\u001b[1;32mC:\\Users\\SOPHIA~1\\AppData\\Local\\Temp/ipykernel_10544/2625627558.py\u001b[0m in \u001b[0;36m<module>\u001b[1;34m\u001b[0m\n\u001b[1;32m----> 1\u001b[1;33m \u001b[0mprint\u001b[0m\u001b[1;33m(\u001b[0m\u001b[0ma\u001b[0m \u001b[1;33m+\u001b[0m \u001b[0mb\u001b[0m\u001b[1;33m)\u001b[0m \u001b[1;31m#o python não sabe ler isso sozinho\u001b[0m\u001b[1;33m\u001b[0m\u001b[1;33m\u001b[0m\u001b[0m\n\u001b[0m",
      "\u001b[1;31mTypeError\u001b[0m: unsupported operand type(s) for +: 'Valor' and 'Valor'"
     ]
    }
   ],
   "source": [
    "print(a + b) #o python não sabe ler isso sozinho"
   ]
  },
  {
   "cell_type": "code",
   "execution_count": 6,
   "metadata": {},
   "outputs": [
    {
     "ename": "TypeError",
     "evalue": "unsupported operand type(s) for *: 'Valor' and 'Valor'",
     "output_type": "error",
     "traceback": [
      "\u001b[1;31m---------------------------------------------------------------------------\u001b[0m",
      "\u001b[1;31mTypeError\u001b[0m                                 Traceback (most recent call last)",
      "\u001b[1;32mC:\\Users\\SOPHIA~1\\AppData\\Local\\Temp/ipykernel_10544/2766282905.py\u001b[0m in \u001b[0;36m<module>\u001b[1;34m\u001b[0m\n\u001b[1;32m----> 1\u001b[1;33m \u001b[0mprint\u001b[0m\u001b[1;33m(\u001b[0m\u001b[0ma\u001b[0m \u001b[1;33m*\u001b[0m \u001b[0mb\u001b[0m\u001b[1;33m)\u001b[0m \u001b[1;31m#nem isso aqui\u001b[0m\u001b[1;33m\u001b[0m\u001b[1;33m\u001b[0m\u001b[0m\n\u001b[0m",
      "\u001b[1;31mTypeError\u001b[0m: unsupported operand type(s) for *: 'Valor' and 'Valor'"
     ]
    }
   ],
   "source": [
    "print(a * b) #nem isso aqui"
   ]
  },
  {
   "cell_type": "markdown",
   "metadata": {},
   "source": [
    "Ué&#x2026; porque não conseguimos? Não conseguimos pois o Python (ainda) não é vidente. Ele lá vai saber como adicionar ou multiplicar algo que você criou? Pra você parece óbvio que valores podem ser adicionados ou multiplicados, mas para o Python ele nem sabe o que significa a palavra `Valor`&#x2026;\n",
    "\n",
    "Como sempre, temos que contar para o programa o que queremos que aconteça quando usarmos os operadores `+` e `*`. Quem faz isso são os dunders `__add__` e `__mul__`.\n",
    "\n"
   ]
  },
  {
   "cell_type": "code",
   "execution_count": 7,
   "metadata": {},
   "outputs": [],
   "source": [
    "class Valor:\n",
    "    def __init__(self, data):\n",
    "        self.data = data\n",
    "\n",
    "    def __repr__(self):\n",
    "        return f\"Valor(data={self.data})\"\n",
    "\n",
    "    def __add__(self, outro_valor):\n",
    "        saida = Valor(self.data + outro_valor.data)\n",
    "        return saida\n",
    "\n",
    "    def __mul__(self, outro_valor):\n",
    "        saida = Valor(self.data * outro_valor.data)\n",
    "        return saida"
   ]
  },
  {
   "cell_type": "markdown",
   "metadata": {},
   "source": [
    "Vamos testar!\n",
    "\n"
   ]
  },
  {
   "cell_type": "code",
   "execution_count": 8,
   "metadata": {},
   "outputs": [
    {
     "name": "stdout",
     "output_type": "stream",
     "text": [
      "Valor(data=15)\n",
      "Valor(data=50)\n",
      "15\n",
      "50\n"
     ]
    }
   ],
   "source": [
    "a = Valor(10)\n",
    "b = Valor(5)\n",
    "\n",
    "print(a + b)\n",
    "print(a * b)\n",
    "\n",
    "print((a + b).data)\n",
    "print((a * b).data)"
   ]
  },
  {
   "cell_type": "markdown",
   "metadata": {},
   "source": [
    "### Registrando os progenitores\n",
    "\n"
   ]
  },
  {
   "cell_type": "markdown",
   "metadata": {},
   "source": [
    "Nosso objetivo é construir um grafo computacional. Em um grafo computacional, um certo vértice pode ter um ou mais vértices progenitores (são seus pais/mães). Nós não podemos perder essa informação quando formos construir um grafo, então precisamos incluir essa informação na nossa classe.\n",
    "\n"
   ]
  },
  {
   "cell_type": "code",
   "execution_count": 9,
   "metadata": {},
   "outputs": [],
   "source": [
    "class Valor:\n",
    "    def __init__(self, data, progenitor=()):\n",
    "        self.data = data\n",
    "        self.progenitor = progenitor\n",
    "\n",
    "    def __repr__(self):\n",
    "        return f\"Valor(data={self.data})\"\n",
    "\n",
    "    def __add__(self, outro_valor):\n",
    "        data = self.data + outro_valor.data\n",
    "        progenitor = (self, outro_valor)\n",
    "        saida = Valor(data, progenitor)\n",
    "        return saida\n",
    "\n",
    "    def __mul__(self, outro_valor):\n",
    "        data = self.data * outro_valor.data\n",
    "        progenitor = (self, outro_valor)\n",
    "        saida = Valor(data, progenitor)\n",
    "        return saida"
   ]
  },
  {
   "cell_type": "markdown",
   "metadata": {},
   "source": [
    "Vamos testar!\n",
    "\n"
   ]
  },
  {
   "cell_type": "code",
   "execution_count": 10,
   "metadata": {},
   "outputs": [
    {
     "name": "stdout",
     "output_type": "stream",
     "text": [
      "10\n",
      "()\n",
      "Valor(data=15)\n",
      "Valor(data=10)\n",
      "(Valor(data=15), Valor(data=10))\n"
     ]
    }
   ],
   "source": [
    "a = Valor(10)\n",
    "b = Valor(5)\n",
    "\n",
    "print(a.data)\n",
    "print(a.progenitor)\n",
    "\n",
    "c = a + b\n",
    "d = c * a\n",
    "\n",
    "print(c)\n",
    "print(a)\n",
    "print(d.progenitor)"
   ]
  },
  {
   "cell_type": "markdown",
   "metadata": {},
   "source": [
    "### Registrando o operador mãe\n",
    "\n"
   ]
  },
  {
   "cell_type": "markdown",
   "metadata": {},
   "source": [
    "Em um grafo computacional, um vértice pode ter um operador mãe. O operador mãe é o operador que foi usado para gerar o vértice.\n",
    "\n"
   ]
  },
  {
   "cell_type": "code",
   "execution_count": 11,
   "metadata": {},
   "outputs": [],
   "source": [
    "class Valor:\n",
    "    def __init__(self, data, progenitor=(), operador_mae=\"\"):\n",
    "        self.data = data\n",
    "        self.progenitor = progenitor\n",
    "        self.operador_mae = operador_mae\n",
    "\n",
    "    def __repr__(self):\n",
    "        return f\"Valor(data={self.data})\"\n",
    "\n",
    "    def __add__(self, outro_valor):\n",
    "        data = self.data + outro_valor.data\n",
    "        progenitor = (self, outro_valor)\n",
    "        operador_mae = \"+\"\n",
    "        saida = Valor(data, progenitor, operador_mae)\n",
    "        return saida\n",
    "\n",
    "    def __mul__(self, outro_valor):\n",
    "        data = self.data * outro_valor.data\n",
    "        progenitor = (self, outro_valor)\n",
    "        operador_mae = \"*\"\n",
    "        saida = Valor(data, progenitor, operador_mae)\n",
    "        return saida"
   ]
  },
  {
   "cell_type": "markdown",
   "metadata": {},
   "source": [
    "Vamos testar!\n",
    "\n"
   ]
  },
  {
   "cell_type": "code",
   "execution_count": 12,
   "metadata": {},
   "outputs": [
    {
     "name": "stdout",
     "output_type": "stream",
     "text": [
      "Valor(data=15)\n",
      "(Valor(data=10), Valor(data=5))\n",
      "+\n"
     ]
    }
   ],
   "source": [
    "a = Valor(10)\n",
    "b = Valor(5)\n",
    "\n",
    "c = a + b\n",
    "d = c * a\n",
    "\n",
    "print(c)\n",
    "print(c.progenitor)\n",
    "print(c.operador_mae)"
   ]
  },
  {
   "cell_type": "markdown",
   "metadata": {},
   "source": [
    "### Plotando o primeiro grafo\n",
    "\n"
   ]
  },
  {
   "cell_type": "markdown",
   "metadata": {},
   "source": [
    "Vamos plotar nosso primeiro grafo!\n",
    "\n"
   ]
  },
  {
   "cell_type": "code",
   "execution_count": 13,
   "metadata": {},
   "outputs": [
    {
     "data": {
      "image/svg+xml": [
       "<?xml version=\"1.0\" encoding=\"UTF-8\" standalone=\"no\"?>\n",
       "<!DOCTYPE svg PUBLIC \"-//W3C//DTD SVG 1.1//EN\"\n",
       " \"http://www.w3.org/Graphics/SVG/1.1/DTD/svg11.dtd\">\n",
       "<!-- Generated by graphviz version 6.0.2 (20221011.1828)\n",
       " -->\n",
       "<!-- Pages: 1 -->\n",
       "<svg width=\"515pt\" height=\"128pt\"\n",
       " viewBox=\"0.00 0.00 515.00 128.00\" xmlns=\"http://www.w3.org/2000/svg\" xmlns:xlink=\"http://www.w3.org/1999/xlink\">\n",
       "<g id=\"graph0\" class=\"graph\" transform=\"scale(1 1) rotate(0) translate(4 124)\">\n",
       "<polygon fill=\"white\" stroke=\"none\" points=\"-4,4 -4,-124 511,-124 511,4 -4,4\"/>\n",
       "<!-- 3064082519568 -->\n",
       "<g id=\"node1\" class=\"node\">\n",
       "<title>3064082519568</title>\n",
       "<polygon fill=\"none\" stroke=\"black\" points=\"0,-83.5 0,-119.5 86,-119.5 86,-83.5 0,-83.5\"/>\n",
       "<text text-anchor=\"middle\" x=\"43\" y=\"-97.8\" font-family=\"Times New Roman,serif\" font-size=\"14.00\">data &#45;3.0000</text>\n",
       "</g>\n",
       "<!-- 3064082519376* -->\n",
       "<g id=\"node6\" class=\"node\">\n",
       "<title>3064082519376*</title>\n",
       "<ellipse fill=\"none\" stroke=\"black\" cx=\"149\" cy=\"-73.5\" rx=\"27\" ry=\"18\"/>\n",
       "<text text-anchor=\"middle\" x=\"149\" y=\"-69.8\" font-family=\"Times New Roman,serif\" font-size=\"14.00\">*</text>\n",
       "</g>\n",
       "<!-- 3064082519568&#45;&gt;3064082519376* -->\n",
       "<g id=\"edge3\" class=\"edge\">\n",
       "<title>3064082519568&#45;&gt;3064082519376*</title>\n",
       "<path fill=\"none\" stroke=\"black\" d=\"M86,-90.19C95.34,-87.68 105.13,-85.04 114.09,-82.63\"/>\n",
       "<polygon fill=\"black\" stroke=\"black\" points=\"115.05,-86 123.8,-80.02 113.23,-79.24 115.05,-86\"/>\n",
       "</g>\n",
       "<!-- 3064082520672 -->\n",
       "<g id=\"node2\" class=\"node\">\n",
       "<title>3064082520672</title>\n",
       "<polygon fill=\"none\" stroke=\"black\" points=\"212,-0.5 212,-36.5 300,-36.5 300,-0.5 212,-0.5\"/>\n",
       "<text text-anchor=\"middle\" x=\"256\" y=\"-14.8\" font-family=\"Times New Roman,serif\" font-size=\"14.00\">data 10.0000</text>\n",
       "</g>\n",
       "<!-- 3064081923184+ -->\n",
       "<g id=\"node4\" class=\"node\">\n",
       "<title>3064081923184+</title>\n",
       "<ellipse fill=\"none\" stroke=\"black\" cx=\"363\" cy=\"-45.5\" rx=\"27\" ry=\"18\"/>\n",
       "<text text-anchor=\"middle\" x=\"363\" y=\"-41.8\" font-family=\"Times New Roman,serif\" font-size=\"14.00\">+</text>\n",
       "</g>\n",
       "<!-- 3064082520672&#45;&gt;3064081923184+ -->\n",
       "<g id=\"edge5\" class=\"edge\">\n",
       "<title>3064082520672&#45;&gt;3064081923184+</title>\n",
       "<path fill=\"none\" stroke=\"black\" d=\"M300.01,-29.56C309.21,-31.93 318.81,-34.39 327.63,-36.66\"/>\n",
       "<polygon fill=\"black\" stroke=\"black\" points=\"327.01,-40.12 337.56,-39.22 328.75,-33.34 327.01,-40.12\"/>\n",
       "</g>\n",
       "<!-- 3064081923184 -->\n",
       "<g id=\"node3\" class=\"node\">\n",
       "<title>3064081923184</title>\n",
       "<polygon fill=\"none\" stroke=\"black\" points=\"426,-27.5 426,-63.5 507,-63.5 507,-27.5 426,-27.5\"/>\n",
       "<text text-anchor=\"middle\" x=\"466.5\" y=\"-41.8\" font-family=\"Times New Roman,serif\" font-size=\"14.00\">data 4.0000</text>\n",
       "</g>\n",
       "<!-- 3064081923184+&#45;&gt;3064081923184 -->\n",
       "<g id=\"edge1\" class=\"edge\">\n",
       "<title>3064081923184+&#45;&gt;3064081923184</title>\n",
       "<path fill=\"none\" stroke=\"black\" d=\"M390.14,-45.5C397.91,-45.5 406.69,-45.5 415.45,-45.5\"/>\n",
       "<polygon fill=\"black\" stroke=\"black\" points=\"415.65,-49 425.65,-45.5 415.65,-42 415.65,-49\"/>\n",
       "</g>\n",
       "<!-- 3064082519376 -->\n",
       "<g id=\"node5\" class=\"node\">\n",
       "<title>3064082519376</title>\n",
       "<polygon fill=\"none\" stroke=\"black\" points=\"213,-55.5 213,-91.5 299,-91.5 299,-55.5 213,-55.5\"/>\n",
       "<text text-anchor=\"middle\" x=\"256\" y=\"-69.8\" font-family=\"Times New Roman,serif\" font-size=\"14.00\">data &#45;6.0000</text>\n",
       "</g>\n",
       "<!-- 3064082519376&#45;&gt;3064081923184+ -->\n",
       "<g id=\"edge6\" class=\"edge\">\n",
       "<title>3064082519376&#45;&gt;3064081923184+</title>\n",
       "<path fill=\"none\" stroke=\"black\" d=\"M299.1,-62.27C308.64,-59.73 318.65,-57.06 327.81,-54.62\"/>\n",
       "<polygon fill=\"black\" stroke=\"black\" points=\"328.96,-57.93 337.72,-51.97 327.16,-51.17 328.96,-57.93\"/>\n",
       "</g>\n",
       "<!-- 3064082519376*&#45;&gt;3064082519376 -->\n",
       "<g id=\"edge2\" class=\"edge\">\n",
       "<title>3064082519376*&#45;&gt;3064082519376</title>\n",
       "<path fill=\"none\" stroke=\"black\" d=\"M176.23,-73.5C184.26,-73.5 193.4,-73.5 202.53,-73.5\"/>\n",
       "<polygon fill=\"black\" stroke=\"black\" points=\"202.79,-77 212.79,-73.5 202.79,-70 202.79,-77\"/>\n",
       "</g>\n",
       "<!-- 3064082520432 -->\n",
       "<g id=\"node7\" class=\"node\">\n",
       "<title>3064082520432</title>\n",
       "<polygon fill=\"none\" stroke=\"black\" points=\"2.5,-28.5 2.5,-64.5 83.5,-64.5 83.5,-28.5 2.5,-28.5\"/>\n",
       "<text text-anchor=\"middle\" x=\"43\" y=\"-42.8\" font-family=\"Times New Roman,serif\" font-size=\"14.00\">data 2.0000</text>\n",
       "</g>\n",
       "<!-- 3064082520432&#45;&gt;3064082519376* -->\n",
       "<g id=\"edge4\" class=\"edge\">\n",
       "<title>3064082520432&#45;&gt;3064082519376*</title>\n",
       "<path fill=\"none\" stroke=\"black\" d=\"M83.61,-56.78C93.48,-59.35 103.97,-62.07 113.57,-64.56\"/>\n",
       "<polygon fill=\"black\" stroke=\"black\" points=\"112.99,-68.03 123.55,-67.15 114.75,-61.25 112.99,-68.03\"/>\n",
       "</g>\n",
       "</g>\n",
       "</svg>\n"
      ],
      "text/plain": [
       "<graphviz.graphs.Digraph at 0x2c9698cd040>"
      ]
     },
     "execution_count": 13,
     "metadata": {},
     "output_type": "execute_result"
    }
   ],
   "source": [
    "#precisa do graphviz\n",
    "a = Valor(2)\n",
    "b = Valor(-3)\n",
    "c = Valor(10)\n",
    "\n",
    "d = a * b\n",
    "e = d + c\n",
    "\n",
    "plota_grafo(e)"
   ]
  },
  {
   "cell_type": "markdown",
   "metadata": {},
   "source": [
    "### Registrando o rótulo\n",
    "\n"
   ]
  },
  {
   "cell_type": "markdown",
   "metadata": {},
   "source": [
    "Nosso grafo seria mais legível se tivéssemos rótulos indicando o que é cada vértice. Vamos incluir essa informação na nossa classe.\n",
    "\n"
   ]
  },
  {
   "cell_type": "code",
   "execution_count": 14,
   "metadata": {},
   "outputs": [],
   "source": [
    "class Valor:\n",
    "    def __init__(self, data, progenitor=(), operador_mae=\"\", rotulo=\"\"):\n",
    "        self.data = data\n",
    "        self.progenitor = progenitor\n",
    "        self.operador_mae = operador_mae\n",
    "        self.rotulo = rotulo\n",
    "\n",
    "    def __repr__(self):\n",
    "        return f\"Valor(data={self.data})\"\n",
    "\n",
    "    def __add__(self, outro_valor):\n",
    "        data = self.data + outro_valor.data\n",
    "        progenitor = (self, outro_valor)\n",
    "        operador_mae = \"+\"\n",
    "        saida = Valor(data, progenitor, operador_mae)\n",
    "        return saida\n",
    "\n",
    "    def __mul__(self, outro_valor):\n",
    "        data = self.data * outro_valor.data\n",
    "        progenitor = (self, outro_valor)\n",
    "        operador_mae = \"*\"\n",
    "        saida = Valor(data, progenitor, operador_mae)\n",
    "        return saida"
   ]
  },
  {
   "cell_type": "markdown",
   "metadata": {},
   "source": [
    "Vamos testar!\n",
    "\n"
   ]
  },
  {
   "cell_type": "code",
   "execution_count": 15,
   "metadata": {},
   "outputs": [
    {
     "data": {
      "image/svg+xml": [
       "<?xml version=\"1.0\" encoding=\"UTF-8\" standalone=\"no\"?>\n",
       "<!DOCTYPE svg PUBLIC \"-//W3C//DTD SVG 1.1//EN\"\n",
       " \"http://www.w3.org/Graphics/SVG/1.1/DTD/svg11.dtd\">\n",
       "<!-- Generated by graphviz version 6.0.2 (20221011.1828)\n",
       " -->\n",
       "<!-- Pages: 1 -->\n",
       "<svg width=\"585pt\" height=\"128pt\"\n",
       " viewBox=\"0.00 0.00 585.00 128.00\" xmlns=\"http://www.w3.org/2000/svg\" xmlns:xlink=\"http://www.w3.org/1999/xlink\">\n",
       "<g id=\"graph0\" class=\"graph\" transform=\"scale(1 1) rotate(0) translate(4 124)\">\n",
       "<polygon fill=\"white\" stroke=\"none\" points=\"-4,4 -4,-124 581,-124 581,4 -4,4\"/>\n",
       "<!-- 3064083314912 -->\n",
       "<g id=\"node1\" class=\"node\">\n",
       "<title>3064083314912</title>\n",
       "<polygon fill=\"none\" stroke=\"black\" points=\"3,-83.5 3,-119.5 107,-119.5 107,-83.5 3,-83.5\"/>\n",
       "<text text-anchor=\"middle\" x=\"14.5\" y=\"-97.8\" font-family=\"Times New Roman,serif\" font-size=\"14.00\">a</text>\n",
       "<polyline fill=\"none\" stroke=\"black\" points=\"26,-83.5 26,-119.5\"/>\n",
       "<text text-anchor=\"middle\" x=\"66.5\" y=\"-97.8\" font-family=\"Times New Roman,serif\" font-size=\"14.00\">data 2.0000</text>\n",
       "</g>\n",
       "<!-- 3064083313952* -->\n",
       "<g id=\"node4\" class=\"node\">\n",
       "<title>3064083313952*</title>\n",
       "<ellipse fill=\"none\" stroke=\"black\" cx=\"173\" cy=\"-73.5\" rx=\"27\" ry=\"18\"/>\n",
       "<text text-anchor=\"middle\" x=\"173\" y=\"-69.8\" font-family=\"Times New Roman,serif\" font-size=\"14.00\">*</text>\n",
       "</g>\n",
       "<!-- 3064083314912&#45;&gt;3064083313952* -->\n",
       "<g id=\"edge3\" class=\"edge\">\n",
       "<title>3064083314912&#45;&gt;3064083313952*</title>\n",
       "<path fill=\"none\" stroke=\"black\" d=\"M107.22,-89.14C117.47,-86.66 128.01,-84.12 137.53,-81.82\"/>\n",
       "<polygon fill=\"black\" stroke=\"black\" points=\"138.5,-85.19 147.39,-79.44 136.85,-78.38 138.5,-85.19\"/>\n",
       "</g>\n",
       "<!-- 3064083315440 -->\n",
       "<g id=\"node2\" class=\"node\">\n",
       "<title>3064083315440</title>\n",
       "<polygon fill=\"none\" stroke=\"black\" points=\"0,-28.5 0,-64.5 110,-64.5 110,-28.5 0,-28.5\"/>\n",
       "<text text-anchor=\"middle\" x=\"12\" y=\"-42.8\" font-family=\"Times New Roman,serif\" font-size=\"14.00\">b</text>\n",
       "<polyline fill=\"none\" stroke=\"black\" points=\"24,-28.5 24,-64.5\"/>\n",
       "<text text-anchor=\"middle\" x=\"67\" y=\"-42.8\" font-family=\"Times New Roman,serif\" font-size=\"14.00\">data &#45;3.0000</text>\n",
       "</g>\n",
       "<!-- 3064083315440&#45;&gt;3064083313952* -->\n",
       "<g id=\"edge4\" class=\"edge\">\n",
       "<title>3064083315440&#45;&gt;3064083313952*</title>\n",
       "<path fill=\"none\" stroke=\"black\" d=\"M110.26,-59.13C119.49,-61.28 128.84,-63.45 137.37,-65.44\"/>\n",
       "<polygon fill=\"black\" stroke=\"black\" points=\"136.79,-68.9 147.32,-67.76 138.38,-62.08 136.79,-68.9\"/>\n",
       "</g>\n",
       "<!-- 3064083313952 -->\n",
       "<g id=\"node3\" class=\"node\">\n",
       "<title>3064083313952</title>\n",
       "<polygon fill=\"none\" stroke=\"black\" points=\"236.5,-55.5 236.5,-91.5 346.5,-91.5 346.5,-55.5 236.5,-55.5\"/>\n",
       "<text text-anchor=\"middle\" x=\"248.5\" y=\"-69.8\" font-family=\"Times New Roman,serif\" font-size=\"14.00\">d</text>\n",
       "<polyline fill=\"none\" stroke=\"black\" points=\"260.5,-55.5 260.5,-91.5\"/>\n",
       "<text text-anchor=\"middle\" x=\"303.5\" y=\"-69.8\" font-family=\"Times New Roman,serif\" font-size=\"14.00\">data &#45;6.0000</text>\n",
       "</g>\n",
       "<!-- 3064083315680+ -->\n",
       "<g id=\"node7\" class=\"node\">\n",
       "<title>3064083315680+</title>\n",
       "<ellipse fill=\"none\" stroke=\"black\" cx=\"410\" cy=\"-45.5\" rx=\"27\" ry=\"18\"/>\n",
       "<text text-anchor=\"middle\" x=\"410\" y=\"-41.8\" font-family=\"Times New Roman,serif\" font-size=\"14.00\">+</text>\n",
       "</g>\n",
       "<!-- 3064083313952&#45;&gt;3064083315680+ -->\n",
       "<g id=\"edge5\" class=\"edge\">\n",
       "<title>3064083313952&#45;&gt;3064083315680+</title>\n",
       "<path fill=\"none\" stroke=\"black\" d=\"M346.66,-60.48C356.14,-58.2 365.77,-55.89 374.53,-53.79\"/>\n",
       "<polygon fill=\"black\" stroke=\"black\" points=\"375.45,-57.16 384.35,-51.42 373.81,-50.36 375.45,-57.16\"/>\n",
       "</g>\n",
       "<!-- 3064083313952*&#45;&gt;3064083313952 -->\n",
       "<g id=\"edge1\" class=\"edge\">\n",
       "<title>3064083313952*&#45;&gt;3064083313952</title>\n",
       "<path fill=\"none\" stroke=\"black\" d=\"M200.14,-73.5C208.03,-73.5 217.05,-73.5 226.28,-73.5\"/>\n",
       "<polygon fill=\"black\" stroke=\"black\" points=\"226.32,-77 236.32,-73.5 226.32,-70 226.32,-77\"/>\n",
       "</g>\n",
       "<!-- 3064083314048 -->\n",
       "<g id=\"node5\" class=\"node\">\n",
       "<title>3064083314048</title>\n",
       "<polygon fill=\"none\" stroke=\"black\" points=\"236,-0.5 236,-36.5 347,-36.5 347,-0.5 236,-0.5\"/>\n",
       "<text text-anchor=\"middle\" x=\"247.5\" y=\"-14.8\" font-family=\"Times New Roman,serif\" font-size=\"14.00\">c</text>\n",
       "<polyline fill=\"none\" stroke=\"black\" points=\"259,-0.5 259,-36.5\"/>\n",
       "<text text-anchor=\"middle\" x=\"303\" y=\"-14.8\" font-family=\"Times New Roman,serif\" font-size=\"14.00\">data 10.0000</text>\n",
       "</g>\n",
       "<!-- 3064083314048&#45;&gt;3064083315680+ -->\n",
       "<g id=\"edge6\" class=\"edge\">\n",
       "<title>3064083314048&#45;&gt;3064083315680+</title>\n",
       "<path fill=\"none\" stroke=\"black\" d=\"M347.34,-31.21C356.57,-33.35 365.91,-35.51 374.44,-37.49\"/>\n",
       "<polygon fill=\"black\" stroke=\"black\" points=\"373.85,-40.95 384.38,-39.79 375.43,-34.13 373.85,-40.95\"/>\n",
       "</g>\n",
       "<!-- 3064083315680 -->\n",
       "<g id=\"node6\" class=\"node\">\n",
       "<title>3064083315680</title>\n",
       "<polygon fill=\"none\" stroke=\"black\" points=\"473,-27.5 473,-63.5 577,-63.5 577,-27.5 473,-27.5\"/>\n",
       "<text text-anchor=\"middle\" x=\"484.5\" y=\"-41.8\" font-family=\"Times New Roman,serif\" font-size=\"14.00\">e</text>\n",
       "<polyline fill=\"none\" stroke=\"black\" points=\"496,-27.5 496,-63.5\"/>\n",
       "<text text-anchor=\"middle\" x=\"536.5\" y=\"-41.8\" font-family=\"Times New Roman,serif\" font-size=\"14.00\">data 4.0000</text>\n",
       "</g>\n",
       "<!-- 3064083315680+&#45;&gt;3064083315680 -->\n",
       "<g id=\"edge2\" class=\"edge\">\n",
       "<title>3064083315680+&#45;&gt;3064083315680</title>\n",
       "<path fill=\"none\" stroke=\"black\" d=\"M437.21,-45.5C444.88,-45.5 453.62,-45.5 462.51,-45.5\"/>\n",
       "<polygon fill=\"black\" stroke=\"black\" points=\"462.58,-49 472.58,-45.5 462.58,-42 462.58,-49\"/>\n",
       "</g>\n",
       "</g>\n",
       "</svg>\n"
      ],
      "text/plain": [
       "<graphviz.graphs.Digraph at 0x2c96998fc70>"
      ]
     },
     "execution_count": 15,
     "metadata": {},
     "output_type": "execute_result"
    }
   ],
   "source": [
    "#precisa do graphviz\n",
    "a = Valor(2, rotulo=\"a\")\n",
    "b = Valor(-3, rotulo=\"b\")\n",
    "c = Valor(10, rotulo=\"c\")\n",
    "\n",
    "d = a * b\n",
    "e = d + c\n",
    "\n",
    "d.rotulo = \"d\"\n",
    "e.rotulo = \"e\"\n",
    "\n",
    "plota_grafo(e)"
   ]
  },
  {
   "cell_type": "markdown",
   "metadata": {},
   "source": [
    "### Refazendo o grafo que fizemos na aula anterior\n",
    "\n"
   ]
  },
  {
   "cell_type": "markdown",
   "metadata": {},
   "source": [
    "Na aula anterior nós fizemos um grafo computacional para aprender como funciona o backpropagation. Vamos refazer ele aqui!\n",
    "\n"
   ]
  },
  {
   "cell_type": "code",
   "execution_count": 16,
   "metadata": {},
   "outputs": [
    {
     "data": {
      "image/svg+xml": [
       "<?xml version=\"1.0\" encoding=\"UTF-8\" standalone=\"no\"?>\n",
       "<!DOCTYPE svg PUBLIC \"-//W3C//DTD SVG 1.1//EN\"\n",
       " \"http://www.w3.org/Graphics/SVG/1.1/DTD/svg11.dtd\">\n",
       "<!-- Generated by graphviz version 6.0.2 (20221011.1828)\n",
       " -->\n",
       "<!-- Pages: 1 -->\n",
       "<svg width=\"1196pt\" height=\"210pt\"\n",
       " viewBox=\"0.00 0.00 1196.00 210.00\" xmlns=\"http://www.w3.org/2000/svg\" xmlns:xlink=\"http://www.w3.org/1999/xlink\">\n",
       "<g id=\"graph0\" class=\"graph\" transform=\"scale(1 1) rotate(0) translate(4 206)\">\n",
       "<polygon fill=\"white\" stroke=\"none\" points=\"-4,4 -4,-206 1192,-206 1192,4 -4,4\"/>\n",
       "<!-- 3064082029584 -->\n",
       "<g id=\"node1\" class=\"node\">\n",
       "<title>3064082029584</title>\n",
       "<polygon fill=\"none\" stroke=\"black\" points=\"822,-109.5 822,-145.5 936,-145.5 936,-109.5 822,-109.5\"/>\n",
       "<text text-anchor=\"middle\" x=\"838.5\" y=\"-123.8\" font-family=\"Times New Roman,serif\" font-size=\"14.00\">w3</text>\n",
       "<polyline fill=\"none\" stroke=\"black\" points=\"855,-109.5 855,-145.5\"/>\n",
       "<text text-anchor=\"middle\" x=\"895.5\" y=\"-123.8\" font-family=\"Times New Roman,serif\" font-size=\"14.00\">data 2.0000</text>\n",
       "</g>\n",
       "<!-- 3064083262576* -->\n",
       "<g id=\"node6\" class=\"node\">\n",
       "<title>3064083262576*</title>\n",
       "<ellipse fill=\"none\" stroke=\"black\" cx=\"1001\" cy=\"-99.5\" rx=\"27\" ry=\"18\"/>\n",
       "<text text-anchor=\"middle\" x=\"1001\" y=\"-95.8\" font-family=\"Times New Roman,serif\" font-size=\"14.00\">*</text>\n",
       "</g>\n",
       "<!-- 3064082029584&#45;&gt;3064083262576* -->\n",
       "<g id=\"edge15\" class=\"edge\">\n",
       "<title>3064082029584&#45;&gt;3064083262576*</title>\n",
       "<path fill=\"none\" stroke=\"black\" d=\"M936.14,-114.4C946.15,-112.06 956.31,-109.69 965.49,-107.55\"/>\n",
       "<polygon fill=\"black\" stroke=\"black\" points=\"966.44,-110.92 975.38,-105.24 964.85,-104.11 966.44,-110.92\"/>\n",
       "</g>\n",
       "<!-- 3064082464336 -->\n",
       "<g id=\"node2\" class=\"node\">\n",
       "<title>3064082464336</title>\n",
       "<polygon fill=\"none\" stroke=\"black\" points=\"0,-165.5 0,-201.5 121,-201.5 121,-165.5 0,-165.5\"/>\n",
       "<text text-anchor=\"middle\" x=\"16.5\" y=\"-179.8\" font-family=\"Times New Roman,serif\" font-size=\"14.00\">w1</text>\n",
       "<polyline fill=\"none\" stroke=\"black\" points=\"33,-165.5 33,-201.5\"/>\n",
       "<text text-anchor=\"middle\" x=\"77\" y=\"-179.8\" font-family=\"Times New Roman,serif\" font-size=\"14.00\">data 10.0000</text>\n",
       "</g>\n",
       "<!-- 3064082028240* -->\n",
       "<g id=\"node9\" class=\"node\">\n",
       "<title>3064082028240*</title>\n",
       "<ellipse fill=\"none\" stroke=\"black\" cx=\"184\" cy=\"-128.5\" rx=\"27\" ry=\"18\"/>\n",
       "<text text-anchor=\"middle\" x=\"184\" y=\"-124.8\" font-family=\"Times New Roman,serif\" font-size=\"14.00\">*</text>\n",
       "</g>\n",
       "<!-- 3064082464336&#45;&gt;3064082028240* -->\n",
       "<g id=\"edge11\" class=\"edge\">\n",
       "<title>3064082464336&#45;&gt;3064082028240*</title>\n",
       "<path fill=\"none\" stroke=\"black\" d=\"M101.28,-165.49C117.79,-158.02 136.65,-149.48 152.09,-142.49\"/>\n",
       "<polygon fill=\"black\" stroke=\"black\" points=\"153.54,-145.68 161.21,-138.36 150.65,-139.3 153.54,-145.68\"/>\n",
       "</g>\n",
       "<!-- 3064082029152 -->\n",
       "<g id=\"node3\" class=\"node\">\n",
       "<title>3064082029152</title>\n",
       "<polygon fill=\"none\" stroke=\"black\" points=\"576,-82.5 576,-118.5 694,-118.5 694,-82.5 576,-82.5\"/>\n",
       "<text text-anchor=\"middle\" x=\"587.5\" y=\"-96.8\" font-family=\"Times New Roman,serif\" font-size=\"14.00\">n</text>\n",
       "<polyline fill=\"none\" stroke=\"black\" points=\"599,-82.5 599,-118.5\"/>\n",
       "<text text-anchor=\"middle\" x=\"646.5\" y=\"-96.8\" font-family=\"Times New Roman,serif\" font-size=\"14.00\">data 720.0000</text>\n",
       "</g>\n",
       "<!-- 3064082030400+ -->\n",
       "<g id=\"node14\" class=\"node\">\n",
       "<title>3064082030400+</title>\n",
       "<ellipse fill=\"none\" stroke=\"black\" cx=\"757\" cy=\"-72.5\" rx=\"27\" ry=\"18\"/>\n",
       "<text text-anchor=\"middle\" x=\"757\" y=\"-68.8\" font-family=\"Times New Roman,serif\" font-size=\"14.00\">+</text>\n",
       "</g>\n",
       "<!-- 3064082029152&#45;&gt;3064082030400+ -->\n",
       "<g id=\"edge6\" class=\"edge\">\n",
       "<title>3064082029152&#45;&gt;3064082030400+</title>\n",
       "<path fill=\"none\" stroke=\"black\" d=\"M694.24,-86.91C703.5,-84.75 712.81,-82.58 721.29,-80.6\"/>\n",
       "<polygon fill=\"black\" stroke=\"black\" points=\"722.23,-83.97 731.17,-78.29 720.64,-77.16 722.23,-83.97\"/>\n",
       "</g>\n",
       "<!-- 3064082029152+ -->\n",
       "<g id=\"node4\" class=\"node\">\n",
       "<title>3064082029152+</title>\n",
       "<ellipse fill=\"none\" stroke=\"black\" cx=\"513\" cy=\"-100.5\" rx=\"27\" ry=\"18\"/>\n",
       "<text text-anchor=\"middle\" x=\"513\" y=\"-96.8\" font-family=\"Times New Roman,serif\" font-size=\"14.00\">+</text>\n",
       "</g>\n",
       "<!-- 3064082029152+&#45;&gt;3064082029152 -->\n",
       "<g id=\"edge1\" class=\"edge\">\n",
       "<title>3064082029152+&#45;&gt;3064082029152</title>\n",
       "<path fill=\"none\" stroke=\"black\" d=\"M540.04,-100.5C547.83,-100.5 556.77,-100.5 565.96,-100.5\"/>\n",
       "<polygon fill=\"black\" stroke=\"black\" points=\"566,-104 576,-100.5 566,-97 566,-104\"/>\n",
       "</g>\n",
       "<!-- 3064083262576 -->\n",
       "<g id=\"node5\" class=\"node\">\n",
       "<title>3064083262576</title>\n",
       "<polygon fill=\"none\" stroke=\"black\" points=\"1064,-81.5 1064,-117.5 1188,-117.5 1188,-81.5 1064,-81.5\"/>\n",
       "<text text-anchor=\"middle\" x=\"1075.5\" y=\"-95.8\" font-family=\"Times New Roman,serif\" font-size=\"14.00\">y</text>\n",
       "<polyline fill=\"none\" stroke=\"black\" points=\"1087,-81.5 1087,-117.5\"/>\n",
       "<text text-anchor=\"middle\" x=\"1137.5\" y=\"-95.8\" font-family=\"Times New Roman,serif\" font-size=\"14.00\">data 1454.0000</text>\n",
       "</g>\n",
       "<!-- 3064083262576*&#45;&gt;3064083262576 -->\n",
       "<g id=\"edge2\" class=\"edge\">\n",
       "<title>3064083262576*&#45;&gt;3064083262576</title>\n",
       "<path fill=\"none\" stroke=\"black\" d=\"M1028.09,-99.5C1035.72,-99.5 1044.46,-99.5 1053.49,-99.5\"/>\n",
       "<polygon fill=\"black\" stroke=\"black\" points=\"1053.78,-103 1063.78,-99.5 1053.78,-96 1053.78,-103\"/>\n",
       "</g>\n",
       "<!-- 3064082030256 -->\n",
       "<g id=\"node7\" class=\"node\">\n",
       "<title>3064082030256</title>\n",
       "<polygon fill=\"none\" stroke=\"black\" points=\"1.5,-55.5 1.5,-91.5 119.5,-91.5 119.5,-55.5 1.5,-55.5\"/>\n",
       "<text text-anchor=\"middle\" x=\"16.5\" y=\"-69.8\" font-family=\"Times New Roman,serif\" font-size=\"14.00\">x2</text>\n",
       "<polyline fill=\"none\" stroke=\"black\" points=\"31.5,-55.5 31.5,-91.5\"/>\n",
       "<text text-anchor=\"middle\" x=\"75.5\" y=\"-69.8\" font-family=\"Times New Roman,serif\" font-size=\"14.00\">data 24.0000</text>\n",
       "</g>\n",
       "<!-- 3064082438896* -->\n",
       "<g id=\"node11\" class=\"node\">\n",
       "<title>3064082438896*</title>\n",
       "<ellipse fill=\"none\" stroke=\"black\" cx=\"184\" cy=\"-73.5\" rx=\"27\" ry=\"18\"/>\n",
       "<text text-anchor=\"middle\" x=\"184\" y=\"-69.8\" font-family=\"Times New Roman,serif\" font-size=\"14.00\">*</text>\n",
       "</g>\n",
       "<!-- 3064082030256&#45;&gt;3064082438896* -->\n",
       "<g id=\"edge13\" class=\"edge\">\n",
       "<title>3064082030256&#45;&gt;3064082438896*</title>\n",
       "<path fill=\"none\" stroke=\"black\" d=\"M119.76,-73.5C128.92,-73.5 138.16,-73.5 146.64,-73.5\"/>\n",
       "<polygon fill=\"black\" stroke=\"black\" points=\"146.91,-77 156.91,-73.5 146.91,-70 146.91,-77\"/>\n",
       "</g>\n",
       "<!-- 3064082028240 -->\n",
       "<g id=\"node8\" class=\"node\">\n",
       "<title>3064082028240</title>\n",
       "<polygon fill=\"none\" stroke=\"black\" points=\"247,-110.5 247,-146.5 450,-146.5 450,-110.5 247,-110.5\"/>\n",
       "<text text-anchor=\"middle\" x=\"301\" y=\"-124.8\" font-family=\"Times New Roman,serif\" font-size=\"14.00\">Valor(data=600)</text>\n",
       "<polyline fill=\"none\" stroke=\"black\" points=\"355,-110.5 355,-146.5\"/>\n",
       "<text text-anchor=\"middle\" x=\"402.5\" y=\"-124.8\" font-family=\"Times New Roman,serif\" font-size=\"14.00\">data 600.0000</text>\n",
       "</g>\n",
       "<!-- 3064082028240&#45;&gt;3064082029152+ -->\n",
       "<g id=\"edge7\" class=\"edge\">\n",
       "<title>3064082028240&#45;&gt;3064082029152+</title>\n",
       "<path fill=\"none\" stroke=\"black\" d=\"M450.1,-111.17C459.49,-109.55 468.52,-107.99 476.63,-106.59\"/>\n",
       "<polygon fill=\"black\" stroke=\"black\" points=\"477.47,-110 486.73,-104.85 476.28,-103.1 477.47,-110\"/>\n",
       "</g>\n",
       "<!-- 3064082028240*&#45;&gt;3064082028240 -->\n",
       "<g id=\"edge3\" class=\"edge\">\n",
       "<title>3064082028240*&#45;&gt;3064082028240</title>\n",
       "<path fill=\"none\" stroke=\"black\" d=\"M211.11,-128.5C218.7,-128.5 227.51,-128.5 236.92,-128.5\"/>\n",
       "<polygon fill=\"black\" stroke=\"black\" points=\"236.92,-132 246.92,-128.5 236.92,-125 236.92,-132\"/>\n",
       "</g>\n",
       "<!-- 3064082438896 -->\n",
       "<g id=\"node10\" class=\"node\">\n",
       "<title>3064082438896</title>\n",
       "<polygon fill=\"none\" stroke=\"black\" points=\"247,-55.5 247,-91.5 450,-91.5 450,-55.5 247,-55.5\"/>\n",
       "<text text-anchor=\"middle\" x=\"301\" y=\"-69.8\" font-family=\"Times New Roman,serif\" font-size=\"14.00\">Valor(data=120)</text>\n",
       "<polyline fill=\"none\" stroke=\"black\" points=\"355,-55.5 355,-91.5\"/>\n",
       "<text text-anchor=\"middle\" x=\"402.5\" y=\"-69.8\" font-family=\"Times New Roman,serif\" font-size=\"14.00\">data 120.0000</text>\n",
       "</g>\n",
       "<!-- 3064082438896&#45;&gt;3064082029152+ -->\n",
       "<g id=\"edge8\" class=\"edge\">\n",
       "<title>3064082438896&#45;&gt;3064082029152+</title>\n",
       "<path fill=\"none\" stroke=\"black\" d=\"M450.1,-90.22C459.49,-91.78 468.52,-93.28 476.63,-94.62\"/>\n",
       "<polygon fill=\"black\" stroke=\"black\" points=\"476.29,-98.12 486.73,-96.3 477.44,-91.21 476.29,-98.12\"/>\n",
       "</g>\n",
       "<!-- 3064082438896*&#45;&gt;3064082438896 -->\n",
       "<g id=\"edge4\" class=\"edge\">\n",
       "<title>3064082438896*&#45;&gt;3064082438896</title>\n",
       "<path fill=\"none\" stroke=\"black\" d=\"M211.11,-73.5C218.7,-73.5 227.51,-73.5 236.92,-73.5\"/>\n",
       "<polygon fill=\"black\" stroke=\"black\" points=\"236.92,-77 246.92,-73.5 236.92,-70 236.92,-77\"/>\n",
       "</g>\n",
       "<!-- 3064082029344 -->\n",
       "<g id=\"node12\" class=\"node\">\n",
       "<title>3064082029344</title>\n",
       "<polygon fill=\"none\" stroke=\"black\" points=\"582.5,-27.5 582.5,-63.5 687.5,-63.5 687.5,-27.5 582.5,-27.5\"/>\n",
       "<text text-anchor=\"middle\" x=\"594.5\" y=\"-41.8\" font-family=\"Times New Roman,serif\" font-size=\"14.00\">b</text>\n",
       "<polyline fill=\"none\" stroke=\"black\" points=\"606.5,-27.5 606.5,-63.5\"/>\n",
       "<text text-anchor=\"middle\" x=\"647\" y=\"-41.8\" font-family=\"Times New Roman,serif\" font-size=\"14.00\">data 7.0000</text>\n",
       "</g>\n",
       "<!-- 3064082029344&#45;&gt;3064082030400+ -->\n",
       "<g id=\"edge10\" class=\"edge\">\n",
       "<title>3064082029344&#45;&gt;3064082030400+</title>\n",
       "<path fill=\"none\" stroke=\"black\" d=\"M687.59,-57.11C698.93,-59.66 710.67,-62.3 721.17,-64.66\"/>\n",
       "<polygon fill=\"black\" stroke=\"black\" points=\"720.66,-68.14 731.18,-66.92 722.19,-61.31 720.66,-68.14\"/>\n",
       "</g>\n",
       "<!-- 3064082030400 -->\n",
       "<g id=\"node13\" class=\"node\">\n",
       "<title>3064082030400</title>\n",
       "<polygon fill=\"none\" stroke=\"black\" points=\"820,-54.5 820,-90.5 938,-90.5 938,-54.5 820,-54.5\"/>\n",
       "<text text-anchor=\"middle\" x=\"831.5\" y=\"-68.8\" font-family=\"Times New Roman,serif\" font-size=\"14.00\">k</text>\n",
       "<polyline fill=\"none\" stroke=\"black\" points=\"843,-54.5 843,-90.5\"/>\n",
       "<text text-anchor=\"middle\" x=\"890.5\" y=\"-68.8\" font-family=\"Times New Roman,serif\" font-size=\"14.00\">data 727.0000</text>\n",
       "</g>\n",
       "<!-- 3064082030400&#45;&gt;3064083262576* -->\n",
       "<g id=\"edge14\" class=\"edge\">\n",
       "<title>3064082030400&#45;&gt;3064083262576*</title>\n",
       "<path fill=\"none\" stroke=\"black\" d=\"M938.24,-85.6C947.5,-87.69 956.81,-89.78 965.29,-91.69\"/>\n",
       "<polygon fill=\"black\" stroke=\"black\" points=\"964.65,-95.13 975.17,-93.91 966.19,-88.3 964.65,-95.13\"/>\n",
       "</g>\n",
       "<!-- 3064082030400+&#45;&gt;3064082030400 -->\n",
       "<g id=\"edge5\" class=\"edge\">\n",
       "<title>3064082030400+&#45;&gt;3064082030400</title>\n",
       "<path fill=\"none\" stroke=\"black\" d=\"M784.04,-72.5C791.83,-72.5 800.77,-72.5 809.96,-72.5\"/>\n",
       "<polygon fill=\"black\" stroke=\"black\" points=\"810,-76 820,-72.5 810,-69 810,-76\"/>\n",
       "</g>\n",
       "<!-- 3064082026896 -->\n",
       "<g id=\"node15\" class=\"node\">\n",
       "<title>3064082026896</title>\n",
       "<polygon fill=\"none\" stroke=\"black\" points=\"3.5,-0.5 3.5,-36.5 117.5,-36.5 117.5,-0.5 3.5,-0.5\"/>\n",
       "<text text-anchor=\"middle\" x=\"20\" y=\"-14.8\" font-family=\"Times New Roman,serif\" font-size=\"14.00\">w2</text>\n",
       "<polyline fill=\"none\" stroke=\"black\" points=\"36.5,-0.5 36.5,-36.5\"/>\n",
       "<text text-anchor=\"middle\" x=\"77\" y=\"-14.8\" font-family=\"Times New Roman,serif\" font-size=\"14.00\">data 5.0000</text>\n",
       "</g>\n",
       "<!-- 3064082026896&#45;&gt;3064082438896* -->\n",
       "<g id=\"edge12\" class=\"edge\">\n",
       "<title>3064082026896&#45;&gt;3064082438896*</title>\n",
       "<path fill=\"none\" stroke=\"black\" d=\"M101.28,-36.51C117.79,-43.98 136.65,-52.52 152.09,-59.51\"/>\n",
       "<polygon fill=\"black\" stroke=\"black\" points=\"150.65,-62.7 161.21,-63.64 153.54,-56.32 150.65,-62.7\"/>\n",
       "</g>\n",
       "<!-- 3064082028480 -->\n",
       "<g id=\"node16\" class=\"node\">\n",
       "<title>3064082028480</title>\n",
       "<polygon fill=\"none\" stroke=\"black\" points=\"1.5,-110.5 1.5,-146.5 119.5,-146.5 119.5,-110.5 1.5,-110.5\"/>\n",
       "<text text-anchor=\"middle\" x=\"16.5\" y=\"-124.8\" font-family=\"Times New Roman,serif\" font-size=\"14.00\">x1</text>\n",
       "<polyline fill=\"none\" stroke=\"black\" points=\"31.5,-110.5 31.5,-146.5\"/>\n",
       "<text text-anchor=\"middle\" x=\"75.5\" y=\"-124.8\" font-family=\"Times New Roman,serif\" font-size=\"14.00\">data 60.0000</text>\n",
       "</g>\n",
       "<!-- 3064082028480&#45;&gt;3064082028240* -->\n",
       "<g id=\"edge9\" class=\"edge\">\n",
       "<title>3064082028480&#45;&gt;3064082028240*</title>\n",
       "<path fill=\"none\" stroke=\"black\" d=\"M119.76,-128.5C128.92,-128.5 138.16,-128.5 146.64,-128.5\"/>\n",
       "<polygon fill=\"black\" stroke=\"black\" points=\"146.91,-132 156.91,-128.5 146.91,-125 146.91,-132\"/>\n",
       "</g>\n",
       "</g>\n",
       "</svg>\n"
      ],
      "text/plain": [
       "<graphviz.graphs.Digraph at 0x2c969982df0>"
      ]
     },
     "execution_count": 16,
     "metadata": {},
     "output_type": "execute_result"
    }
   ],
   "source": [
    "# precisa do graphviz\n",
    "x1 = Valor(60, rotulo=\"x1\")\n",
    "x2 = Valor(24, rotulo=\"x2\")\n",
    "w1 = Valor(10, rotulo=\"w1\")\n",
    "w2 = Valor(5, rotulo=\"w2\")\n",
    "w3 = Valor(2, rotulo=\"w3\")\n",
    "b = Valor(7, rotulo=\"b\")\n",
    "\n",
    "s1 = x1 * w1\n",
    "s1.rotulo = s1\n",
    "\n",
    "s2 = x2 * w2\n",
    "s2.rotulo = s2\n",
    "\n",
    "n = s1 + s2\n",
    "n.rotulo = \"n\"\n",
    "\n",
    "k = n + b\n",
    "k.rotulo = \"k\"\n",
    "\n",
    "y = k * w3\n",
    "y.rotulo = \"y\"\n",
    "\n",
    "plota_grafo(y)"
   ]
  },
  {
   "cell_type": "markdown",
   "metadata": {},
   "source": [
    "## Conclusão\n",
    "\n"
   ]
  },
  {
   "cell_type": "markdown",
   "metadata": {},
   "source": [
    "Seguindo o assunto sobre classes em `Python`, esse experimento três, feito na mesma aula que o experimento dois, utilizamos da modelo de classes para construir o primeiro passo de uma rede neural artificial usando um grafo que trabalhamos em sala de aula, fora do JupyterLab Notebook. Podemos ver esse grafo construído na sessão \"Refazendo o grafo que fizemos na aula anterior\". \n",
    "\n",
    "Portanto, foi criada uma classe que gerasse automaticamente um grafo computacional, que representa todas as operações matemáticas relacionadas a um dado valor <i>y</i>.\n",
    "\n",
    "Ao podemos observar ao longo do experimento, foram utilizados os mesmos modelos que no anterior, porém com o fator de operações matemáticas, as quais não conseguem ser computadas de maneira convencional, uma vez que as informações se encontram dentro da classe e a maneira que estamos acostumados a realizar os cálculos está fora dela, de forma que a máquina não consiga ler os valores chamados pelas variáveis definidas. O computador não consegue computar uma informação que ele não tem ainda, ela precisa ser dada a ele por você. Por esse motivo, foram criados os 'dunders' chamados `__add__` e `__mul__`, que simplesmente comandam que os valores de <i>a</i> e de <i>b</i> sejam somados e multiplicados, respectivamente.\n",
    "\n",
    "Já que o intuito principal é construir grafos, precisamos definir os vértices deles, tais que contém informações que darão origem aos vértices consecutivos, chamados de progenitores. Como é necessário que essas informações sejam armazenadas, elas precisam ser colocadas dentro da classe, como visto na <i>dunder</i> `__init__`, na sessão \"Registrando os progenitores\", em que temos o parâmetro\n",
    "`progenitor=()` referenciado na função inicial. Ele é muito importante dentro das <i>dunders</i> `__add__` e `__mul__`, para poder ir armazenando os valores calculados da rede, que estão definidos com `outro_valor`. Da mesma forma acontece com o <i><b>operador mãe</b></i>, que pode ser usado para gerar o vértice resultante do cálculo dos progenitores.\n",
    "\n",
    "Lembre-se de rotular cada vértice, de modo a deixar o grafo plotado mais organizado e compreensível.\n",
    "\n",
    "<b>Nota:</b> Por enquanto, qualquer grafo plotado neste Notebook não pode ser visualizado, pois meu computador não possui o software necessário para retornar a imagem dentro do JupyterLab. Caso não tenha o software em seu computador e queria ver sem precisar baixá-lo, primeiramente, certifique-se de que tenha instalado o pacote `graphviz` (pode baixá-lo usando o código presente na célula 'raw' abaixo). Depois, acesse o seguinte link https://dreampuf.github.io/GraphvizOnline/ e copie cada um dos URL's retornados pelos códigos acima e substitua o que está no script em preto pelo `digraph` que deseja ver."
   ]
  },
  {
   "cell_type": "raw",
   "metadata": {},
   "source": [
    "try:\n",
    "    import graphviz\n",
    "except ModuleNotFoundError:\n",
    "    import sys\n",
    "    !{sys.executable} -m pip install graphviz"
   ]
  },
  {
   "cell_type": "markdown",
   "metadata": {},
   "source": [
    "## Playground\n",
    "\n"
   ]
  },
  {
   "cell_type": "code",
   "execution_count": null,
   "metadata": {},
   "outputs": [],
   "source": []
  }
 ],
 "metadata": {
  "kernelspec": {
   "display_name": "ilumpy",
   "language": "python",
   "name": "ilumpy"
  },
  "language_info": {
   "codemirror_mode": {
    "name": "ipython",
    "version": 3
   },
   "file_extension": ".py",
   "mimetype": "text/x-python",
   "name": "python",
   "nbconvert_exporter": "python",
   "pygments_lexer": "ipython3",
   "version": "3.9.7"
  },
  "org": null
 },
 "nbformat": 4,
 "nbformat_minor": 4
}
