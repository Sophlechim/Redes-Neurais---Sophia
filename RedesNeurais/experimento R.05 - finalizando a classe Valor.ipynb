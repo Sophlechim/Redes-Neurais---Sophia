{
 "cells": [
  {
   "cell_type": "markdown",
   "metadata": {},
   "source": [
    "Finalizando a classe Valor\n",
    "==========================\n",
    "\n"
   ]
  },
  {
   "cell_type": "markdown",
   "metadata": {},
   "source": [
    "## Introdução\n",
    "\n"
   ]
  },
  {
   "cell_type": "markdown",
   "metadata": {},
   "source": [
    "Chegou a hora de finalizar a classe `Valor`!\n",
    "\n"
   ]
  },
  {
   "cell_type": "markdown",
   "metadata": {},
   "source": [
    "## Objetivo\n",
    "\n"
   ]
  },
  {
   "cell_type": "markdown",
   "metadata": {},
   "source": [
    "O objetivo é fazer com que a classe `Valor` seja capaz de realizar algumas operações necessárias para que seja usada na nossa rede neural artificial.\n",
    "\n"
   ]
  },
  {
   "cell_type": "markdown",
   "metadata": {},
   "source": [
    "## Importações\n",
    "\n"
   ]
  },
  {
   "cell_type": "code",
   "execution_count": 1,
   "metadata": {},
   "outputs": [],
   "source": [
    "import math\n",
    "from classes import Valor\n",
    "from funcoes import plota_grafo"
   ]
  },
  {
   "cell_type": "markdown",
   "metadata": {},
   "source": [
    "## Código e discussão\n",
    "\n"
   ]
  },
  {
   "cell_type": "markdown",
   "metadata": {},
   "source": [
    "### Finalizando a classe `Valor`\n",
    "\n"
   ]
  },
  {
   "cell_type": "markdown",
   "metadata": {},
   "source": [
    "Aqui está a classe `Valor` assim como feita na aula anterior. Vamos modificá-la para cumprir nossos objetivos (ver objetivos na próxima seção).\n",
    "\n"
   ]
  },
  {
   "cell_type": "markdown",
   "metadata": {},
   "source": [
    "<font color='lightseagreen'> Podemos usar a classe mostrada abaixo enquanto ela está armazenada em um script, basta importar essa classe do script `classes.py`, Portant, para mostrar que funciona desta forma, deixei a célula abaixo como Raw, permitindo que a classe seja checada sem abrir o arquivo do script. </font>"
   ]
  },
  {
   "cell_type": "raw",
   "metadata": {},
   "source": [
    "class Valor:\n",
    "    def __init__(self, data, progenitor=(), operador_mae=\"\", rotulo=\"\"):\n",
    "        self.data = data\n",
    "        self.progenitor = progenitor\n",
    "        self.operador_mae = operador_mae\n",
    "        self.rotulo = rotulo\n",
    "        self.grad = 0\n",
    "\n",
    "    def __repr__(self):\n",
    "        return f\"Valor(data={self.data})\"\n",
    "\n",
    "    def __add__(self, outro_valor):\n",
    "        if not isinstance(outro_valor, Valor):\n",
    "            outro_valor = Valor(outro_valor)\n",
    "        data = self.data + outro_valor.data\n",
    "        progenitor = (self, outro_valor)\n",
    "        operador_mae = \"+\"\n",
    "        saida = Valor(data, progenitor, operador_mae)\n",
    "\n",
    "        def propagar_adicao():\n",
    "            self.grad += saida.grad * 1\n",
    "            outro_valor.grad += saida.grad * 1\n",
    "\n",
    "        saida.propagar = propagar_adicao\n",
    "\n",
    "        return saida\n",
    "    \n",
    "    def __radd__(self, outro_valor): # outro_valor + self\n",
    "        return self + outro_valor\n",
    "\n",
    "    def __mul__(self, outro_valor):\n",
    "        if not isinstance(outro_valor, Valor):\n",
    "            outro_valor = Valor(outro_valor)\n",
    "        data = self.data * outro_valor.data\n",
    "        progenitor = (self, outro_valor)\n",
    "        operador_mae = \"*\"\n",
    "        saida = Valor(data, progenitor, operador_mae)\n",
    "\n",
    "        def propagar_multiplicacao():\n",
    "            self.grad += saida.grad * outro_valor.data\n",
    "            outro_valor.grad += saida.grad * self.data\n",
    "\n",
    "        saida.propagar = propagar_multiplicacao\n",
    "\n",
    "        return saida\n",
    "    \n",
    "    def __rmul__(self, outro_valor): # outro_valor * self\n",
    "        return self * outro_valor\n",
    "    \n",
    "    def __pow__(self, expoente): # self ** expoente\n",
    "        \n",
    "        # garantir que isinstance(expoente, (int, float)) é verdadeira\n",
    "        assert isinstance(expoente, (int, float))\n",
    "\n",
    "        data = self.data**expoente\n",
    "        progenitor = (self, )   # é uma tupla para que não exista a possibilidade dele ser modificado\n",
    "        operador_mae = f'**{expoente}'\n",
    "        saida = Valor(data, progenitor, operador_mae)\n",
    "\n",
    "        def propagar_exponenciacao():\n",
    "            self.grad += saida.grad * expoente * (self.data ** (expoente-1)) # o gradiente de onde eu estou é o gradiente do meu filho vezes a derivada de onde estou\n",
    "\n",
    "        saida.propagar = propagar_exponenciacao\n",
    "\n",
    "        return saida\n",
    "\n",
    "    def __truediv__(self, outro_valor): # self / outro_valor\n",
    "        return self * outro_valor ** (-1)\n",
    "    \n",
    "    def __neg__(self): # -self\n",
    "        return self * (-1)\n",
    "    \n",
    "    def __sub__(self, outro_valor): # self - outro_valor\n",
    "        return self + (-outro_valor)\n",
    "    \n",
    "    def __rsub__(self, outro_valor): # outro_valor - self\n",
    "        return self * (-1) + outro_valor\n",
    "    \n",
    "    def exp(self):\n",
    "\n",
    "        data = math.exp(self.data)\n",
    "        progenitor = (self, )   # é uma tupla para que não exista a possibilidade dele ser modificado\n",
    "        operador_mae = 'exp'\n",
    "        saida = Valor(data, progenitor, operador_mae)\n",
    "\n",
    "        def propagar_exp():\n",
    "            self.grad += saida.grad * data\n",
    "\n",
    "        saida.propagar = propagar_exp\n",
    "\n",
    "        return saida\n",
    "    \n",
    "    def sig(self): \n",
    "        return self.exp() / (self.exp() + 1)\n",
    "        \n",
    "    def propagar(self):\n",
    "        pass\n",
    "\n",
    "    def propagar_tudo(self):\n",
    "        ordem_topologica = []\n",
    "        visitados = set()\n",
    "\n",
    "        def constroi_ordem_topologica(v):\n",
    "            if v not in visitados:\n",
    "                visitados.add(v)\n",
    "                for progenitor in v.progenitor:\n",
    "                    constroi_ordem_topologica(progenitor)\n",
    "                ordem_topologica.append(v)\n",
    "\n",
    "        constroi_ordem_topologica(self)\n",
    "\n",
    "        self.grad = 1  # o gradiente do vértice folha deve ser 1\n",
    "\n",
    "        for v in reversed(ordem_topologica):\n",
    "            v.propagar()"
   ]
  },
  {
   "cell_type": "markdown",
   "metadata": {},
   "source": [
    "### Objetivos a serem cumpridos\n",
    "\n"
   ]
  },
  {
   "cell_type": "markdown",
   "metadata": {},
   "source": [
    "<font color=lightseagreen>Usar o `if not isinstance(outro_valor, Valor)` na funções dunder `__add__` e `__mul__` singifica checar se outro_valor é instância de Valor, caso seja, as relações abaixo retornarão um erro. Isso ocorre justamente por outro_valor ser lido como instância de Valor. Ou seja, devemos incluir a condição:\n",
    "</font>\n",
    "\n",
    "    if not isinstance(outro_valor, Valor):\n",
    "            outro_valor = Valor(outro_valor)\n",
    "            \n",
    "<font color='lightseagreen'> Tanto na dunder de adição quanto na de multiplicação. </font>"
   ]
  },
  {
   "cell_type": "markdown",
   "metadata": {},
   "source": [
    "Quero poder acidionar uma instância de `Valor` com uma constante qualquer.\n",
    "\n"
   ]
  },
  {
   "cell_type": "code",
   "execution_count": 2,
   "metadata": {},
   "outputs": [
    {
     "name": "stdout",
     "output_type": "stream",
     "text": [
      "Valor(data=11)\n"
     ]
    }
   ],
   "source": [
    "a = Valor(10, rotulo=\"a\")\n",
    "b = a + 1\n",
    "print(b)"
   ]
  },
  {
   "cell_type": "markdown",
   "metadata": {},
   "source": [
    "Quero poder multiplicar uma instância de `Valor` com uma constante qualquer.\n",
    "\n"
   ]
  },
  {
   "cell_type": "code",
   "execution_count": 3,
   "metadata": {},
   "outputs": [
    {
     "name": "stdout",
     "output_type": "stream",
     "text": [
      "Valor(data=100)\n"
     ]
    }
   ],
   "source": [
    "a = Valor(10, rotulo=\"a\")\n",
    "b = a * 10\n",
    "print(b)"
   ]
  },
  {
   "cell_type": "markdown",
   "metadata": {},
   "source": [
    "Quero poder acidionar uma instância de `Valor` com uma constante qualquer, mas na ordem oposta.\n",
    "\n"
   ]
  },
  {
   "cell_type": "markdown",
   "metadata": {},
   "source": [
    "<font color=lightseagreen>Invertendo a ordem dos valores ele não irá funcionar. Isso ocorre pois o python entende a soma `a + 1` como `a.__add__(1)` e quando invertemos esses valores ele entenderá o `1 + a` como `1.__add__(a)`. Por isso, precisamos dizer que quando a soma der erro o pyhton deve tentar invertê-la através de uma método dunder `__radd__` que força a soma a seguir a ordem dada.\n",
    "</font>"
   ]
  },
  {
   "cell_type": "code",
   "execution_count": 4,
   "metadata": {},
   "outputs": [
    {
     "name": "stdout",
     "output_type": "stream",
     "text": [
      "Valor(data=11)\n"
     ]
    }
   ],
   "source": [
    "a = Valor(10, rotulo=\"a\")\n",
    "b = 1 + a\n",
    "print(b)"
   ]
  },
  {
   "cell_type": "markdown",
   "metadata": {},
   "source": [
    "Quero poder multiplicar uma instância de `Valor` com uma constante qualquer, mas na ordem oposta.\n",
    "\n"
   ]
  },
  {
   "cell_type": "markdown",
   "metadata": {},
   "source": [
    "<font color=lightseagreen>Pelo mesmo problema a multiplicação dará errado, portanto definimos o método dunder `__rmul__`, que tem a mesma ideia do `__radd__`.</font>"
   ]
  },
  {
   "cell_type": "code",
   "execution_count": 5,
   "metadata": {},
   "outputs": [
    {
     "name": "stdout",
     "output_type": "stream",
     "text": [
      "Valor(data=100)\n"
     ]
    }
   ],
   "source": [
    "a = Valor(10, rotulo=\"a\")\n",
    "b = 10 * a\n",
    "print(b)"
   ]
  },
  {
   "cell_type": "markdown",
   "metadata": {},
   "source": [
    "Quero poder aplicar a função exponencial ($e^x$) em uma instância de `Valor`, computando corretamente o gradiente local desta operação.\n",
    "\n"
   ]
  },
  {
   "cell_type": "markdown",
   "metadata": {},
   "source": [
    "<font color=lightseagreen> Este aqui não funciona porque a função exponencial requer que a gente defina um método dentro da classe valor que receba o dado da exponencial e retorne o valor propagado. Por isso criamos um método não dunder `exp`. </font>"
   ]
  },
  {
   "cell_type": "code",
   "execution_count": 6,
   "metadata": {},
   "outputs": [
    {
     "name": "stdout",
     "output_type": "stream",
     "text": [
      "Valor(data=2.718281828459045)\n"
     ]
    }
   ],
   "source": [
    "a = Valor(1, rotulo=\"a\")\n",
    "b = a.exp()\n",
    "print(b)"
   ]
  },
  {
   "cell_type": "markdown",
   "metadata": {},
   "source": [
    "<font color=lightseagreen> Lembre que: a.exp() = $e^{a}$ </font>"
   ]
  },
  {
   "cell_type": "markdown",
   "metadata": {},
   "source": [
    "Quero poder elevar uma instância de `Valor` a um número real qualquer. **Nota**: não vai funcionar se fizer um `Valor` elevado a outro `Valor` pois vamos propagar os gradientes apenas considerando que estamos elevando a uma constante qualquer.\n",
    "\n"
   ]
  },
  {
   "cell_type": "markdown",
   "metadata": {},
   "source": [
    "<font color='lightseagreen'> Como potências não estavam sendo consideradas na nossa classe `Valor`, precisamos descrever o método `__pow__` que calcula uma potência. </font>"
   ]
  },
  {
   "cell_type": "code",
   "execution_count": 7,
   "metadata": {},
   "outputs": [
    {
     "name": "stdout",
     "output_type": "stream",
     "text": [
      "Valor(data=100)\n"
     ]
    }
   ],
   "source": [
    "a = Valor(10, rotulo=\"a\")\n",
    "b = a**2\n",
    "print(b)"
   ]
  },
  {
   "cell_type": "markdown",
   "metadata": {},
   "source": [
    "Quero poder dividir uma instância de `Valor` por outra instância de `Valor`.\n",
    "\n"
   ]
  },
  {
   "cell_type": "markdown",
   "metadata": {},
   "source": [
    "<font color='lightseagreen'> Como não temos um método que divida uma instância da classe `Valor`por outra, criamos a função dunder `__truediv__`, eleva a multiplicação à -1. </font>"
   ]
  },
  {
   "cell_type": "code",
   "execution_count": 8,
   "metadata": {},
   "outputs": [
    {
     "name": "stdout",
     "output_type": "stream",
     "text": [
      "Valor(data=0.5)\n"
     ]
    }
   ],
   "source": [
    "a = Valor(1, rotulo=\"a\")\n",
    "b = Valor(2, rotulo=\"b\")\n",
    "c = a / b\n",
    "print(c)"
   ]
  },
  {
   "cell_type": "markdown",
   "metadata": {},
   "source": [
    "Quero poder computar o negativo de uma instância de `Valor`.\n",
    "\n"
   ]
  },
  {
   "cell_type": "markdown",
   "metadata": {},
   "source": [
    "<font color='lightseagreen'> Querendo transformar uma instância de `Valor` em um número negativo, escrevemos o método dunder `__neg__`, que multiplica o self por -1. </font>"
   ]
  },
  {
   "cell_type": "code",
   "execution_count": 9,
   "metadata": {},
   "outputs": [
    {
     "name": "stdout",
     "output_type": "stream",
     "text": [
      "Valor(data=-1)\n"
     ]
    }
   ],
   "source": [
    "a = Valor(1, rotulo=\"a\")\n",
    "b = -a\n",
    "print(b)"
   ]
  },
  {
   "cell_type": "markdown",
   "metadata": {},
   "source": [
    "Quero poder subtrair uma instância de `Valor` por outra instância de `Valor`.\n",
    "\n"
   ]
  },
  {
   "cell_type": "markdown",
   "metadata": {},
   "source": [
    "<font color='lightseagreen'> Adicionamos o método `__sub__`, que subtrai o `outro_valor` do valor `self`. </font>"
   ]
  },
  {
   "cell_type": "code",
   "execution_count": 10,
   "metadata": {},
   "outputs": [
    {
     "name": "stdout",
     "output_type": "stream",
     "text": [
      "Valor(data=7)\n"
     ]
    }
   ],
   "source": [
    "a = Valor(10, rotulo=\"a\")\n",
    "b = Valor(3, rotulo=\"b\")\n",
    "c = a - b\n",
    "print(c)"
   ]
  },
  {
   "cell_type": "markdown",
   "metadata": {},
   "source": [
    "<font color='lightseagreen'> Querendo que o `outro_valor` não seja um valor de `self`, montamos o método `__rsub__` que, assim como o `__radd__`, inverte a ordem da subtração. </font>"
   ]
  },
  {
   "cell_type": "code",
   "execution_count": 11,
   "metadata": {},
   "outputs": [
    {
     "name": "stdout",
     "output_type": "stream",
     "text": [
      "Valor(data=-9)\n"
     ]
    }
   ],
   "source": [
    "a = Valor(10, rotulo=\"a\")\n",
    "b = 1 - a\n",
    "print(b)"
   ]
  },
  {
   "cell_type": "markdown",
   "metadata": {
    "tags": []
   },
   "source": [
    "E, finalmente, quero poder aplicar a função sigmoide (também conhecida como logística) a uma instância de `Valor`. A função sigmoide é a seguinte:\n",
    "\n",
    "$$\n",
    "S(x) = \\frac{e^x}{e^x + 1}\n",
    "$$\n",
    "\n"
   ]
  },
  {
   "cell_type": "markdown",
   "metadata": {},
   "source": [
    "<font color='lightseagreen'>  </font>"
   ]
  },
  {
   "cell_type": "code",
   "execution_count": 12,
   "metadata": {},
   "outputs": [
    {
     "name": "stdout",
     "output_type": "stream",
     "text": [
      "Valor(data=0.7310585786300048)\n"
     ]
    },
    {
     "data": {
      "image/svg+xml": [
       "<?xml version=\"1.0\" encoding=\"UTF-8\" standalone=\"no\"?>\n",
       "<!DOCTYPE svg PUBLIC \"-//W3C//DTD SVG 1.1//EN\"\n",
       " \"http://www.w3.org/Graphics/SVG/1.1/DTD/svg11.dtd\">\n",
       "<!-- Generated by graphviz version 6.0.2 (20221011.1828)\n",
       " -->\n",
       "<!-- Pages: 1 -->\n",
       "<svg width=\"1565pt\" height=\"154pt\"\n",
       " viewBox=\"0.00 0.00 1565.00 154.00\" xmlns=\"http://www.w3.org/2000/svg\" xmlns:xlink=\"http://www.w3.org/1999/xlink\">\n",
       "<g id=\"graph0\" class=\"graph\" transform=\"scale(1 1) rotate(0) translate(4 150)\">\n",
       "<polygon fill=\"white\" stroke=\"none\" points=\"-4,4 -4,-150 1561,-150 1561,4 -4,4\"/>\n",
       "<!-- 1841992203424 -->\n",
       "<g id=\"node1\" class=\"node\">\n",
       "<title>1841992203424</title>\n",
       "<polygon fill=\"none\" stroke=\"black\" points=\"1373,-83.5 1373,-119.5 1557,-119.5 1557,-83.5 1373,-83.5\"/>\n",
       "<text text-anchor=\"middle\" x=\"1383\" y=\"-97.8\" font-family=\"Times New Roman,serif\" font-size=\"14.00\"> </text>\n",
       "<polyline fill=\"none\" stroke=\"black\" points=\"1393,-83.5 1393,-119.5\"/>\n",
       "<text text-anchor=\"middle\" x=\"1433.5\" y=\"-97.8\" font-family=\"Times New Roman,serif\" font-size=\"14.00\">data 0.7311</text>\n",
       "<polyline fill=\"none\" stroke=\"black\" points=\"1474,-83.5 1474,-119.5\"/>\n",
       "<text text-anchor=\"middle\" x=\"1515.5\" y=\"-97.8\" font-family=\"Times New Roman,serif\" font-size=\"14.00\">grad 0.0000</text>\n",
       "</g>\n",
       "<!-- 1841992203424* -->\n",
       "<g id=\"node2\" class=\"node\">\n",
       "<title>1841992203424*</title>\n",
       "<ellipse fill=\"none\" stroke=\"black\" cx=\"1310\" cy=\"-101.5\" rx=\"27\" ry=\"18\"/>\n",
       "<text text-anchor=\"middle\" x=\"1310\" y=\"-97.8\" font-family=\"Times New Roman,serif\" font-size=\"14.00\">*</text>\n",
       "</g>\n",
       "<!-- 1841992203424*&#45;&gt;1841992203424 -->\n",
       "<g id=\"edge1\" class=\"edge\">\n",
       "<title>1841992203424*&#45;&gt;1841992203424</title>\n",
       "<path fill=\"none\" stroke=\"black\" d=\"M1337.3,-101.5C1344.83,-101.5 1353.52,-101.5 1362.75,-101.5\"/>\n",
       "<polygon fill=\"black\" stroke=\"black\" points=\"1362.95,-105 1372.95,-101.5 1362.95,-98 1362.95,-105\"/>\n",
       "</g>\n",
       "<!-- 1841992202944 -->\n",
       "<g id=\"node3\" class=\"node\">\n",
       "<title>1841992202944</title>\n",
       "<polygon fill=\"none\" stroke=\"black\" points=\"753,-58.5 753,-94.5 937,-94.5 937,-58.5 753,-58.5\"/>\n",
       "<text text-anchor=\"middle\" x=\"763\" y=\"-72.8\" font-family=\"Times New Roman,serif\" font-size=\"14.00\"> </text>\n",
       "<polyline fill=\"none\" stroke=\"black\" points=\"773,-58.5 773,-94.5\"/>\n",
       "<text text-anchor=\"middle\" x=\"813.5\" y=\"-72.8\" font-family=\"Times New Roman,serif\" font-size=\"14.00\">data 3.7183</text>\n",
       "<polyline fill=\"none\" stroke=\"black\" points=\"854,-58.5 854,-94.5\"/>\n",
       "<text text-anchor=\"middle\" x=\"895.5\" y=\"-72.8\" font-family=\"Times New Roman,serif\" font-size=\"14.00\">grad 0.0000</text>\n",
       "</g>\n",
       "<!-- 1841992203232**&#45;1 -->\n",
       "<g id=\"node12\" class=\"node\">\n",
       "<title>1841992203232**&#45;1</title>\n",
       "<ellipse fill=\"none\" stroke=\"black\" cx=\"1000\" cy=\"-78.5\" rx=\"27\" ry=\"18\"/>\n",
       "<text text-anchor=\"middle\" x=\"1000\" y=\"-74.8\" font-family=\"Times New Roman,serif\" font-size=\"14.00\">**&#45;1</text>\n",
       "</g>\n",
       "<!-- 1841992202944&#45;&gt;1841992203232**&#45;1 -->\n",
       "<g id=\"edge6\" class=\"edge\">\n",
       "<title>1841992202944&#45;&gt;1841992203232**&#45;1</title>\n",
       "<path fill=\"none\" stroke=\"black\" d=\"M937.21,-77.69C946.19,-77.81 954.88,-77.92 962.77,-78.03\"/>\n",
       "<polygon fill=\"black\" stroke=\"black\" points=\"962.95,-81.53 972.99,-78.16 963.04,-74.53 962.95,-81.53\"/>\n",
       "</g>\n",
       "<!-- 1841992202944+ -->\n",
       "<g id=\"node4\" class=\"node\">\n",
       "<title>1841992202944+</title>\n",
       "<ellipse fill=\"none\" stroke=\"black\" cx=\"625\" cy=\"-72.5\" rx=\"27\" ry=\"18\"/>\n",
       "<text text-anchor=\"middle\" x=\"625\" y=\"-68.8\" font-family=\"Times New Roman,serif\" font-size=\"14.00\">+</text>\n",
       "</g>\n",
       "<!-- 1841992202944+&#45;&gt;1841992202944 -->\n",
       "<g id=\"edge2\" class=\"edge\">\n",
       "<title>1841992202944+&#45;&gt;1841992202944</title>\n",
       "<path fill=\"none\" stroke=\"black\" d=\"M652.3,-72.98C674.98,-73.4 709.25,-74.03 742.57,-74.64\"/>\n",
       "<polygon fill=\"black\" stroke=\"black\" points=\"742.8,-78.14 752.87,-74.83 742.93,-71.14 742.8,-78.14\"/>\n",
       "</g>\n",
       "<!-- 1841992202992 -->\n",
       "<g id=\"node5\" class=\"node\">\n",
       "<title>1841992202992</title>\n",
       "<polygon fill=\"none\" stroke=\"black\" points=\"313,-0.5 313,-36.5 497,-36.5 497,-0.5 313,-0.5\"/>\n",
       "<text text-anchor=\"middle\" x=\"323\" y=\"-14.8\" font-family=\"Times New Roman,serif\" font-size=\"14.00\"> </text>\n",
       "<polyline fill=\"none\" stroke=\"black\" points=\"333,-0.5 333,-36.5\"/>\n",
       "<text text-anchor=\"middle\" x=\"373.5\" y=\"-14.8\" font-family=\"Times New Roman,serif\" font-size=\"14.00\">data 1.0000</text>\n",
       "<polyline fill=\"none\" stroke=\"black\" points=\"414,-0.5 414,-36.5\"/>\n",
       "<text text-anchor=\"middle\" x=\"455.5\" y=\"-14.8\" font-family=\"Times New Roman,serif\" font-size=\"14.00\">grad 0.0000</text>\n",
       "</g>\n",
       "<!-- 1841992202992&#45;&gt;1841992202944+ -->\n",
       "<g id=\"edge8\" class=\"edge\">\n",
       "<title>1841992202992&#45;&gt;1841992202944+</title>\n",
       "<path fill=\"none\" stroke=\"black\" d=\"M478.89,-36.56C516.21,-45.8 559.89,-56.62 589.5,-63.95\"/>\n",
       "<polygon fill=\"black\" stroke=\"black\" points=\"588.8,-67.39 599.35,-66.39 590.49,-60.59 588.8,-67.39\"/>\n",
       "</g>\n",
       "<!-- 1841992200448 -->\n",
       "<g id=\"node6\" class=\"node\">\n",
       "<title>1841992200448</title>\n",
       "<polygon fill=\"none\" stroke=\"black\" points=\"533,-109.5 533,-145.5 717,-145.5 717,-109.5 533,-109.5\"/>\n",
       "<text text-anchor=\"middle\" x=\"543\" y=\"-123.8\" font-family=\"Times New Roman,serif\" font-size=\"14.00\"> </text>\n",
       "<polyline fill=\"none\" stroke=\"black\" points=\"553,-109.5 553,-145.5\"/>\n",
       "<text text-anchor=\"middle\" x=\"593.5\" y=\"-123.8\" font-family=\"Times New Roman,serif\" font-size=\"14.00\">data 2.7183</text>\n",
       "<polyline fill=\"none\" stroke=\"black\" points=\"634,-109.5 634,-145.5\"/>\n",
       "<text text-anchor=\"middle\" x=\"675.5\" y=\"-123.8\" font-family=\"Times New Roman,serif\" font-size=\"14.00\">grad 0.0000</text>\n",
       "</g>\n",
       "<!-- 1841992200448&#45;&gt;1841992203424* -->\n",
       "<g id=\"edge9\" class=\"edge\">\n",
       "<title>1841992200448&#45;&gt;1841992203424*</title>\n",
       "<path fill=\"none\" stroke=\"black\" d=\"M717.08,-125.75C838.17,-123.12 1058.8,-117.27 1247,-106.5 1255.43,-106.02 1264.5,-105.36 1273.02,-104.69\"/>\n",
       "<polygon fill=\"black\" stroke=\"black\" points=\"1273.4,-108.17 1283.08,-103.86 1272.82,-101.19 1273.4,-108.17\"/>\n",
       "</g>\n",
       "<!-- 1841992200448exp -->\n",
       "<g id=\"node7\" class=\"node\">\n",
       "<title>1841992200448exp</title>\n",
       "<ellipse fill=\"none\" stroke=\"black\" cx=\"250\" cy=\"-127.5\" rx=\"27\" ry=\"18\"/>\n",
       "<text text-anchor=\"middle\" x=\"250\" y=\"-123.8\" font-family=\"Times New Roman,serif\" font-size=\"14.00\">exp</text>\n",
       "</g>\n",
       "<!-- 1841992200448exp&#45;&gt;1841992200448 -->\n",
       "<g id=\"edge3\" class=\"edge\">\n",
       "<title>1841992200448exp&#45;&gt;1841992200448</title>\n",
       "<path fill=\"none\" stroke=\"black\" d=\"M277.23,-127.5C327.37,-127.5 439.24,-127.5 522.44,-127.5\"/>\n",
       "<polygon fill=\"black\" stroke=\"black\" points=\"522.69,-131 532.69,-127.5 522.69,-124 522.69,-131\"/>\n",
       "</g>\n",
       "<!-- 1841992202560 -->\n",
       "<g id=\"node8\" class=\"node\">\n",
       "<title>1841992202560</title>\n",
       "<polygon fill=\"none\" stroke=\"black\" points=\"0,-82.5 0,-118.5 187,-118.5 187,-82.5 0,-82.5\"/>\n",
       "<text text-anchor=\"middle\" x=\"11.5\" y=\"-96.8\" font-family=\"Times New Roman,serif\" font-size=\"14.00\">a</text>\n",
       "<polyline fill=\"none\" stroke=\"black\" points=\"23,-82.5 23,-118.5\"/>\n",
       "<text text-anchor=\"middle\" x=\"63.5\" y=\"-96.8\" font-family=\"Times New Roman,serif\" font-size=\"14.00\">data 1.0000</text>\n",
       "<polyline fill=\"none\" stroke=\"black\" points=\"104,-82.5 104,-118.5\"/>\n",
       "<text text-anchor=\"middle\" x=\"145.5\" y=\"-96.8\" font-family=\"Times New Roman,serif\" font-size=\"14.00\">grad 0.0000</text>\n",
       "</g>\n",
       "<!-- 1841992202560&#45;&gt;1841992200448exp -->\n",
       "<g id=\"edge7\" class=\"edge\">\n",
       "<title>1841992202560&#45;&gt;1841992200448exp</title>\n",
       "<path fill=\"none\" stroke=\"black\" d=\"M187.05,-116.67C196.34,-118.3 205.33,-119.87 213.44,-121.29\"/>\n",
       "<polygon fill=\"black\" stroke=\"black\" points=\"213.1,-124.78 223.55,-123.05 214.3,-117.88 213.1,-124.78\"/>\n",
       "</g>\n",
       "<!-- 1841992201120exp -->\n",
       "<g id=\"node10\" class=\"node\">\n",
       "<title>1841992201120exp</title>\n",
       "<ellipse fill=\"none\" stroke=\"black\" cx=\"250\" cy=\"-73.5\" rx=\"27\" ry=\"18\"/>\n",
       "<text text-anchor=\"middle\" x=\"250\" y=\"-69.8\" font-family=\"Times New Roman,serif\" font-size=\"14.00\">exp</text>\n",
       "</g>\n",
       "<!-- 1841992202560&#45;&gt;1841992201120exp -->\n",
       "<g id=\"edge11\" class=\"edge\">\n",
       "<title>1841992202560&#45;&gt;1841992201120exp</title>\n",
       "<path fill=\"none\" stroke=\"black\" d=\"M187.05,-84.33C196.34,-82.7 205.33,-81.13 213.44,-79.71\"/>\n",
       "<polygon fill=\"black\" stroke=\"black\" points=\"214.3,-83.12 223.55,-77.95 213.1,-76.22 214.3,-83.12\"/>\n",
       "</g>\n",
       "<!-- 1841992201120 -->\n",
       "<g id=\"node9\" class=\"node\">\n",
       "<title>1841992201120</title>\n",
       "<polygon fill=\"none\" stroke=\"black\" points=\"313,-55.5 313,-91.5 497,-91.5 497,-55.5 313,-55.5\"/>\n",
       "<text text-anchor=\"middle\" x=\"323\" y=\"-69.8\" font-family=\"Times New Roman,serif\" font-size=\"14.00\"> </text>\n",
       "<polyline fill=\"none\" stroke=\"black\" points=\"333,-55.5 333,-91.5\"/>\n",
       "<text text-anchor=\"middle\" x=\"373.5\" y=\"-69.8\" font-family=\"Times New Roman,serif\" font-size=\"14.00\">data 2.7183</text>\n",
       "<polyline fill=\"none\" stroke=\"black\" points=\"414,-55.5 414,-91.5\"/>\n",
       "<text text-anchor=\"middle\" x=\"455.5\" y=\"-69.8\" font-family=\"Times New Roman,serif\" font-size=\"14.00\">grad 0.0000</text>\n",
       "</g>\n",
       "<!-- 1841992201120&#45;&gt;1841992202944+ -->\n",
       "<g id=\"edge10\" class=\"edge\">\n",
       "<title>1841992201120&#45;&gt;1841992202944+</title>\n",
       "<path fill=\"none\" stroke=\"black\" d=\"M497.19,-73.08C529.04,-72.94 562.98,-72.78 587.72,-72.67\"/>\n",
       "<polygon fill=\"black\" stroke=\"black\" points=\"587.75,-76.17 597.73,-72.62 587.72,-69.17 587.75,-76.17\"/>\n",
       "</g>\n",
       "<!-- 1841992201120exp&#45;&gt;1841992201120 -->\n",
       "<g id=\"edge4\" class=\"edge\">\n",
       "<title>1841992201120exp&#45;&gt;1841992201120</title>\n",
       "<path fill=\"none\" stroke=\"black\" d=\"M277.3,-73.5C284.83,-73.5 293.52,-73.5 302.75,-73.5\"/>\n",
       "<polygon fill=\"black\" stroke=\"black\" points=\"302.95,-77 312.95,-73.5 302.95,-70 302.95,-77\"/>\n",
       "</g>\n",
       "<!-- 1841992203232 -->\n",
       "<g id=\"node11\" class=\"node\">\n",
       "<title>1841992203232</title>\n",
       "<polygon fill=\"none\" stroke=\"black\" points=\"1063,-60.5 1063,-96.5 1247,-96.5 1247,-60.5 1063,-60.5\"/>\n",
       "<text text-anchor=\"middle\" x=\"1073\" y=\"-74.8\" font-family=\"Times New Roman,serif\" font-size=\"14.00\"> </text>\n",
       "<polyline fill=\"none\" stroke=\"black\" points=\"1083,-60.5 1083,-96.5\"/>\n",
       "<text text-anchor=\"middle\" x=\"1123.5\" y=\"-74.8\" font-family=\"Times New Roman,serif\" font-size=\"14.00\">data 0.2689</text>\n",
       "<polyline fill=\"none\" stroke=\"black\" points=\"1164,-60.5 1164,-96.5\"/>\n",
       "<text text-anchor=\"middle\" x=\"1205.5\" y=\"-74.8\" font-family=\"Times New Roman,serif\" font-size=\"14.00\">grad 0.0000</text>\n",
       "</g>\n",
       "<!-- 1841992203232&#45;&gt;1841992203424* -->\n",
       "<g id=\"edge12\" class=\"edge\">\n",
       "<title>1841992203232&#45;&gt;1841992203424*</title>\n",
       "<path fill=\"none\" stroke=\"black\" d=\"M1247.21,-92.21C1256.47,-93.6 1265.42,-94.95 1273.51,-96.17\"/>\n",
       "<polygon fill=\"black\" stroke=\"black\" points=\"1273.19,-99.66 1283.6,-97.68 1274.23,-92.73 1273.19,-99.66\"/>\n",
       "</g>\n",
       "<!-- 1841992203232**&#45;1&#45;&gt;1841992203232 -->\n",
       "<g id=\"edge5\" class=\"edge\">\n",
       "<title>1841992203232**&#45;1&#45;&gt;1841992203232</title>\n",
       "<path fill=\"none\" stroke=\"black\" d=\"M1027.3,-78.5C1034.83,-78.5 1043.52,-78.5 1052.75,-78.5\"/>\n",
       "<polygon fill=\"black\" stroke=\"black\" points=\"1052.95,-82 1062.95,-78.5 1052.95,-75 1052.95,-82\"/>\n",
       "</g>\n",
       "</g>\n",
       "</svg>\n"
      ],
      "text/plain": [
       "<graphviz.graphs.Digraph at 0x1acdf4a7cd0>"
      ]
     },
     "execution_count": 12,
     "metadata": {},
     "output_type": "execute_result"
    }
   ],
   "source": [
    "a = Valor(1, rotulo=\"a\")\n",
    "b = a.sig()\n",
    "print(b)\n",
    "plota_grafo(b)"
   ]
  },
  {
   "cell_type": "markdown",
   "metadata": {},
   "source": [
    "## Conclusão\n",
    "\n"
   ]
  },
  {
   "cell_type": "markdown",
   "metadata": {},
   "source": [
    "Chegamos agora em um momento final para que nossa classe que trabalhamos nas últimas aulas possa ser treinada, pois aqui, nesse quinto experimento de redes neurais artificiais, vamos finalizar a classe `Valor`, de forma que ela esteja aprimorada da melhor maneira possível. Portanto, aqui, o que procuramos é tornar possível que ela possa realizar diferentes tipos de operações que vão muito além daquelas já realizadas através das funções dunder `__add__` e `__mul__`, que serão tão necessárias quanto, uma vez que acompanham o funcionamento na nossa rede neural artificial.\n",
    "\n",
    "Sendo assim, pudemos observar a forma que as operações se comportavam conforme rodamos cada uma delas antes e depois de definir as funções necessárias para que as operações escritas pudessem ser entendidas pelo Python. Ao total foram 9 novas funções definidas para aprimorar nossa classe `Valor`, dentre as quais haviam dunders e não dunders.\n",
    "\n",
    "<u>Dunders:</u>\n",
    "<ul>\n",
    "    <li> <b>__radd__:</b> que permite com que operações de adição sejam lidas e realizadas corretamente pelo Python independente da ordem das parcelas da soma </li>\n",
    "    <li> <b>__rmul__:</b> que permite com que operações de multiplicação sejam lidas e realizadas corretamente pelo Python independente da ordem dos fatores, porque ela não altera o produto </li>\n",
    "    <li> <b>__pow__:</b> aplica uma potência à uma instância da classe </li>\n",
    "    <li> <b>__truediv__:</b> divide uma instância da classe por outra instância ao elevar a multiplicação à -1 </li>\n",
    "    <li> <b>__neg__:</b> transforma uma instância da classe em negativa ao multiplicá-la por -1 </li>\n",
    "    <li> <b>__sub__:</b> realiza a operação de subtração </li>\n",
    "    <li> <b>__rsub__:</b> que permite com que operações de subtração sejam lidas e realizadas corretamente pelo Python independente da ordem do minuendo e do subtraendo </li>\n",
    "</ul>\n",
    "<u>Não dunders:</u>\n",
    "<ul>\n",
    "    <li> <b>exp:</b> aplica a exponencial $e^x$ à uma instância da classe </li>\n",
    "    <li> <b>sig:</b> função sigmóide que se aplica a uma instância de valor </li>\n",
    "</ul>\n",
    "\n",
    "Desta forma, conseguimos analisar todas as possíveis operação que precisaremos e que serão treinadas em próximos experimentos, de maneira que possam ser utilizadas da melhor maneira possível.\n",
    "\n",
    "Outro ponto importante diz respeito à como chamamos a nossa classe nesse notebook. Uma vez que ela muito grande, podemos armazená-la em um script, que já havia sido criado com o nome de `classes.py`, com o intuito de manter o notebook mais organizado e agradável aos olhos, tanto em aparência quanto para ser lido, apesar de ainda ter mantido a classe escrita em uma célula `Raw`, para que possamos entender do que estamos falando."
   ]
  },
  {
   "cell_type": "markdown",
   "metadata": {},
   "source": [
    "## Playground\n",
    "\n"
   ]
  },
  {
   "cell_type": "code",
   "execution_count": null,
   "metadata": {},
   "outputs": [],
   "source": []
  }
 ],
 "metadata": {
  "kernelspec": {
   "display_name": "ilumpy",
   "language": "python",
   "name": "ilumpy"
  },
  "language_info": {
   "codemirror_mode": {
    "name": "ipython",
    "version": 3
   },
   "file_extension": ".py",
   "mimetype": "text/x-python",
   "name": "python",
   "nbconvert_exporter": "python",
   "pygments_lexer": "ipython3",
   "version": "3.9.7"
  },
  "org": null
 },
 "nbformat": 4,
 "nbformat_minor": 4
}
