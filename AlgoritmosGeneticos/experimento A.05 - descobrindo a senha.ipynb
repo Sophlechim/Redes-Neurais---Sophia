{
 "cells": [
  {
   "cell_type": "markdown",
   "metadata": {},
   "source": [
    "Descobrindo a senha\n",
    "===================\n",
    "\n"
   ]
  },
  {
   "cell_type": "markdown",
   "metadata": {},
   "source": [
    "## Objetivo\n",
    "\n"
   ]
  },
  {
   "cell_type": "markdown",
   "metadata": {},
   "source": [
    "Usar um algoritmo genético para descobrir uma senha.\n",
    "\n"
   ]
  },
  {
   "cell_type": "markdown",
   "metadata": {},
   "source": [
    "## Descrição do problema\n",
    "\n"
   ]
  },
  {
   "cell_type": "markdown",
   "metadata": {},
   "source": [
    "Neste problema, a função objetivo deve saber a senha correta e quantificar de alguma maneira o quão perto ou longe os palpites estão da solução (veja que isso é algo que não temos no mundo real. Nenhum site irá te dizer se você está acertando ou errando seu palpite). `O critério de parada deste problema é quando a senha for descoberta`.\n",
    "\n"
   ]
  },
  {
   "cell_type": "markdown",
   "metadata": {},
   "source": [
    "## Importações\n",
    "\n"
   ]
  },
  {
   "cell_type": "code",
   "execution_count": 1,
   "metadata": {},
   "outputs": [],
   "source": [
    "from funcoes import populacao_inicial_senha\n",
    "from funcoes import func_obj_pop_senha\n",
    "from funcoes import selecao_torneio_min\n",
    "from funcoes import cruzamento_ponto_simples as func_cruzamento\n",
    "from funcoes import mutacao_senha\n",
    "import random"
   ]
  },
  {
   "cell_type": "markdown",
   "metadata": {},
   "source": [
    "## Códigos e discussão\n",
    "\n"
   ]
  },
  {
   "cell_type": "code",
   "execution_count": 5,
   "metadata": {},
   "outputs": [],
   "source": [
    "# constantes de busca\n",
    "TAMANHO_POP = 50\n",
    "# num_geracoes = 2000\n",
    "CHANCE_CRUZAMENTO = 0.5\n",
    "CHANCE_MUTACAO = 0.05\n",
    "NUM_COMBATENTES_NO_TORNEIO = 3\n",
    "\n",
    "# constantes para o problema\n",
    "SENHA = \"asenhacorretachamak\"\n",
    "LETRAS_POSSIVEIS = \"abcadefghijklmnopqrstuvwxyz\"\n",
    "NUM_GENES = len(SENHA)"
   ]
  },
  {
   "cell_type": "code",
   "execution_count": 3,
   "metadata": {},
   "outputs": [],
   "source": [
    "# funções locais\n",
    "\n",
    "def cria_pop_inicial(tamanho, tamanho_senha):\n",
    "    return populacao_inicial_senha(tamanho, tamanho_senha, LETRAS_POSSIVEIS)\n",
    "\n",
    "def func_obj_pop(populacao):\n",
    "    return func_obj_pop_senha(populacao, SENHA)\n",
    "\n",
    "def func_selecao(populacao, fitness):\n",
    "    return selecao_torneio_min(populacao, fitness, NUM_COMBATENTES_NO_TORNEIO)\n",
    "\n",
    "def func_mutacao(individuo):\n",
    "    return mutacao_senha(individuo, LETRAS_POSSIVEIS)"
   ]
  },
  {
   "cell_type": "code",
   "execution_count": 4,
   "metadata": {},
   "outputs": [
    {
     "name": "stdout",
     "output_type": "stream",
     "text": [
      "Progresso da melhor senha já vista:\n",
      "izenjospreavdaiaiym - fitness: 103\n",
      "izenjospreavdahdgab - fitness: 90\n",
      "izenjebngonvdahdgab - fitness: 71\n",
      "glaihebngodvdahdgab - fitness: 68\n",
      "izenhebngodvdahdgab - fitness: 61\n",
      "glenhebngodvdahdgab - fitness: 59\n",
      "flenhebngodvdahdgab - fitness: 58\n",
      "elenhebngodvdahdgab - fitness: 57\n",
      "elenhebngodvaahdgab - fitness: 54\n",
      "emenhebngodvdahdnab - fitness: 51\n",
      "euenhebngodvaahdgab - fitness: 49\n",
      "emenhebngodvaahdnab - fitness: 48\n",
      "euenhebngodvaahdnab - fitness: 44\n",
      "emenhebnsodvaahdnab - fitness: 38\n",
      "euenhebnsodvaahdnab - fitness: 34\n",
      "auenhebnsodvaahdnab - fitness: 30\n",
      "euenhebnsodvaahdnan - fitness: 28\n",
      "auenhebnsodvaahdnak - fitness: 21\n",
      "auenhbbnsodvaahdnak - fitness: 18\n",
      "auenhbbnsodvachdnak - fitness: 16\n",
      "auenhbbnsodvachbnak - fitness: 14\n",
      "auenhbbnssdvachbnak - fitness: 12\n",
      "atenhbbnssdvachbnak - fitness: 11\n",
      "atenhbbnssduachbnak - fitness: 10\n",
      "atenhbbnrsduachbnak - fitness: 9\n",
      "atenhabossduachbnak - fitness: 8\n",
      "atenhabossduachanak - fitness: 7\n",
      "asenhabossduachanak - fitness: 6\n",
      "asenhabosseuachanak - fitness: 5\n",
      "asenhabossetachanak - fitness: 4\n",
      "asenhabosretachanak - fitness: 3\n",
      "asenhacosretachanak - fitness: 2\n",
      "asenhacosretachamak - fitness: 1\n",
      "asenhacorretachamak - fitness: 0\n",
      "\n",
      "Melhor palpite da senha encontrado:\n",
      "asenhacorretachamak\n"
     ]
    }
   ],
   "source": [
    "populacao = cria_pop_inicial(TAMANHO_POP, NUM_GENES)\n",
    "\n",
    "melhor_fitness_existente = float(\"inf\")  # infinito na linguagem de python\n",
    "\n",
    "print(\"Progresso da melhor senha já vista:\")\n",
    "\n",
    "while melhor_fitness_existente != 0:\n",
    "    \n",
    "    # Seleção\n",
    "    fitness = func_obj_pop(populacao)\n",
    "    populacao = func_selecao(populacao, fitness)\n",
    "    \n",
    "    # Cruzamento\n",
    "    pais = populacao[0::2]\n",
    "    maes = populacao[1::2]\n",
    "    \n",
    "    contador = 0\n",
    "    \n",
    "    for pai, mae in zip(pais, maes):\n",
    "        if random.random() <= CHANCE_CRUZAMENTO:\n",
    "            filho1, filho2 = func_cruzamento(pai, mae)\n",
    "            populacao[contador] = filho1\n",
    "            populacao[contador + 1] = filho2\n",
    "        \n",
    "        contador = contador + 2   \n",
    "        \n",
    "    # Mutação\n",
    "    for n in range(len(populacao)):\n",
    "        if random.random() <= CHANCE_MUTACAO:\n",
    "            individuo = populacao[n]\n",
    "            populacao[n] = func_mutacao(individuo)            \n",
    "            \n",
    "    # melhor individuo já visto até agora\n",
    "    fitness = func_obj_pop(populacao)\n",
    "    menor_fitness = min(fitness)\n",
    "    if menor_fitness < melhor_fitness_existente:        \n",
    "        posicao = fitness.index(menor_fitness)\n",
    "        melhor_individuo_visto = populacao[posicao]\n",
    "        melhor_fitness_existente = menor_fitness\n",
    "        print(\"\".join(melhor_individuo_visto), \"- fitness:\", melhor_fitness_existente)\n",
    "\n",
    "print()\n",
    "print(\"Melhor palpite da senha encontrado:\")\n",
    "print(\"\".join(melhor_individuo_visto))"
   ]
  },
  {
   "cell_type": "markdown",
   "metadata": {
    "tags": []
   },
   "source": [
    "## Conclusão\n",
    "\n"
   ]
  },
  {
   "cell_type": "markdown",
   "metadata": {},
   "source": [
    "No quinto experimento realizado, foi proposta a construção de um código de algoritmo genético para descobrir uma senha, a qual é dada pela função objetiva presente no arquivo `\"funcoes.py\"` para computar dentro da população do problema, ou seja, essa senha já é sabida por essa função, que tem como papel quantificar a semelhança dos palpites retornados pelo algoritmo, até que a senha seja descoberta.\n",
    "\n",
    "Vemos nesse experimento que, para encontrar uma senha dada uma quantidade possível de caracteres e tamanho definido, o algoritmo testa diversas combinações de caracteres possíveis, de acordo com o fitness, ou a \"distância\" da semelhança entre o palpite do indivíduo e a senha verdadeira. Para isso, utilizamos a mesma ideia de seleção, cruzamento e mutação com o módulo `random`, porém agora para uma `string`. Vemos, inclusive, que conforme as letras estão corretas o algoritmo as mantém até que o valor de fitness ser 0, ou seja, quando a senha é descoberta, sendo exatamente esse o critério de parada da iteração."
   ]
  },
  {
   "cell_type": "markdown",
   "metadata": {},
   "source": [
    "## Playground\n",
    "\n"
   ]
  },
  {
   "cell_type": "code",
   "execution_count": null,
   "metadata": {},
   "outputs": [],
   "source": []
  }
 ],
 "metadata": {
  "kernelspec": {
   "display_name": "ilumpy",
   "language": "python",
   "name": "ilumpy"
  },
  "language_info": {
   "codemirror_mode": {
    "name": "ipython",
    "version": 3
   },
   "file_extension": ".py",
   "mimetype": "text/x-python",
   "name": "python",
   "nbconvert_exporter": "python",
   "pygments_lexer": "ipython3",
   "version": "3.9.7"
  },
  "org": null
 },
 "nbformat": 4,
 "nbformat_minor": 4
}
