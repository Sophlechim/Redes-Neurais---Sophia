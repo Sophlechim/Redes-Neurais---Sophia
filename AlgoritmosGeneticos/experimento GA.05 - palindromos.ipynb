{
 "cells": [
  {
   "cell_type": "markdown",
   "id": "29d068e0-16d8-4600-8c80-062135749b2c",
   "metadata": {
    "tags": []
   },
   "source": [
    "# Novos palíndromos"
   ]
  },
  {
   "cell_type": "markdown",
   "id": "23f670ec-21f8-4345-b39d-1ad8ca90e8b4",
   "metadata": {},
   "source": [
    "**Experimento da Lista de experimentos disponibilizada no github**"
   ]
  },
  {
   "cell_type": "markdown",
   "id": "59f3c16d-064d-4034-b95b-a62cfb4d2095",
   "metadata": {},
   "source": [
    "## Introdução\n",
    "\n",
    "Para esse experimento retirado da lista de experimentos, vemos um problema em que queremos gerar palíndromos para uma determinada quatidade de letras aleatórias.\n",
    "\n",
    "## Objetivo: \n",
    "\n",
    "Encontre pelo menos 10 palíndromos de 5 letras. Estes palíndromos devem ter pelo menos uma vogal. Não é necessário que eles formem palavras válidas em português ou qualquer outro idioma."
   ]
  },
  {
   "cell_type": "markdown",
   "id": "e2dde50f-3e09-4432-8f88-7e43936c418c",
   "metadata": {},
   "source": [
    "### Importações"
   ]
  },
  {
   "cell_type": "markdown",
   "id": "e2462e83-f6ad-4c2f-8fbf-7d2ced59e3da",
   "metadata": {},
   "source": [
    "<font color=lightseagreen> Para que fosse necessário executar esse experimento foram necessárias implementar duas novas funções objetivas, `func_obj_palindromos` e `func_obj_pop_palindromos`, das quais a primeira computa a quantidade de vogais na palavra gerada, validando ela quando há pelo menos uma vogal presente nelas. Após isso, ela também computa se a palavra é um palíndromo ou não, copiando a palavra gerada (para não modificar a original) e invertendo ela, comparando a primeira palavra com essa palavra invertida a partir de um `loop` que transforma a string em um valor numérico usando o código ASCII. A segunda função objetiva (de população) é responsável por computar em uma lista os valores encontrados pela primeira função objetiva. O código usado foi retirado e baseado no experimento `A.05 - descobrindo a senha`. </font>"
   ]
  },
  {
   "cell_type": "markdown",
   "id": "e5668946-f657-42e0-820e-91a79cdc694c",
   "metadata": {},
   "source": [
    "<font color=lightseagreen> Assim, foi necessáario importar os seguintes módulos e funções: </font>"
   ]
  },
  {
   "cell_type": "code",
   "execution_count": 1,
   "id": "470e19dd-911d-49f4-b7d8-c88ae11e1236",
   "metadata": {},
   "outputs": [],
   "source": [
    "import random\n",
    "\n",
    "from funcoes import populacao_inicial_senha\n",
    "from funcoes import selecao_torneio_min as func_selecao\n",
    "from funcoes import func_obj_pop_palindromo as func_obj_pop\n",
    "from funcoes import cruzamento_ponto_simples as func_cruzamento\n",
    "from funcoes import mutacao_senha"
   ]
  },
  {
   "cell_type": "markdown",
   "id": "caf234f7-e413-486b-9299-7904929ad149",
   "metadata": {},
   "source": [
    "### Códigos e Discussão"
   ]
  },
  {
   "cell_type": "markdown",
   "id": "9ac4444e-e336-490e-9fbc-f9420e2377c9",
   "metadata": {},
   "source": [
    "<font color=lightseagreen> Vamos começar, então, por definir as constantes que serão utilizadas, separando-as entre as necessárias para a busca e aquelas que são específicas para esse problema. Como queremos encontrar \"palavras\", ou seja, o algoritmo deve retornar uma string gerada aleatoriamente, precisa ser difinida uma constante que é equivalente ao alfabeto hebraico completo (em letras minúsculas). </font>"
   ]
  },
  {
   "cell_type": "code",
   "execution_count": 2,
   "id": "baf3fe35-313e-40b6-87d9-cb2ad513d107",
   "metadata": {},
   "outputs": [],
   "source": [
    "### CONSTANTES\n",
    "\n",
    "# relacionadas à busca\n",
    "TAMANHO_POP = 10\n",
    "CHANCE_CRUZAMENTO = 0.5\n",
    "CHANCE_MUTACAO = 0.05\n",
    "NUM_COMBATENTES_NO_TORNEIO = 3\n",
    "\n",
    "# relacionadas ao problema a ser resolvido\n",
    "TAMANHO_PALINDROMO = 5\n",
    "LETRAS_POSSIVEIS = \"abcdefghijklmnopqrstuvwxyz\"\n",
    "VOGAIS = \"aeiou\"\n",
    "CONSOANTES = \"bcdfghjklmnpqrstvwxyz\""
   ]
  },
  {
   "cell_type": "markdown",
   "id": "f9f126db-9e2c-4376-b228-cc3053dec2be",
   "metadata": {},
   "source": [
    "<font color=lightseagreen> Devido a necessidade de implementar nossas constantes como argumento das funções que utilizaremos para que o algoritmo genêtico funcione, foram criadas funções locais que substituem o argumento `letras` pelas `LETRAS_POSSÍVEIS` demonstradas nas constantes acima. Usamos funções locais para fazer isso. </font>"
   ]
  },
  {
   "cell_type": "code",
   "execution_count": 3,
   "id": "df3e2f0a-8592-4788-9ac3-7f93f5b70e99",
   "metadata": {},
   "outputs": [],
   "source": [
    "# funções locais\n",
    "\n",
    "def cria_pop_inicial(tamanho, tamanho_senha):\n",
    "    return populacao_inicial_senha(tamanho, tamanho_senha, LETRAS_POSSIVEIS)\n",
    "\n",
    "def func_mutacao(individuo):\n",
    "    return mutacao_senha(individuo, LETRAS_POSSIVEIS)\n"
   ]
  },
  {
   "cell_type": "markdown",
   "id": "e589f638-c222-4575-b291-51da09d4652e",
   "metadata": {},
   "source": [
    "<font color=lightseagreen> Escrevendo o algoritmo desse experimento, precisamos definir, primeiramente, uma lista vazia que deve armazenar os palíndromos que o `loop` irá gerar e que ao final deve ser retornada. Sendo assim, nomeamos a função `cria_populacao_inicial` como `populacao`, que recebe as constantes `TAMANHO_POP` e `TAMANHO_PALINDROMO` como argumentos. Também definimos um valor infinito (indeterminado) para o `melhor_fitness_existente`. Printamos o progresso da busca pelo palíndromo, que deve ser retornado 10 vezes. </font>"
   ]
  },
  {
   "cell_type": "markdown",
   "id": "7a0cc324-0fb5-4199-8008-87bffdba06ca",
   "metadata": {},
   "source": [
    "<font color=lightseagreen> Dando continuidade, para que vejamos o progresso de busca, devemos definir que o `loop` deve continuar até que o fitness seja 0 dado pelo `while` abaixo. Enquanto ele for diferente de 0, teremos e seleção da melhor geração, o cruzamento entre indivíduos <i>pai</i> e <i>mãe</i> e mutação dos genes para encontrar o melhor possível trabalhando para econtrar os melhores indivíduos, os nossos palíndromos. </font>"
   ]
  },
  {
   "cell_type": "markdown",
   "id": "20d5d04c-b9e8-4123-9b8a-bb8323aa49f0",
   "metadata": {},
   "source": [
    "<font color=lightseagreen> Trabalhando com o fitness dos indivíduos e indentificando os melhores indivíduos já vistos, nós queremos que o menor fitness possível seja retornado a cada palavra gerada progressivamente mais próxima de um palíndromo. A partir de uma condição `if` para um fitness menor que `melhor_fitness_existente`, o qual está determinado por `posicao`, sendo transformado no novo melhor fitness. </font>"
   ]
  },
  {
   "cell_type": "code",
   "execution_count": 4,
   "id": "42903cac-ac5c-4b86-af14-f368e792cb2e",
   "metadata": {},
   "outputs": [
    {
     "name": "stdout",
     "output_type": "stream",
     "text": [
      "Progresso dos palíndromos:\n",
      "brtum - fitness: 28\n",
      "xrtun - fitness: 26\n",
      "brtuh - fitness: 18\n",
      "lrtuh - fitness: 14\n",
      "lrtui - fitness: 12\n",
      "lrtti - fitness: 10\n",
      "fstti - fitness: 8\n",
      "fstsi - fitness: 6\n",
      "hstti - fitness: 4\n",
      "hstsi - fitness: 2\n",
      "isgsi - fitness: 0\n",
      "\n",
      "1º Palindromo encontrado:\n",
      "isgsi\n",
      "\n",
      "\n",
      "Progresso dos palíndromos:\n",
      "enqmd - fitness: 4\n",
      "emqmd - fitness: 2\n",
      "emvme - fitness: 0\n",
      "\n",
      "2º Palindromo encontrado:\n",
      "emvme\n",
      "\n",
      "\n",
      "Progresso dos palíndromos:\n",
      "ahoka - fitness: 6\n",
      "aooma - fitness: 4\n",
      "amwma - fitness: 0\n",
      "\n",
      "3º Palindromo encontrado:\n",
      "amwma\n",
      "\n",
      "\n",
      "Progresso dos palíndromos:\n",
      "koauk - fitness: 12\n",
      "uodsv - fitness: 10\n",
      "uoqmv - fitness: 6\n",
      "unqmv - fitness: 4\n",
      "vnomv - fitness: 2\n",
      "vlolv - fitness: 0\n",
      "\n",
      "4º Palindromo encontrado:\n",
      "vlolv\n",
      "\n",
      "\n",
      "Progresso dos palíndromos:\n",
      "dhtha - fitness: 6\n",
      "dhlhe - fitness: 2\n",
      "ehlhe - fitness: 0\n",
      "\n",
      "5º Palindromo encontrado:\n",
      "ehlhe\n",
      "\n",
      "\n",
      "Progresso dos palíndromos:\n",
      "cerhg - fitness: 14\n",
      "cerfg - fitness: 10\n",
      "cerfa - fitness: 6\n",
      "cfrfa - fitness: 4\n",
      "bfkfa - fitness: 2\n",
      "afvfa - fitness: 0\n",
      "\n",
      "6º Palindromo encontrado:\n",
      "afvfa\n",
      "\n",
      "\n",
      "Progresso dos palíndromos:\n",
      "ubgcm - fitness: 18\n",
      "ubkcy - fitness: 10\n",
      "ubxcw - fitness: 6\n",
      "ubqbw - fitness: 4\n",
      "xbobw - fitness: 2\n",
      "xbobx - fitness: 0\n",
      "\n",
      "7º Palindromo encontrado:\n",
      "xbobx\n",
      "\n",
      "\n",
      "Progresso dos palíndromos:\n",
      "yonow - fitness: 4\n",
      "yonoy - fitness: 0\n",
      "\n",
      "8º Palindromo encontrado:\n",
      "yonoy\n",
      "\n",
      "\n",
      "Progresso dos palíndromos:\n",
      "kuyxm - fitness: 10\n",
      "luyxm - fitness: 8\n",
      "muyxm - fitness: 6\n",
      "mupvm - fitness: 2\n",
      "muxum - fitness: 0\n",
      "\n",
      "9º Palindromo encontrado:\n",
      "muxum\n",
      "\n",
      "\n",
      "Progresso dos palíndromos:\n",
      "cndoc - fitness: 2\n",
      "nipin - fitness: 0\n",
      "\n",
      "10º Palindromo encontrado:\n",
      "nipin\n",
      "\n",
      "\n",
      "\n",
      "Palindromos encontrados:\n",
      "1º palindromo: isgsi\n",
      "2º palindromo: emvme\n",
      "3º palindromo: amwma\n",
      "4º palindromo: vlolv\n",
      "5º palindromo: ehlhe\n",
      "6º palindromo: afvfa\n",
      "7º palindromo: xbobx\n",
      "8º palindromo: yonoy\n",
      "9º palindromo: muxum\n",
      "10º palindromo: nipin\n"
     ]
    }
   ],
   "source": [
    "palindromos = []\n",
    "\n",
    "for i in range(10):\n",
    "    # Busca por algoritmo genético\n",
    "    populacao = cria_pop_inicial(TAMANHO_POP, TAMANHO_PALINDROMO)\n",
    "    melhor_fitness_existente = float(\"inf\")  \n",
    "    print(\"Progresso dos palíndromos:\")\n",
    "\n",
    "    while melhor_fitness_existente != 0:\n",
    "\n",
    "        # Seleção\n",
    "        fitness = func_obj_pop(populacao)\n",
    "        populacao = func_selecao(populacao, fitness)\n",
    "\n",
    "        # Cruzamento\n",
    "        pais = populacao[0::2]\n",
    "        maes = populacao[1::2]\n",
    "\n",
    "        contador = 0\n",
    "\n",
    "        for pai, mae in zip(pais, maes):\n",
    "            if random.random() <= CHANCE_CRUZAMENTO:\n",
    "                filho1, filho2 = func_cruzamento(pai, mae)\n",
    "                populacao[contador] = filho1\n",
    "                populacao[contador + 1] = filho2\n",
    "\n",
    "            contador = contador + 2   \n",
    "\n",
    "        # Mutação\n",
    "        for n in range(len(populacao)):\n",
    "            if random.random() <= CHANCE_MUTACAO:\n",
    "                individuo = populacao[n]\n",
    "                populacao[n] = func_mutacao(individuo)            \n",
    "\n",
    "        # melhor individuo já visto até agora\n",
    "        fitness = func_obj_pop(populacao)\n",
    "        menor_fitness = min(fitness)\n",
    "        if menor_fitness < melhor_fitness_existente:        \n",
    "            posicao = fitness.index(menor_fitness)\n",
    "            melhor_individuo_visto = populacao[posicao]\n",
    "            melhor_fitness_existente = menor_fitness\n",
    "            print(\"\".join(melhor_individuo_visto), \"- fitness:\", melhor_fitness_existente)\n",
    "\n",
    "    print()\n",
    "    print(i+1, \"º Palindromo encontrado:\", sep=\"\")\n",
    "    print(\"\".join(melhor_individuo_visto))\n",
    "    palindromos.append(melhor_individuo_visto)\n",
    "    \n",
    "    print()\n",
    "    print()\n",
    "\n",
    "print()\n",
    "print(\"Palindromos encontrados:\")\n",
    "for i, ind in enumerate(palindromos):\n",
    "    print(i+1, \"º palindromo: \", end=\"\", sep=\"\")\n",
    "    print(\"\".join(ind))"
   ]
  },
  {
   "cell_type": "markdown",
   "id": "00a13754-561d-43cd-b782-6109c4799c29",
   "metadata": {},
   "source": [
    "<font color=lightseagreen> Ao fim, vemos os 10 palíndromos de cinco letras listados acima juntamente com o progresso da busca para cada um deles. </font>"
   ]
  },
  {
   "cell_type": "markdown",
   "id": "1cd0afe7-e348-4297-bf72-895991361f46",
   "metadata": {},
   "source": [
    "### Conclusão"
   ]
  },
  {
   "cell_type": "markdown",
   "id": "7a13d7de-6ae9-4f3b-80ad-cb495b359500",
   "metadata": {},
   "source": [
    "Este é o segundo desafio proposto, o qual foi escolhido diretamente da lista de experimentos presente nesta mesma pasta. O experimento em questão, visava utilizar dos aprendizados das aulas sobre algoritmos genéticos para construir palíndromos de cinco letras, sendo que pelo menos uma vogal deve existir nesta palavra. Tal palavra não obrigatóriamente deveria ser uma palavra reais e que fizessem algum sentido, podendo ser apenas uma sequência aleatória de letras. Sendo assim, a primeira coisa que podemos perceber é que estaremos trabalhando com várias listas do tipo `string` geradas de maneira aleatória a partir da função objetiva. Precisamos importar o módulo `random` e o módulo `copy`, usado no scritp de funções para copiar a lista de letras.\n",
    "\n",
    "Sendo parecido com o experimento A.05, que servia para descobrir uma senha, o funcionamento desse algoritmo para encontrar palíndromos utilizou de muitos códigos que pertenciam ao quinto experimento, como as funções do script `funcoes` e o próprio algoritmo de busca para seleção, cruzamento, mutação e análise de fitness. Entretanto, as diferenças requeridas pelo tipo de objetivo a ser alcançado para a busca por 10 palíndromos exigiu que algumas modificações fossem feitas, como por exemplo: a função objetiva. Definida agora como `func_obj_palindromo`, a função objetiva desse experimento deve receber apenas um argumento, uma vez que queremos que os palíndromos sejam gerados pelo código, não pré-definidos como fizemos para a senha. Sendo assim, ela irá receber uma lista de letras gerada aleatóriamente como argumento, analisar a quantidade de vogais presentes no palíndromo e caso não haja nenhuma, ele vai desconsiderar este indivíduo. Desta lista que foi gerada, a função irá inverter uma cópia dela, de maneira a não atrapalhar a lista original, e analisar, letra por letra, o valor `objetivo` resultante da soma dos módulos dos valores ASCII das letras reais e invertidas, dados pela função `ord`."
   ]
  },
  {
   "cell_type": "code",
   "execution_count": null,
   "id": "f7241169-440b-4162-97f5-7eafee43eafe",
   "metadata": {},
   "outputs": [],
   "source": []
  }
 ],
 "metadata": {
  "kernelspec": {
   "display_name": "ilumpy",
   "language": "python",
   "name": "ilumpy"
  },
  "language_info": {
   "codemirror_mode": {
    "name": "ipython",
    "version": 3
   },
   "file_extension": ".py",
   "mimetype": "text/x-python",
   "name": "python",
   "nbconvert_exporter": "python",
   "pygments_lexer": "ipython3",
   "version": "3.9.7"
  }
 },
 "nbformat": 4,
 "nbformat_minor": 5
}
