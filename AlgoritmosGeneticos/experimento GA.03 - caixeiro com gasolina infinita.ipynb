{
 "cells": [
  {
   "cell_type": "markdown",
   "id": "29d068e0-16d8-4600-8c80-062135749b2c",
   "metadata": {
    "tags": []
   },
   "source": [
    "# O caixeiro com gasolina infinita\n",
    "### (e sem consciência)"
   ]
  },
  {
   "cell_type": "markdown",
   "id": "23f670ec-21f8-4345-b39d-1ad8ca90e8b4",
   "metadata": {},
   "source": [
    "**Experimento da Lista de experimentos disponibilizada no github**"
   ]
  },
  {
   "cell_type": "markdown",
   "id": "59f3c16d-064d-4034-b95b-a62cfb4d2095",
   "metadata": {},
   "source": [
    "## Introdução\n",
    "\n",
    "Para esse experimento dado como desafio, vemos `o caixeiro viajante`, resolvido anteriormente no experimento A.06, porém agora ele agora vai segui pelo maior caminho possível entre as cidades que ele passará. \n",
    "\n",
    "Nesse sentido, agora é necessário que seja encontrada a maior distância entre que o caixeiro deve percorrer para passar dentre todas as cidades para que ele retorne ao seu ponto incial, ou cidade de partida.\n",
    "\n",
    "Daí que vem o nome do problema. Esse caixeiro realmente não é nem um pouco consciente de suas ações e o que elas podem causar ao meio ambiente!!!\n",
    "\n",
    "## Objetivo: \n",
    "\n",
    "Encontrar o caminho de *maior* distância no problema do caixeiro viajante e mostrar ele de forma gráfica. Serão consideradas 5 cidades e nenhuma delas pode ser visitada novamente.\n",
    "\n",
    "**Considerações a se fazer:** Considere um número $n\\geq 7$ de coordenadas $(x,y)$ de cidades e que o caixeiro tenha combustível infinito. Você pode gerar as coordenadas de forma aleatória ou simplesmente usar as coordenadas que desejar. O caixeiro só anda em linha reta e apenas entre duas cidades. O caixeiro começa e termina seu trajeto na mesma cidade e, fora a cidade inicial, ele não visita nenhuma outra cidade mais de uma vez."
   ]
  },
  {
   "cell_type": "markdown",
   "id": "e2dde50f-3e09-4432-8f88-7e43936c418c",
   "metadata": {},
   "source": [
    "### Importações"
   ]
  },
  {
   "cell_type": "markdown",
   "id": "8f741829-c41e-48b3-b5b8-6482b58acda2",
   "metadata": {},
   "source": [
    "<font color=lightseagreen> Para este experimento, foi preciso modificar apenas uma função, a função de `selecao_torneio_min`, que foi copiada para uma nova função de `selecao_torneio_maximo`, de forma que a primeira não fosse alterada. A nova função deve realizar um torneio entra os indíviduos em que aquele com o máximo valor de fitness ganhe, portanto ela é uma função de maximização. O código usado foi retirado e baseado no experimento `A.06 - o caixeiro viajante`. </font>"
   ]
  },
  {
   "cell_type": "markdown",
   "id": "6b9ebea9-f35b-4e55-aa8b-8dfbc3723bf0",
   "metadata": {},
   "source": [
    "<font color=lightseagreen> Desta maneira, as importações de módulos e funções que vamos precisar se encontram a seguir. </font>"
   ]
  },
  {
   "cell_type": "code",
   "execution_count": 1,
   "id": "470e19dd-911d-49f4-b7d8-c88ae11e1236",
   "metadata": {},
   "outputs": [],
   "source": [
    "import random\n",
    "from itertools import permutations\n",
    "\n",
    "from funcoes import cria_cidades\n",
    "from funcoes import populacao_inicial_cv as cria_pop_inicial\n",
    "from funcoes import funcao_objetivo_pop_cv\n",
    "from funcoes import funcao_objetivo_cv\n",
    "from funcoes import selecao_torneio_max as funcao_selecao\n",
    "from funcoes import cruzamento_ordenado as funcao_cruzamento\n",
    "from funcoes import mutacao_de_troca as funcao_mutacao"
   ]
  },
  {
   "cell_type": "markdown",
   "id": "caf234f7-e413-486b-9299-7904929ad149",
   "metadata": {},
   "source": [
    "### Códigos e Discussão"
   ]
  },
  {
   "cell_type": "markdown",
   "id": "a3893a48-22d6-477b-ba4d-ae922f87bf3d",
   "metadata": {},
   "source": [
    "<font color=lightseagreen> O primeiro passo para chegarmos ao nosso objetivo (depois de realizar as importações) é indicar com quantas cidades estamos trabalhando, no caso cinco, e criar uma lista com eles como mostrado de maneira simples na célula de código abaixo. Além disso, usando o método `shuffle` da biblioteca random, vemos como reordenar os itens da nossa lista criada de maneira aleatória. </font>"
   ]
  },
  {
   "cell_type": "code",
   "execution_count": 2,
   "id": "3427f9f4-c141-4fac-ba59-cc4f5f8ba074",
   "metadata": {},
   "outputs": [
    {
     "data": {
      "text/plain": [
       "['Cidade 0', 'Cidade 4', 'Cidade 1', 'Cidade 2', 'Cidade 3']"
      ]
     },
     "execution_count": 2,
     "metadata": {},
     "output_type": "execute_result"
    }
   ],
   "source": [
    "cidades = cria_cidades(5) # indicando o número de cidades\n",
    "\n",
    "cidades\n",
    "\n",
    "nomes = list(cidades.keys()) # criando uma lista para essas 5 cidades\n",
    "nomes\n",
    "random.shuffle(nomes) # reorganizando a ordem dos itens\n",
    "nomes"
   ]
  },
  {
   "cell_type": "markdown",
   "id": "5e1aa25f-c4bb-4b61-85a7-22a235676ff6",
   "metadata": {},
   "source": [
    "<font color=lightseagreen> Compreendido isso, precisamos definir todas as nossas constantes, incluindo o número de cidades, pois da forma que foi colocada anteriormente torna complicada a sua implementação dentro do nosso algoritmo. Sendo assim, separam-se as contantes de busca e aquelas que são relacionadas únicamente ao problema (o número de ciades, no caso). </font>"
   ]
  },
  {
   "cell_type": "code",
   "execution_count": 3,
   "id": "baf3fe35-313e-40b6-87d9-cb2ad513d107",
   "metadata": {},
   "outputs": [],
   "source": [
    "### CONSTANTES\n",
    "\n",
    "# relacionadas à busca\n",
    "TAMANHO_POP = 50\n",
    "NUM_GERACOES = 3000\n",
    "CHANCE_CRUZAMENTO = 0.5\n",
    "CHANCE_MUTACAO = 0.05\n",
    "NUM_COMBATENTES_NO_TORNEIO = 3\n",
    "\n",
    "# relacionadas ao problema a ser resolvido\n",
    "NUM_CIDADES = 5\n",
    "CIDADES = cria_cidades(NUM_CIDADES)"
   ]
  },
  {
   "cell_type": "markdown",
   "id": "f9a9ff80-53ed-40f9-ab55-5ab6faacc626",
   "metadata": {},
   "source": [
    "<font color=lightseagreen> Implementa-se novas funções locais que dizem respeito à população e ao indivíduo, de forma a modificar o argumento `cidades` das funções objetivas no script para o nome `CIDADES`, que substitui para a função `cria cidades`, que recebe o argumento do número de cidades definido anteriormente. </font>"
   ]
  },
  {
   "cell_type": "code",
   "execution_count": 4,
   "id": "df3e2f0a-8592-4788-9ac3-7f93f5b70e99",
   "metadata": {},
   "outputs": [],
   "source": [
    "# Funções locais\n",
    "\n",
    "def func_obj_pop(populacao):\n",
    "    return funcao_objetivo_pop_cv(populacao, CIDADES)\n",
    "\n",
    "def func_obj_individuo(individuo):\n",
    "    return funcao_objetivo_cv(individuo, CIDADES)"
   ]
  },
  {
   "cell_type": "markdown",
   "id": "6d02a11c-08ed-4d91-a4a0-a28b5a5f138c",
   "metadata": {},
   "source": [
    "<h4><font color=lightseagreen> Vamos agora ao nosso algoritmo de busca </font></h4>"
   ]
  },
  {
   "cell_type": "markdown",
   "id": "deb6d22b-b8ca-4256-ae75-0124ee520dba",
   "metadata": {},
   "source": [
    "<font color=lightseagreen> Começamos por nomear a função que cria a população inicial com um nome mais simples e substituindo os argumantos dela pelas constantes estabelecidas, `TAMANHO_POP` e `CIDADES`. Importante ressaltar que, definindo o valor de `melhor_fitness_ja_visto` como infinito, estamos designando um valor indeterminado que pode ser positivo ou negativo, não sendo igual a zero, a partir da função `float()`. </font>"
   ]
  },
  {
   "cell_type": "markdown",
   "id": "f6d83c22-eb25-4fc6-93b5-d66a91f0b9f3",
   "metadata": {},
   "source": [
    "<font color=lightseagreen> Com isso, inciamos o `loop` de gerações as quais sofrem a seleção dada pela função de máximização difinida em `funcoes.py`, que é responsável por escolher a melhor população a partir do `fitness` de cada uma, o cruzamento, que trabalha a parte de mistura de genes de um indivíduo <i>pai</i> e outro individuo <i>mãe</i> e a mutação que serve para melhorar os genes dos indivíduos. Assim pode ser encontrada a maior distância possível a ser percorrida pelo caixeiro. </font>"
   ]
  },
  {
   "cell_type": "markdown",
   "id": "42fb82ef-9d07-44ea-a28b-f2d90d5d503f",
   "metadata": {},
   "source": [
    "<font color=lightseagreen> Por último, pracisamos de uma maneira de obter o melhor resultado possível para uma maior distância existente. Através do fitness é possível conseguir esse resultado, que para o que queremos no experimento é o maior fitness, determinado por `max(fitness)`. Portanto, por uma condição `if`, o algoritmo deve identificar um `maior_fitness` sendo maior que o `melhor_fitness_ja_visto` e transformar esse novo fitness encontrado no melhor já visto. Juntamente, o maior fitness dado pela função objetiva deveria ser retornado com o indivíduo dado por `posição`. </font>"
   ]
  },
  {
   "cell_type": "code",
   "execution_count": 5,
   "id": "42903cac-ac5c-4b86-af14-f368e792cb2e",
   "metadata": {},
   "outputs": [],
   "source": [
    "# Busca por algoritmo genético\n",
    "\n",
    "# nomeando a população inicial\n",
    "populacao = cria_pop_inicial(TAMANHO_POP, CIDADES)\n",
    "\n",
    "melhor_fitness_ja_visto = -float(\"inf\")  # é assim que escrevemos infinito em python\n",
    "\n",
    "for n in range(NUM_GERACOES):\n",
    "    \n",
    "    # Seleção (maximização)\n",
    "    fitness = func_obj_pop(populacao)\n",
    "    populacao = funcao_selecao(populacao, fitness)\n",
    "    \n",
    "    # Cruzamento\n",
    "    pais = populacao[0::2]\n",
    "    maes = populacao[1::2]\n",
    "    \n",
    "    contador = 0\n",
    "    \n",
    "    for pai, mae in zip(pais, maes):\n",
    "        if random.random() <= CHANCE_CRUZAMENTO:\n",
    "            filho1, filho2 = funcao_cruzamento(pai, mae)\n",
    "            populacao[contador] = filho1\n",
    "            populacao[contador + 1] = filho2\n",
    "        \n",
    "        contador = contador + 2   \n",
    "        \n",
    "    # Mutação\n",
    "    for n in range(len(populacao)):\n",
    "        if random.random() <= CHANCE_MUTACAO:\n",
    "            individuo = populacao[n]\n",
    "            populacao[n] = funcao_mutacao(individuo)            \n",
    "            \n",
    "    # melhor individuo já visto até agora\n",
    "    fitness = func_obj_pop(populacao)\n",
    "    maior_fitness = max(fitness)\n",
    "    if maior_fitness > melhor_fitness_ja_visto:        \n",
    "        posicao = fitness.index(maior_fitness)\n",
    "        melhor_individuo_ja_visto = populacao[posicao]\n",
    "        melhor_fitness_ja_visto = maior_fitness  "
   ]
  },
  {
   "cell_type": "markdown",
   "id": "92e5bea9-2c1c-4d9a-8b21-06835988061c",
   "metadata": {},
   "source": [
    "<font color=lightseagreen> Podemos realizar a mesma busca feita pelo algoritmo, porém por método de permutação dada pelo módulo `itertools`, permitindo a comparação dos resultados entre o algoritmo e a busca exaustiva. </font>"
   ]
  },
  {
   "cell_type": "code",
   "execution_count": 6,
   "id": "90123d1e-8976-4da7-9f41-bbd7fba52de5",
   "metadata": {},
   "outputs": [],
   "source": [
    "# Busca testando todas as permutações\n",
    "\n",
    "melhor_fitness_ever = -float(\"inf\") # definindo infinito\n",
    "\n",
    "# testando todas as permutações possíveis\n",
    "for caminho in permutations(list(CIDADES.keys())):\n",
    "    distancia = func_obj_individuo(caminho)\n",
    "    if distancia > melhor_fitness_ever:\n",
    "        melhor_fitness_ever = distancia\n",
    "        melhor_resposta_ever = caminho"
   ]
  },
  {
   "cell_type": "markdown",
   "id": "a0629219-8903-4ef4-aedc-43f6258162e7",
   "metadata": {},
   "source": [
    "<font color=lightseagreen> Retornado os resultados obtidos pelo algoritmo genético acima.\n",
    "</font>"
   ]
  },
  {
   "cell_type": "code",
   "execution_count": 7,
   "id": "8c27b361-a38f-478f-83df-29036cefc1f2",
   "metadata": {},
   "outputs": [
    {
     "name": "stdout",
     "output_type": "stream",
     "text": [
      "\n",
      "Melhor individuo obtido por algoritmos genéticos:\n",
      "['Cidade 0', 'Cidade 2', 'Cidade 1', 'Cidade 3', 'Cidade 4'] com distância: 4.529679119434481\n",
      "\n",
      "Melhor individuo obtido por busca exaustiva:\n",
      "('Cidade 0', 'Cidade 3', 'Cidade 1', 'Cidade 2', 'Cidade 4') com distância: 4.529679119434481\n"
     ]
    }
   ],
   "source": [
    "# Checando os resultados\n",
    "\n",
    "print()\n",
    "print(\"Melhor individuo obtido por algoritmos genéticos:\")\n",
    "print(melhor_individuo_ja_visto, \"com distância:\", melhor_fitness_ja_visto)\n",
    "\n",
    "print()\n",
    "print(\"Melhor individuo obtido por busca exaustiva:\")\n",
    "print(melhor_resposta_ever, \"com distância:\", melhor_fitness_ever)"
   ]
  },
  {
   "cell_type": "markdown",
   "id": "08194145-1bc7-4aa8-994d-329a4822553a",
   "metadata": {},
   "source": [
    "<font color=lightseagreen> Como possível ver, os valores de melhores fitness retornados por cada busca são exatamente iguais, com uma pequena diferença entre os indíviduos, os quais possuem ordem de cidades (genes) distintas. </font>"
   ]
  },
  {
   "cell_type": "markdown",
   "id": "08eb4734-7a72-4de0-86fd-24bc668854bb",
   "metadata": {},
   "source": [
    "### Representação gráfica"
   ]
  },
  {
   "cell_type": "markdown",
   "id": "0b0e8934-0caf-49e9-9435-d347a83a2fd4",
   "metadata": {},
   "source": [
    "<font color=lightseagreen> \n",
    "Finalizando o experimento, montemos o grafo que mostra a maior distância encontrada pelo algoritmo genético a partir da posição das cidades dentro do indivíduo retornado, ao que o argumento `cidades` é recebido pelas duas funções objetivas. A partir dessa imagem, podemos analisar o caminho percorrido pelo caixeiro:\n",
    "    <ul>\n",
    "        <li> Ele sai da 'Cidade 0' e segue para a 'Cidade 2'; </li>\n",
    "        <li> Sainda da 'Cidade 2' ele vai em direção a 'Cidade 1'; </li>\n",
    "        <li> Passando pela 'Cidade 1' ele resolve ir para a 'Cidade 3'; </li>\n",
    "        <li> Por fim, ele chega à 'Cidade 4' </li>\n",
    "        <li> De lá, ele retorna para a cidade de onde veio, 'Cidade 0' </li>\n",
    "    </ul>\n",
    "Vemos aqui, que o caixeiro realmente passou por um caminho desnecessáriamente longo.\n",
    "</font>"
   ]
  },
  {
   "cell_type": "code",
   "execution_count": 8,
   "id": "c0cad811-0ccc-4067-9a0b-c6220202c0ec",
   "metadata": {},
   "outputs": [
    {
     "data": {
      "image/png": "[encoded data removed]",
      "text/plain": [
       "<Figure size 432x288 with 1 Axes>"
      ]
     },
     "metadata": {},
     "output_type": "display_data"
    }
   ],
   "source": [
    "# montando o grafo\n",
    "import networkx as nx\n",
    "\n",
    "G = nx.Graph()\n",
    "\n",
    "for cidade in cidades:    \n",
    "    x = cidades[cidade][0]\n",
    "    y = cidades[cidade][1]\n",
    "    G.add_node(cidade, pos=(x, y))\n",
    "    \n",
    "pos = nx.get_node_attributes(G, 'pos')\n",
    "    \n",
    "nx.draw(G, pos, with_labels=True)"
   ]
  },
  {
   "cell_type": "markdown",
   "id": "1cd0afe7-e348-4297-bf72-895991361f46",
   "metadata": {},
   "source": [
    "### Conclusão"
   ]
  },
  {
   "cell_type": "markdown",
   "id": "7a13d7de-6ae9-4f3b-80ad-cb495b359500",
   "metadata": {},
   "source": [
    "Este desafio passado para resolução, foi proposto com o intuito de utilizar dos aprendizados das aulas para resolver um problema presente na lista de experimentos, presente nesta mesma pasta. Da mesma forma que o experimento A.06 foi resolvido na aula anterior, este aqui se utiliza das mesmas ideias, porém com leves modificações que fazem bastante diferença. Os módulos requeridos para o experimento eram: `permutations` de `itertools` e `random`.\n",
    "\n",
    "Com o objetivo de encontrar o maior caminho a ser percorrido pelo caixeiro, o algoritmo agora deve selecionar apenas os indivíduos que utilizam a maior distância para fazer sua viagem do nosso amigo sem consciência, passando por todas as cidades, conforme suas gerações vão passando. Importante ressaltar que os valores de melhor indivíduo obtido sempre darão valores diferentes a cada vez que o código for rodado, já que cidades e caminhos novos são recriados para cada vez que o algoritmo rodar. As mudanças realizadas no código foram poucas, comparados ao caixeiro com distância mínima, uma vez que bastou inverter os sinais de \"menor que\" e do `float` infinito, além de mandar o algoritmo buscar o fitness máximo em `max(fitness)`.\n",
    "\n",
    "Por fim, também foi feita uma análise com relação à busca exaustiva para ver se os valores obtidos eram iguais. \n",
    "\n",
    "**OBS:** Antes de modificar o `min(fitness)` para `max(fitness)`, os valores ficavam diferentes."
   ]
  },
  {
   "cell_type": "code",
   "execution_count": null,
   "id": "f7241169-440b-4162-97f5-7eafee43eafe",
   "metadata": {},
   "outputs": [],
   "source": []
  }
 ],
 "metadata": {
  "kernelspec": {
   "display_name": "ilumpy",
   "language": "python",
   "name": "ilumpy"
  },
  "language_info": {
   "codemirror_mode": {
    "name": "ipython",
    "version": 3
   },
   "file_extension": ".py",
   "mimetype": "text/x-python",
   "name": "python",
   "nbconvert_exporter": "python",
   "pygments_lexer": "ipython3",
   "version": "3.9.7"
  }
 },
 "nbformat": 4,
 "nbformat_minor": 5
}
