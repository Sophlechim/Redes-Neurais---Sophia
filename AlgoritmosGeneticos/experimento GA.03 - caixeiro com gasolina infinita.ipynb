{
 "cells": [
  {
   "cell_type": "markdown",
   "id": "29d068e0-16d8-4600-8c80-062135749b2c",
   "metadata": {
    "tags": []
   },
   "source": [
    "# O caixeiro com gasolina infinita\n",
    "### (e sem consciência)"
   ]
  },
  {
   "cell_type": "markdown",
   "id": "23f670ec-21f8-4345-b39d-1ad8ca90e8b4",
   "metadata": {},
   "source": [
    "**Experimento da Lista de experimentos disponibilizada no github**"
   ]
  },
  {
   "cell_type": "markdown",
   "id": "59f3c16d-064d-4034-b95b-a62cfb4d2095",
   "metadata": {},
   "source": [
    "## Introdução\n",
    "\n",
    "Para esse experimento dado como desafio, vemos `o caixeiro viajante`, resolvido anteriormente no experimento A.06, porém agora ele agora vai segui pelo maior caminho possível entre as cidades que ele passará. \n",
    "\n",
    "Nesse sentido, agora é necessário que seja encontrada a maior distância entre que o caixeiro deve percorrer para passar dentre todas as cidades para que ele retorne ao seu ponto incial, ou cidade de partida.\n",
    "\n",
    "Daí que vem o nome do problema. Esse caixeiro realmente não é nem um pouco consciente de suas ações e o que elas podem causar ao meio ambiente!!!\n",
    "\n",
    "## Objetivo: \n",
    "\n",
    "Encontrar o caminho de *maior* distância no problema do caixeiro viajante e mostrar ele de forma gráfica. Serão consideradas 5 cidades e nenhuma delas pode ser visitada novamente.\n",
    "\n",
    "**Considerações a se fazer:** Considere um número $n\\geq 7$ de coordenadas $(x,y)$ de cidades e que o caixeiro tenha combustível infinito. Você pode gerar as coordenadas de forma aleatória ou simplesmente usar as coordenadas que desejar. O caixeiro só anda em linha reta e apenas entre duas cidades. O caixeiro começa e termina seu trajeto na mesma cidade e, fora a cidade inicial, ele não visita nenhuma outra cidade mais de uma vez."
   ]
  },
  {
   "cell_type": "markdown",
   "id": "e2dde50f-3e09-4432-8f88-7e43936c418c",
   "metadata": {},
   "source": [
    "### Importações"
   ]
  },
  {
   "cell_type": "code",
   "execution_count": 1,
   "id": "470e19dd-911d-49f4-b7d8-c88ae11e1236",
   "metadata": {},
   "outputs": [],
   "source": [
    "import random\n",
    "from itertools import permutations\n",
    "\n",
    "from funcoes import cria_cidades\n",
    "from funcoes import populacao_inicial_cv as cria_pop_inicial\n",
    "from funcoes import funcao_objetivo_pop_cv\n",
    "from funcoes import funcao_objetivo_cv\n",
    "from funcoes import selecao_torneio_max as funcao_selecao   # já temos\n",
    "from funcoes import cruzamento_ordenado as funcao_cruzamento\n",
    "from funcoes import mutacao_de_troca as funcao_mutacao"
   ]
  },
  {
   "cell_type": "markdown",
   "id": "caf234f7-e413-486b-9299-7904929ad149",
   "metadata": {},
   "source": [
    "### Códigos e Discussão"
   ]
  },
  {
   "cell_type": "code",
   "execution_count": 2,
   "id": "3427f9f4-c141-4fac-ba59-cc4f5f8ba074",
   "metadata": {},
   "outputs": [
    {
     "data": {
      "text/plain": [
       "['Cidade 2', 'Cidade 0', 'Cidade 1', 'Cidade 3', 'Cidade 4']"
      ]
     },
     "execution_count": 2,
     "metadata": {},
     "output_type": "execute_result"
    }
   ],
   "source": [
    "cidades = cria_cidades(5)\n",
    "\n",
    "cidades\n",
    "\n",
    "nomes = list(cidades.keys())\n",
    "nomes\n",
    "random.shuffle(nomes)\n",
    "nomes"
   ]
  },
  {
   "cell_type": "code",
   "execution_count": 3,
   "id": "baf3fe35-313e-40b6-87d9-cb2ad513d107",
   "metadata": {},
   "outputs": [],
   "source": [
    "### CONSTANTES\n",
    "\n",
    "# relacionadas à busca\n",
    "TAMANHO_POP = 50\n",
    "NUM_GERACOES = 3000\n",
    "CHANCE_CRUZAMENTO = 0.5\n",
    "CHANCE_MUTACAO = 0.05\n",
    "NUM_COMBATENTES_NO_TORNEIO = 3\n",
    "\n",
    "# relacionadas ao problema a ser resolvido\n",
    "NUM_CIDADES = 5\n",
    "CIDADES = cria_cidades(NUM_CIDADES)"
   ]
  },
  {
   "cell_type": "code",
   "execution_count": 4,
   "id": "df3e2f0a-8592-4788-9ac3-7f93f5b70e99",
   "metadata": {},
   "outputs": [],
   "source": [
    "# Funções locais\n",
    "\n",
    "def func_obj_pop(populacao):\n",
    "    return funcao_objetivo_pop_cv(populacao, CIDADES)\n",
    "\n",
    "def func_obj_individuo(individuo):\n",
    "    return funcao_objetivo_cv(individuo, CIDADES)"
   ]
  },
  {
   "cell_type": "code",
   "execution_count": 5,
   "id": "42903cac-ac5c-4b86-af14-f368e792cb2e",
   "metadata": {},
   "outputs": [],
   "source": [
    "# Busca por algoritmo genético\n",
    "\n",
    "populacao = cria_pop_inicial(TAMANHO_POP, CIDADES)\n",
    "\n",
    "melhor_fitness_ja_visto = -float(\"inf\")  # é assim que escrevemos infinito em python\n",
    "\n",
    "for n in range(NUM_GERACOES):\n",
    "    \n",
    "    # Seleção\n",
    "    fitness = func_obj_pop(populacao)\n",
    "    populacao = funcao_selecao(populacao, fitness)\n",
    "    \n",
    "    # Cruzamento\n",
    "    pais = populacao[0::2]\n",
    "    maes = populacao[1::2]\n",
    "    \n",
    "    contador = 0\n",
    "    \n",
    "    for pai, mae in zip(pais, maes):\n",
    "        if random.random() <= CHANCE_CRUZAMENTO:\n",
    "            filho1, filho2 = funcao_cruzamento(pai, mae)\n",
    "            populacao[contador] = filho1\n",
    "            populacao[contador + 1] = filho2\n",
    "        \n",
    "        contador = contador + 2   \n",
    "        \n",
    "    # Mutação\n",
    "    for n in range(len(populacao)):\n",
    "        if random.random() <= CHANCE_MUTACAO:\n",
    "            individuo = populacao[n]\n",
    "            populacao[n] = funcao_mutacao(individuo)            \n",
    "            \n",
    "    # melhor individuo já visto até agora\n",
    "    fitness = func_obj_pop(populacao)\n",
    "    maior_fitness = max(fitness)\n",
    "    if maior_fitness > melhor_fitness_ja_visto:        \n",
    "        posicao = fitness.index(maior_fitness)\n",
    "        melhor_individuo_ja_visto = populacao[posicao]\n",
    "        melhor_fitness_ja_visto = maior_fitness  "
   ]
  },
  {
   "cell_type": "code",
   "execution_count": 6,
   "id": "90123d1e-8976-4da7-9f41-bbd7fba52de5",
   "metadata": {},
   "outputs": [],
   "source": [
    "# Busca testando todas as permutações\n",
    "\n",
    "melhor_fitness_ever = -float(\"inf\")\n",
    "\n",
    "# testando todas as permutações possíveis\n",
    "for caminho in permutations(list(CIDADES.keys())):\n",
    "    distancia = func_obj_individuo(caminho)\n",
    "    if distancia > melhor_fitness_ever:\n",
    "        melhor_fitness_ever = distancia\n",
    "        melhor_resposta_ever = caminho"
   ]
  },
  {
   "cell_type": "code",
   "execution_count": 7,
   "id": "8c27b361-a38f-478f-83df-29036cefc1f2",
   "metadata": {},
   "outputs": [
    {
     "name": "stdout",
     "output_type": "stream",
     "text": [
      "\n",
      "Melhor individuo obtido por algoritmos genéticos:\n",
      "['Cidade 0', 'Cidade 2', 'Cidade 1', 'Cidade 3', 'Cidade 4'] com distância: 3.859471909427439\n",
      "\n",
      "Melhor individuo obtido por busca exaustiva:\n",
      "('Cidade 0', 'Cidade 2', 'Cidade 4', 'Cidade 3', 'Cidade 1') com distância: 3.859471909427439\n"
     ]
    }
   ],
   "source": [
    "# Checando os resultados\n",
    "\n",
    "print()\n",
    "print(\"Melhor individuo obtido por algoritmos genéticos:\")\n",
    "print(melhor_individuo_ja_visto, \"com distância:\", melhor_fitness_ja_visto)\n",
    "\n",
    "print()\n",
    "print(\"Melhor individuo obtido por busca exaustiva:\")\n",
    "print(melhor_resposta_ever, \"com distância:\", melhor_fitness_ever)"
   ]
  },
  {
   "cell_type": "markdown",
   "id": "08eb4734-7a72-4de0-86fd-24bc668854bb",
   "metadata": {},
   "source": [
    "### Representação gráfica"
   ]
  },
  {
   "cell_type": "code",
   "execution_count": 12,
   "id": "c0cad811-0ccc-4067-9a0b-c6220202c0ec",
   "metadata": {},
   "outputs": [
    {
     "data": {
      "image/png": "[encoded data removed]",
      "text/plain": [
       "<Figure size 432x288 with 1 Axes>"
      ]
     },
     "metadata": {},
     "output_type": "display_data"
    }
   ],
   "source": [
    "# montando o grafo\n",
    "G = nx.Graph()\n",
    "\n",
    "for cidade in cidades:    \n",
    "    x = cidades[cidade][0]\n",
    "    y = cidades[cidade][1]\n",
    "    G.add_node(cidade, pos=(x, y))\n",
    "    \n",
    "pos = nx.get_node_attributes(G, 'pos')\n",
    "    \n",
    "nx.draw(G, pos, with_labels=True)"
   ]
  },
  {
   "cell_type": "markdown",
   "id": "1cd0afe7-e348-4297-bf72-895991361f46",
   "metadata": {},
   "source": [
    "### Conclusão"
   ]
  },
  {
   "cell_type": "markdown",
   "id": "7a13d7de-6ae9-4f3b-80ad-cb495b359500",
   "metadata": {},
   "source": [
    "Este desafio passado para resolução, foi proposto com o intuito de utilizar dos aprendizados das aulas para resolver um problema presente na lista de experimentos, presente nesta mesma pasta. Da mesma forma que o experimento A.06 foi resolvido na aula anterior, este aqui se utiliza das mesmas ideias, porém com leves modificações que fazem bastante diferença. Os módulos requeridos para o experimento eram: `permutations` de `itertools` e `random`.\n",
    "\n",
    "Com o objetivo de encontrar o maior caminho a ser percorrido pelo caixeiro, o algoritmo agora deve selecionar apenas os indivíduos que utilizam a maior distância para fazer sua viagem do nosso amigo sem consciência, passando por todas as cidades, conforme suas gerações vão passando. Importante ressaltar que os valores de melhor indivíduo obtido sempre darão valores diferentes a cada vez que o código for rodado, já que cidades e caminhos novos são recriados para cada vez que o algoritmo rodar. As mudanças realizadas no código foram poucas, comparados ao caixeiro com distância mínima, uma vez que bastou inverter os sinais de \"menor que\" e do `float` infinito, além de mandar o algoritmo buscar o fitness máximo em `max(fitness)`.\n",
    "\n",
    "Por fim, também foi feita uma análise com relação à busca exaustiva para ver se os valores obtidos eram iguais. \n",
    "\n",
    "**OBS:** Antes de modificar o `min(fitness)` para `max(fitness)`, os valores ficavam diferentes."
   ]
  },
  {
   "cell_type": "code",
   "execution_count": null,
   "id": "f7241169-440b-4162-97f5-7eafee43eafe",
   "metadata": {},
   "outputs": [],
   "source": []
  }
 ],
 "metadata": {
  "kernelspec": {
   "display_name": "ilumpy",
   "language": "python",
   "name": "ilumpy"
  },
  "language_info": {
   "codemirror_mode": {
    "name": "ipython",
    "version": 3
   },
   "file_extension": ".py",
   "mimetype": "text/x-python",
   "name": "python",
   "nbconvert_exporter": "python",
   "pygments_lexer": "ipython3",
   "version": "3.9.7"
  }
 },
 "nbformat": 4,
 "nbformat_minor": 5
}
